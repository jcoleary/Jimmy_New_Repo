{
 "cells": [
  {
   "cell_type": "code",
   "execution_count": 1,
   "metadata": {
    "collapsed": true
   },
   "outputs": [],
   "source": [
    "import pandas as pd\n",
    "import numpy as np\n",
    "import matplotlib.pyplot as plt\n",
    "import seaborn as sns\n",
    "from datetime import datetime, timedelta\n",
    "from gensim import corpora, models, matutils\n",
    "from sklearn.feature_extraction.text import CountVectorizer, TfidfVectorizer\n",
    "from collections import defaultdict\n",
    "from fastdtw import fastdtw\n",
    "%matplotlib inline"
   ]
  },
  {
   "cell_type": "code",
   "execution_count": 2,
   "metadata": {
    "collapsed": true
   },
   "outputs": [],
   "source": [
    "def dateconverter(value): \n",
    "    s= str(value)\n",
    "    Date=datetime.strptime(value, '%m/%d/%y')\n",
    "    return Date"
   ]
  },
  {
   "cell_type": "code",
   "execution_count": 3,
   "metadata": {
    "collapsed": true
   },
   "outputs": [],
   "source": [
    "def get_countydict(df):\n",
    "    Counties={}\n",
    "    for value in df.County.unique():\n",
    "        Counties[value]=df.loc[df['County'] == value]\n",
    "    return Counties"
   ]
  },
  {
   "cell_type": "markdown",
   "metadata": {},
   "source": [
    "This section is EDA and cleaning of all drought severity data dealing with California."
   ]
  },
  {
   "cell_type": "code",
   "execution_count": 4,
   "metadata": {
    "collapsed": true
   },
   "outputs": [],
   "source": [
    "CA_SEV_DATA1=pd.read_csv('datasets/California_Drought_Severity_By_County_1997-2002.csv')\n",
    "CA_SEV_DATA2=pd.read_csv('datasets/California_Drought_Severity_By_County_2002-2007.csv')\n",
    "CA_SEV_DATA3=pd.read_csv('datasets/California_Drought_Severity_By_County_2007-2012.csv')\n",
    "CA_SEV_DATA4=pd.read_csv('datasets/California_Drought_Severity_By_County_2012-2017.csv')"
   ]
  },
  {
   "cell_type": "code",
   "execution_count": 5,
   "metadata": {},
   "outputs": [
    {
     "data": {
      "text/plain": [
       "(94219, 12)"
      ]
     },
     "execution_count": 5,
     "metadata": {},
     "output_type": "execute_result"
    }
   ],
   "source": [
    "California_Severity_Data=pd.concat([CA_SEV_DATA1,CA_SEV_DATA2,CA_SEV_DATA3,CA_SEV_DATA4],axis=0)\n",
    "California_Severity_Data.shape"
   ]
  },
  {
   "cell_type": "code",
   "execution_count": 6,
   "metadata": {
    "collapsed": true
   },
   "outputs": [],
   "source": [
    "California_Severity_Data.rename(columns={'Name': 'County'}, inplace=True)"
   ]
  },
  {
   "cell_type": "code",
   "execution_count": 7,
   "metadata": {
    "collapsed": true
   },
   "outputs": [],
   "source": [
    "CA_SEV_Dates=pd.DataFrame(California_Severity_Data.ReleaseDate.apply(dateconverter))"
   ]
  },
  {
   "cell_type": "code",
   "execution_count": 8,
   "metadata": {
    "collapsed": true
   },
   "outputs": [],
   "source": [
    "California_Severity_Data.ReleaseDate=CA_SEV_Dates.ReleaseDate"
   ]
  },
  {
   "cell_type": "code",
   "execution_count": 9,
   "metadata": {
    "collapsed": true
   },
   "outputs": [],
   "source": [
    "CA_years=[]\n",
    "for value in California_Severity_Data['ReleaseDate']:\n",
    "    CA_years.append(value.year)"
   ]
  },
  {
   "cell_type": "code",
   "execution_count": 10,
   "metadata": {
    "collapsed": true
   },
   "outputs": [],
   "source": [
    "CAyearsdf=pd.DataFrame(data=CA_years)"
   ]
  },
  {
   "cell_type": "code",
   "execution_count": 11,
   "metadata": {
    "collapsed": true
   },
   "outputs": [],
   "source": [
    "CAyearsdf.rename(columns={0: 'Years'}, inplace=True)"
   ]
  },
  {
   "cell_type": "code",
   "execution_count": 12,
   "metadata": {
    "collapsed": true
   },
   "outputs": [],
   "source": [
    "California_Severity_Data = California_Severity_Data.reset_index(drop=True)"
   ]
  },
  {
   "cell_type": "code",
   "execution_count": 13,
   "metadata": {
    "collapsed": true
   },
   "outputs": [],
   "source": [
    "California_Severity_Data['Year']=CAyearsdf['Years']"
   ]
  },
  {
   "cell_type": "code",
   "execution_count": 14,
   "metadata": {
    "collapsed": true
   },
   "outputs": [],
   "source": [
    "California_Severity_Data.sort_values(by='ReleaseDate',ascending=True,inplace=True)"
   ]
  },
  {
   "cell_type": "code",
   "execution_count": 15,
   "metadata": {
    "collapsed": true
   },
   "outputs": [],
   "source": [
    "California_Severity_Data.drop(['Id','PercentChangeFromWAve',\n",
    "                             'AreaChangeFromWAve','StatisticFormatID'],axis=1,\n",
    "                             inplace=True)"
   ]
  },
  {
   "cell_type": "code",
   "execution_count": 16,
   "metadata": {
    "collapsed": true
   },
   "outputs": [],
   "source": [
    "California=get_countydict(California_Severity_Data)"
   ]
  },
  {
   "cell_type": "code",
   "execution_count": 17,
   "metadata": {},
   "outputs": [
    {
     "name": "stderr",
     "output_type": "stream",
     "text": [
      "/home/ec2-user/anaconda3/lib/python3.6/site-packages/ipykernel_launcher.py:61: SettingWithCopyWarning: \n",
      "A value is trying to be set on a copy of a slice from a DataFrame.\n",
      "Try using .loc[row_indexer,col_indexer] = value instead\n",
      "\n",
      "See the caveats in the documentation: http://pandas.pydata.org/pandas-docs/stable/indexing.html#indexing-view-versus-copy\n"
     ]
    }
   ],
   "source": [
    "CABioregiondict={'Sierra County':'Sierra',\n",
    "               'Amador County':'Sierra',\n",
    "               'Placer County':'Sierra',\n",
    "               'Alpine County':'Sierra',\n",
    "               'Santa Clara County':'Bay/Delta',\n",
    "               'Yolo County':'Sacramento Valley',\n",
    "               'Mono County':'Sierra',\n",
    "               'Ventura County':'Central Coast',\n",
    "               'Modoc County':'Modoc',\n",
    "               'Napa County':'Bay/Delta',\n",
    "               'San Luis Obispo County':'Central Coast',\n",
    "               'Los Angeles County':'South Coast',\n",
    "               'Contra Costa County':'Bay/Delta',\n",
    "               'Yuba County':'Sacramento Valley',\n",
    "               'Solano County':'Bay/Delta', \n",
    "               'Del Norte County':'Klamath/North Coast',\n",
    "               'Riverside County':'Mojave',\n",
    "               'Monterey County':'Central Coast',\n",
    "               'Plumas County':'Sierra',\n",
    "               'San Francisco County':'Bay/Delta',\n",
    "               'Mariposa County':'Sierra',\n",
    "               'Shasta County':'Sacramento Valley',\n",
    "               'Santa Cruz County':'Central Coast',\n",
    "               'Tehama County':'Sacramento Valley',\n",
    "               'Imperial County':'Colorado Desert',\n",
    "               'Siskiyou County':'Klamath/North Coast',\n",
    "               'El Dorado County':'Sierra',\n",
    "               'Mendocino County':'Klamath/North Coast',\n",
    "               'Fresno County':'San Joaquin Valley',\n",
    "               'San Bernardino County':'Mojave',\n",
    "               'San Joaquin County':'San Joaquin Valley',\n",
    "               'Tulare County':'San Joaquin Valley',\n",
    "               'Alameda County':'Bay/Delta',\n",
    "               'Kings County':'San Joaquin Valley',\n",
    "               'Butte County':'Sacramento Valley',\n",
    "               'Merced County':'San Joaquin Valley',\n",
    "               'Sacramento County':'Sacramento Valley',\n",
    "               'Tuolumne County':'Sierra',\n",
    "               'Sonoma County':'Bay/Delta',\n",
    "               'Santa Barbara County':'Central Coast',\n",
    "               'Madera County':'San Joaquin Valley',\n",
    "               'Lassen County':'Modoc',\n",
    "               'Glenn County':'Sacramento Valley',\n",
    "               'Sutter County':'Sacramento Valley',\n",
    "               'San Diego County':'South Coast',\n",
    "               'Lake County':'Klamath/North Coast',\n",
    "               'Nevada County':'Sierra',\n",
    "               'Trinity County':'Klamath/North Coast',\n",
    "               'Inyo County':'Sierra',\n",
    "               'San Mateo County':'Bay/Delta',\n",
    "               'Orange County':'South Coast',\n",
    "               'Humboldt County':'Klamath/North Coast',\n",
    "               'Colusa County':'Sacramento Valley',\n",
    "               'Calaveras County':'Sierra',\n",
    "               'Kern County':'San Joaquin Valley',\n",
    "               'San Benito County':'Central Coast',\n",
    "               'Marin County':'Bay/Delta',\n",
    "               'Stanislaus County':'San Joaquin Valley'\n",
    "              }\n",
    "for key, value in CABioregiondict.items():\n",
    "    California[key]['Bioregion']=value"
   ]
  },
  {
   "cell_type": "code",
   "execution_count": 18,
   "metadata": {
    "collapsed": true,
    "scrolled": false
   },
   "outputs": [],
   "source": [
    "DTWvalues={}\n",
    "for value in California.keys():\n",
    "    if value=='Fresno County':\n",
    "        continue\n",
    "    else:\n",
    "        test_list=fastdtw(California[value].USDMLevelID,\n",
    "        California['Fresno County'].USDMLevelID)\n",
    "        DTWvalues[value]=test_list[0]\n",
    "    #test_list2=test_list[1:]\n",
    "   # x = []; y=[]\n",
    "    #for point in test_list2[0]:\n",
    "       # x.append(point[0])\n",
    "        #y.append(point[1])\n",
    "    #plt.figure()\n",
    "   # plt.scatter(x,y)"
   ]
  },
  {
   "cell_type": "code",
   "execution_count": 19,
   "metadata": {
    "collapsed": true
   },
   "outputs": [],
   "source": [
    "DTWvalues={}\n",
    "for value in California.keys():\n",
    "    if value=='Fresno County':\n",
    "        continue\n",
    "    else:\n",
    "        test_list=fastdtw(California[value].USDMLevelID,\n",
    "        California['Fresno County'].USDMLevelID)\n",
    "        DTWvalues[value]=test_list[0]"
   ]
  },
  {
   "cell_type": "code",
   "execution_count": 20,
   "metadata": {
    "collapsed": true
   },
   "outputs": [],
   "source": [
    "DTWvalues2={}\n",
    "for value in California.keys():\n",
    "    if value=='Tulare County':\n",
    "        continue\n",
    "    else:\n",
    "        test_list=fastdtw(California[value].USDMLevelID,\n",
    "        California['Tulare County'].USDMLevelID)\n",
    "        DTWvalues2[value]=test_list[0]"
   ]
  },
  {
   "cell_type": "code",
   "execution_count": 21,
   "metadata": {
    "collapsed": true
   },
   "outputs": [],
   "source": [
    "DTWvalues3={}\n",
    "for value in California.keys():\n",
    "    if value=='Monterey County':\n",
    "        continue\n",
    "    else:\n",
    "        test_list=fastdtw(California[value].USDMLevelID,\n",
    "        California['Monterey County'].USDMLevelID)\n",
    "        DTWvalues3[value]=test_list[0]"
   ]
  },
  {
   "cell_type": "markdown",
   "metadata": {
    "collapsed": true
   },
   "source": [
    "'Merced County',\n",
    "'Stanislaus County',\n",
    "'San Joaquin County',\n",
    "'Ventura County',\n",
    "'',\n",
    "'Imperial County'"
   ]
  },
  {
   "cell_type": "code",
   "execution_count": 22,
   "metadata": {
    "collapsed": true
   },
   "outputs": [],
   "source": [
    "#test_list2"
   ]
  },
  {
   "cell_type": "code",
   "execution_count": 23,
   "metadata": {
    "collapsed": true
   },
   "outputs": [],
   "source": [
    "DTWvalues4={}\n",
    "for value in California.keys():\n",
    "    if value=='Kern County':\n",
    "        continue\n",
    "    else:\n",
    "        test_list=fastdtw(California[value].USDMLevelID,\n",
    "        California['Kern County'].USDMLevelID)\n",
    "        DTWvalues4[value]=test_list[0]"
   ]
  },
  {
   "cell_type": "code",
   "execution_count": 24,
   "metadata": {
    "collapsed": true
   },
   "outputs": [],
   "source": [
    "DTWvalues5={}\n",
    "for value in California.keys():\n",
    "    if value=='Merced County':\n",
    "        continue\n",
    "    else:\n",
    "        test_list=fastdtw(California[value].USDMLevelID,\n",
    "        California['Merced County'].USDMLevelID)\n",
    "        DTWvalues5[value]=test_list[0]"
   ]
  },
  {
   "cell_type": "code",
   "execution_count": 25,
   "metadata": {
    "collapsed": true
   },
   "outputs": [],
   "source": [
    "DTWvalues6={}\n",
    "for value in California.keys():\n",
    "    if value=='Stanislaus County':\n",
    "        continue\n",
    "    else:\n",
    "        test_list=fastdtw(California[value].USDMLevelID,\n",
    "        California['Stanislaus County'].USDMLevelID)\n",
    "        DTWvalues6[value]=test_list[0]\n",
    "    "
   ]
  },
  {
   "cell_type": "code",
   "execution_count": 26,
   "metadata": {
    "collapsed": true
   },
   "outputs": [],
   "source": [
    "DTWvalues7={}\n",
    "for value in California.keys():\n",
    "    if value=='San Joaquin County':\n",
    "        continue\n",
    "    else:\n",
    "        test_list=fastdtw(California[value].USDMLevelID,\n",
    "        California['San Joaquin County'].USDMLevelID)\n",
    "        DTWvalues7[value]=test_list[0]"
   ]
  },
  {
   "cell_type": "code",
   "execution_count": 27,
   "metadata": {
    "collapsed": true
   },
   "outputs": [],
   "source": [
    "DTWvalues8={}\n",
    "for value in California.keys():\n",
    "    if value=='Ventura County':\n",
    "        continue\n",
    "    else:\n",
    "        test_list=fastdtw(California[value].USDMLevelID,\n",
    "        California['Ventura County'].USDMLevelID)\n",
    "        DTWvalues8[value]=test_list[0]"
   ]
  },
  {
   "cell_type": "code",
   "execution_count": 28,
   "metadata": {
    "collapsed": true
   },
   "outputs": [],
   "source": [
    "Cali_Keys=California.keys()\n"
   ]
  },
  {
   "cell_type": "code",
   "execution_count": 29,
   "metadata": {},
   "outputs": [
    {
     "data": {
      "text/plain": [
       "dict_keys(['Alameda County', 'Monterey County', 'Napa County', 'Nevada County', 'Orange County', 'Placer County', 'Plumas County', 'Mono County', 'Riverside County', 'Alpine County', 'San Benito County', 'San Bernardino County', 'San Diego County', 'San Joaquin County', 'San Luis Obispo County', 'Sacramento County', 'Modoc County', 'Merced County', 'Mariposa County', 'Butte County', 'Calaveras County', 'Colusa County', 'Contra Costa County', 'El Dorado County', 'Fresno County', 'Glenn County', 'Imperial County', 'Inyo County', 'Kern County', 'Kings County', 'Lake County', 'Lassen County', 'Los Angeles County', 'Madera County', 'Santa Barbara County', 'Santa Clara County', 'Amador County', 'Solano County', 'Stanislaus County', 'Tehama County', 'Sutter County', 'Tuolumne County', 'Sonoma County', 'Ventura County', 'Yuba County', 'Yolo County', 'Tulare County', 'Mendocino County', 'Shasta County', 'Sierra County', 'Siskiyou County', 'Humboldt County', 'Trinity County', 'Del Norte County', 'Marin County', 'San Francisco County', 'San Mateo County', 'Santa Cruz County'])"
      ]
     },
     "execution_count": 29,
     "metadata": {},
     "output_type": "execute_result"
    }
   ],
   "source": [
    "Cali_Keys"
   ]
  },
  {
   "cell_type": "code",
   "execution_count": 47,
   "metadata": {
    "collapsed": true
   },
   "outputs": [],
   "source": [
    "DTWvalues9={}\n",
    "for value in California.keys():\n",
    "    if value=='San Diego County':\n",
    "        continue\n",
    "    else:\n",
    "        test_list=fastdtw(California[value].USDMLevelID,\n",
    "        California['San Diego County'].USDMLevelID)\n",
    "        DTWvalues9[value]=test_list[0]"
   ]
  },
  {
   "cell_type": "code",
   "execution_count": 32,
   "metadata": {
    "collapsed": true
   },
   "outputs": [],
   "source": [
    "DTWvalues10={}\n",
    "for value in California.keys():\n",
    "    if value=='Imperial County':\n",
    "        continue\n",
    "    else:\n",
    "        test_list=fastdtw(California[value].USDMLevelID,\n",
    "        California['Imperial County'].USDMLevelID)\n",
    "        DTWvalues10[value]=test_list[0]\n"
   ]
  },
  {
   "cell_type": "code",
   "execution_count": 33,
   "metadata": {},
   "outputs": [
    {
     "name": "stdout",
     "output_type": "stream",
     "text": [
      "Fresno!\n",
      "Imperial County\n",
      "Madera County\n"
     ]
    }
   ],
   "source": [
    "print('Fresno!')\n",
    "print(max(DTWvalues, key=DTWvalues.get))\n",
    "print(min(DTWvalues, key=DTWvalues.get))"
   ]
  },
  {
   "cell_type": "code",
   "execution_count": 34,
   "metadata": {},
   "outputs": [
    {
     "name": "stdout",
     "output_type": "stream",
     "text": [
      "Tulare!\n",
      "San Diego County\n",
      "Madera County\n"
     ]
    }
   ],
   "source": [
    "print('Tulare!')\n",
    "print(max(DTWvalues2, key=DTWvalues2.get))\n",
    "print(min(DTWvalues2, key=DTWvalues2.get))"
   ]
  },
  {
   "cell_type": "code",
   "execution_count": 35,
   "metadata": {},
   "outputs": [
    {
     "name": "stdout",
     "output_type": "stream",
     "text": [
      "Monterey!\n",
      "Modoc County\n",
      "Santa Clara County\n"
     ]
    }
   ],
   "source": [
    "print('Monterey!')\n",
    "print(max(DTWvalues3, key=DTWvalues3.get))\n",
    "print(min(DTWvalues3, key=DTWvalues3.get))"
   ]
  },
  {
   "cell_type": "code",
   "execution_count": 36,
   "metadata": {},
   "outputs": [
    {
     "name": "stdout",
     "output_type": "stream",
     "text": [
      "Kern!\n",
      "Modoc County\n",
      "Tulare County\n"
     ]
    }
   ],
   "source": [
    "print('Kern!')\n",
    "print(max(DTWvalues4, key=DTWvalues4.get))\n",
    "print(min(DTWvalues4, key=DTWvalues4.get))"
   ]
  },
  {
   "cell_type": "code",
   "execution_count": 37,
   "metadata": {},
   "outputs": [
    {
     "name": "stdout",
     "output_type": "stream",
     "text": [
      "Merced!\n",
      "Modoc County\n",
      "Stanislaus County\n"
     ]
    }
   ],
   "source": [
    "print('Merced!')\n",
    "print(max(DTWvalues5, key=DTWvalues5.get))\n",
    "print(min(DTWvalues5, key=DTWvalues5.get))"
   ]
  },
  {
   "cell_type": "code",
   "execution_count": 38,
   "metadata": {},
   "outputs": [
    {
     "name": "stdout",
     "output_type": "stream",
     "text": [
      "Stanislaus!\n",
      "Modoc County\n",
      "Merced County\n"
     ]
    }
   ],
   "source": [
    "print('Stanislaus!')\n",
    "print(max(DTWvalues6, key=DTWvalues6.get))\n",
    "print(min(DTWvalues6, key=DTWvalues6.get))"
   ]
  },
  {
   "cell_type": "code",
   "execution_count": 39,
   "metadata": {},
   "outputs": [
    {
     "name": "stdout",
     "output_type": "stream",
     "text": [
      "San Joaquin!\n",
      "Modoc County\n",
      "Sacramento County\n"
     ]
    }
   ],
   "source": [
    "print('San Joaquin!')\n",
    "print(max(DTWvalues7, key=DTWvalues7.get))\n",
    "print(min(DTWvalues7, key=DTWvalues7.get))"
   ]
  },
  {
   "cell_type": "code",
   "execution_count": 40,
   "metadata": {},
   "outputs": [
    {
     "name": "stdout",
     "output_type": "stream",
     "text": [
      "Ventura!\n",
      "Modoc County\n",
      "Mariposa County\n"
     ]
    }
   ],
   "source": [
    "print('Ventura!')\n",
    "print(max(DTWvalues8, key=DTWvalues8.get))\n",
    "print(min(DTWvalues8, key=DTWvalues8.get))"
   ]
  },
  {
   "cell_type": "code",
   "execution_count": 48,
   "metadata": {},
   "outputs": [
    {
     "name": "stdout",
     "output_type": "stream",
     "text": [
      "San Diego!\n",
      "San Luis Obispo County\n",
      "Lake County\n"
     ]
    }
   ],
   "source": [
    "print('San Diego!')\n",
    "print(max(DTWvalues9, key=DTWvalues9.get))\n",
    "print(min(DTWvalues9, key=DTWvalues9.get))"
   ]
  },
  {
   "cell_type": "code",
   "execution_count": 42,
   "metadata": {},
   "outputs": [
    {
     "name": "stdout",
     "output_type": "stream",
     "text": [
      "Imperial!\n",
      "Kern County\n",
      "Del Norte County\n"
     ]
    }
   ],
   "source": [
    "print('Imperial!')\n",
    "print(max(DTWvalues10, key=DTWvalues10.get))\n",
    "print(min(DTWvalues10, key=DTWvalues10.get))"
   ]
  },
  {
   "cell_type": "code",
   "execution_count": 59,
   "metadata": {
    "collapsed": true
   },
   "outputs": [],
   "source": [
    "SierraDTWvalues={}\n",
    "for value in California.keys():\n",
    "    if value=='Sierra County':\n",
    "        continue\n",
    "    else:\n",
    "        test_list=fastdtw(California[value].USDMLevelID,\n",
    "        California['Sierra County'].USDMLevelID)\n",
    "        SierraDTWvalues[value]=test_list[0]"
   ]
  },
  {
   "cell_type": "code",
   "execution_count": 60,
   "metadata": {
    "collapsed": true
   },
   "outputs": [],
   "source": [
    "SierraDTWvalues2={}\n",
    "for value in California.keys():\n",
    "    if value=='Amador County':\n",
    "        continue\n",
    "    else:\n",
    "        test_list=fastdtw(California[value].USDMLevelID,\n",
    "        California['Amador County'].USDMLevelID)\n",
    "        SierraDTWvalues2[value]=test_list[0]"
   ]
  },
  {
   "cell_type": "code",
   "execution_count": 61,
   "metadata": {
    "collapsed": true
   },
   "outputs": [],
   "source": [
    "SierraDTWvalues3={}\n",
    "for value in California.keys():\n",
    "    if value=='Placer County':\n",
    "        continue\n",
    "    else:\n",
    "        test_list=fastdtw(California[value].USDMLevelID,\n",
    "        California['Placer County'].USDMLevelID)\n",
    "        SierraDTWvalues3[value]=test_list[0]"
   ]
  },
  {
   "cell_type": "code",
   "execution_count": 68,
   "metadata": {
    "collapsed": true
   },
   "outputs": [],
   "source": [
    "SierraDTWvalues4={}\n",
    "for value in California.keys():\n",
    "    if value=='Alpine County':\n",
    "        continue\n",
    "    else:\n",
    "        test_list=fastdtw(California[value].USDMLevelID,\n",
    "        California['Alpine County'].USDMLevelID)\n",
    "        SierraDTWvalues4[value]=test_list[0]"
   ]
  },
  {
   "cell_type": "code",
   "execution_count": 69,
   "metadata": {
    "collapsed": true
   },
   "outputs": [],
   "source": [
    "SierraDTWvalues5={}\n",
    "for value in California.keys():\n",
    "    if value=='Mono County':\n",
    "        continue\n",
    "    else:\n",
    "        test_list=fastdtw(California[value].USDMLevelID,\n",
    "        California['Mono County'].USDMLevelID)\n",
    "        SierraDTWvalues5[value]=test_list[0]"
   ]
  },
  {
   "cell_type": "code",
   "execution_count": 70,
   "metadata": {
    "collapsed": true
   },
   "outputs": [],
   "source": [
    "SierraDTWvalues6={}\n",
    "for value in California.keys():\n",
    "    if value=='Plumas County':\n",
    "        continue\n",
    "    else:\n",
    "        test_list=fastdtw(California[value].USDMLevelID,\n",
    "        California['Plumas County'].USDMLevelID)\n",
    "        SierraDTWvalues6[value]=test_list[0]"
   ]
  },
  {
   "cell_type": "code",
   "execution_count": 71,
   "metadata": {
    "collapsed": true
   },
   "outputs": [],
   "source": [
    "SierraDTWvalues7={}\n",
    "for value in California.keys():\n",
    "    if value=='Mariposa County':\n",
    "        continue\n",
    "    else:\n",
    "        test_list=fastdtw(California[value].USDMLevelID,\n",
    "        California['Mariposa County'].USDMLevelID)\n",
    "        SierraDTWvalues7[value]=test_list[0]"
   ]
  },
  {
   "cell_type": "code",
   "execution_count": 72,
   "metadata": {
    "collapsed": true
   },
   "outputs": [],
   "source": [
    "SierraDTWvalues8={}\n",
    "for value in California.keys():\n",
    "    if value=='El Dorado County':\n",
    "        continue\n",
    "    else:\n",
    "        test_list=fastdtw(California[value].USDMLevelID,\n",
    "        California['El Dorado County'].USDMLevelID)\n",
    "        SierraDTWvalues8[value]=test_list[0]"
   ]
  },
  {
   "cell_type": "code",
   "execution_count": 73,
   "metadata": {
    "collapsed": true
   },
   "outputs": [],
   "source": [
    "SierraDTWvalues9={}\n",
    "for value in California.keys():\n",
    "    if value=='Tuolumne County':\n",
    "        continue\n",
    "    else:\n",
    "        test_list=fastdtw(California[value].USDMLevelID,\n",
    "        California['Tuolumne County'].USDMLevelID)\n",
    "        SierraDTWvalues9[value]=test_list[0]"
   ]
  },
  {
   "cell_type": "code",
   "execution_count": 74,
   "metadata": {
    "collapsed": true
   },
   "outputs": [],
   "source": [
    "SierraDTWvalues10={}\n",
    "for value in California.keys():\n",
    "    if value=='Nevada County':\n",
    "        continue\n",
    "    else:\n",
    "        test_list=fastdtw(California[value].USDMLevelID,\n",
    "        California['Nevada County'].USDMLevelID)\n",
    "        SierraDTWvalues10[value]=test_list[0]"
   ]
  },
  {
   "cell_type": "code",
   "execution_count": 75,
   "metadata": {
    "collapsed": true
   },
   "outputs": [],
   "source": [
    "SierraDTWvalues11={}\n",
    "for value in California.keys():\n",
    "    if value=='Inyo County':\n",
    "        continue\n",
    "    else:\n",
    "        test_list=fastdtw(California[value].USDMLevelID,\n",
    "        California['Inyo County'].USDMLevelID)\n",
    "        SierraDTWvalues11[value]=test_list[0]"
   ]
  },
  {
   "cell_type": "code",
   "execution_count": 76,
   "metadata": {
    "collapsed": true
   },
   "outputs": [],
   "source": [
    "SierraDTWvalues12={}\n",
    "for value in California.keys():\n",
    "    if value=='Calaveras County':\n",
    "        continue\n",
    "    else:\n",
    "        test_list=fastdtw(California[value].USDMLevelID,\n",
    "        California['Calaveras County'].USDMLevelID)\n",
    "        SierraDTWvalues12[value]=test_list[0]"
   ]
  },
  {
   "cell_type": "code",
   "execution_count": 77,
   "metadata": {},
   "outputs": [
    {
     "name": "stdout",
     "output_type": "stream",
     "text": [
      "Sierra!\n",
      "Imperial County\n",
      "Amador County\n"
     ]
    }
   ],
   "source": [
    "print('Sierra!')\n",
    "print(max(SierraDTWvalues, key=SierraDTWvalues.get))\n",
    "print(min(SierraDTWvalues, key=SierraDTWvalues.get))"
   ]
  },
  {
   "cell_type": "code",
   "execution_count": 78,
   "metadata": {},
   "outputs": [
    {
     "name": "stdout",
     "output_type": "stream",
     "text": [
      "Amador!\n",
      "Imperial County\n",
      "Yuba County\n"
     ]
    }
   ],
   "source": [
    "print('Amador!')\n",
    "print(max(SierraDTWvalues2, key=SierraDTWvalues2.get))\n",
    "print(min(SierraDTWvalues2, key=SierraDTWvalues2.get))"
   ]
  },
  {
   "cell_type": "code",
   "execution_count": 79,
   "metadata": {},
   "outputs": [
    {
     "name": "stdout",
     "output_type": "stream",
     "text": [
      "Placer!\n",
      "Imperial County\n",
      "Amador County\n"
     ]
    }
   ],
   "source": [
    "print('Placer!')\n",
    "print(max(SierraDTWvalues3, key=SierraDTWvalues3.get))\n",
    "print(min(SierraDTWvalues3, key=SierraDTWvalues3.get))"
   ]
  },
  {
   "cell_type": "code",
   "execution_count": 80,
   "metadata": {},
   "outputs": [
    {
     "name": "stdout",
     "output_type": "stream",
     "text": [
      "Alpine!\n",
      "Modoc County\n",
      "Yuba County\n"
     ]
    }
   ],
   "source": [
    "print('Alpine!')\n",
    "print(max(SierraDTWvalues4, key=SierraDTWvalues4.get))\n",
    "print(min(SierraDTWvalues4, key=SierraDTWvalues4.get))"
   ]
  },
  {
   "cell_type": "code",
   "execution_count": 81,
   "metadata": {},
   "outputs": [
    {
     "name": "stdout",
     "output_type": "stream",
     "text": [
      "Mono!\n",
      "Modoc County\n",
      "Amador County\n"
     ]
    }
   ],
   "source": [
    "print('Mono!')\n",
    "print(max(SierraDTWvalues5, key=SierraDTWvalues5.get))\n",
    "print(min(SierraDTWvalues5, key=SierraDTWvalues5.get))"
   ]
  },
  {
   "cell_type": "code",
   "execution_count": 82,
   "metadata": {},
   "outputs": [
    {
     "name": "stdout",
     "output_type": "stream",
     "text": [
      "Plumas!\n",
      "San Diego County\n",
      "Nevada County\n"
     ]
    }
   ],
   "source": [
    "print('Plumas!')\n",
    "print(max(SierraDTWvalues6, key=SierraDTWvalues6.get))\n",
    "print(min(SierraDTWvalues6, key=SierraDTWvalues6.get))"
   ]
  },
  {
   "cell_type": "code",
   "execution_count": 83,
   "metadata": {},
   "outputs": [
    {
     "name": "stdout",
     "output_type": "stream",
     "text": [
      "Mariposa!\n",
      "Modoc County\n",
      "Merced County\n"
     ]
    }
   ],
   "source": [
    "print('Mariposa!')\n",
    "print(max(SierraDTWvalues7, key=SierraDTWvalues7.get))\n",
    "print(min(SierraDTWvalues7, key=SierraDTWvalues7.get))"
   ]
  },
  {
   "cell_type": "code",
   "execution_count": 84,
   "metadata": {},
   "outputs": [
    {
     "name": "stdout",
     "output_type": "stream",
     "text": [
      "El Dorado!\n",
      "Modoc County\n",
      "Yuba County\n"
     ]
    }
   ],
   "source": [
    "print('El Dorado!')\n",
    "print(max(SierraDTWvalues8, key=SierraDTWvalues8.get))\n",
    "print(min(SierraDTWvalues8, key=SierraDTWvalues8.get))"
   ]
  },
  {
   "cell_type": "code",
   "execution_count": 85,
   "metadata": {},
   "outputs": [
    {
     "name": "stdout",
     "output_type": "stream",
     "text": [
      "Tuolumne!\n",
      "Modoc County\n",
      "Glenn County\n"
     ]
    }
   ],
   "source": [
    "print('Tuolumne!')\n",
    "print(max(SierraDTWvalues9, key=SierraDTWvalues9.get))\n",
    "print(min(SierraDTWvalues9, key=SierraDTWvalues9.get))"
   ]
  },
  {
   "cell_type": "code",
   "execution_count": 86,
   "metadata": {},
   "outputs": [
    {
     "name": "stdout",
     "output_type": "stream",
     "text": [
      "Nevada!\n",
      "San Diego County\n",
      "Yuba County\n"
     ]
    }
   ],
   "source": [
    "print('Nevada!')\n",
    "print(max(SierraDTWvalues10, key=SierraDTWvalues10.get))\n",
    "print(min(SierraDTWvalues10, key=SierraDTWvalues10.get))"
   ]
  },
  {
   "cell_type": "code",
   "execution_count": 87,
   "metadata": {},
   "outputs": [
    {
     "name": "stdout",
     "output_type": "stream",
     "text": [
      "Inyo!\n",
      "Modoc County\n",
      "Monterey County\n"
     ]
    }
   ],
   "source": [
    "print('Inyo!')\n",
    "print(max(SierraDTWvalues11, key=SierraDTWvalues11.get))\n",
    "print(min(SierraDTWvalues11, key=SierraDTWvalues11.get))"
   ]
  },
  {
   "cell_type": "code",
   "execution_count": 88,
   "metadata": {},
   "outputs": [
    {
     "name": "stdout",
     "output_type": "stream",
     "text": [
      "Calaveras!\n",
      "Modoc County\n",
      "Stanislaus County\n"
     ]
    }
   ],
   "source": [
    "print('Calaveras!')\n",
    "print(max(SierraDTWvalues12, key=SierraDTWvalues12.get))\n",
    "print(min(SierraDTWvalues12, key=SierraDTWvalues12.get))"
   ]
  },
  {
   "cell_type": "code",
   "execution_count": 46,
   "metadata": {},
   "outputs": [
    {
     "ename": "KeyboardInterrupt",
     "evalue": "",
     "output_type": "error",
     "traceback": [
      "\u001b[0;31m---------------------------------------------------------------------------\u001b[0m",
      "\u001b[0;31mKeyboardInterrupt\u001b[0m                         Traceback (most recent call last)",
      "\u001b[0;32m<ipython-input-46-d34416167544>\u001b[0m in \u001b[0;36m<module>\u001b[0;34m()\u001b[0m\n\u001b[1;32m      1\u001b[0m \u001b[0;32mfor\u001b[0m \u001b[0midx\u001b[0m\u001b[0;34m,\u001b[0m\u001b[0mvalue\u001b[0m \u001b[0;32min\u001b[0m \u001b[0menumerate\u001b[0m\u001b[0;34m(\u001b[0m\u001b[0mCalifornia_Severity_Data\u001b[0m\u001b[0;34m.\u001b[0m\u001b[0mAreaCurrent\u001b[0m\u001b[0;34m)\u001b[0m\u001b[0;34m:\u001b[0m\u001b[0;34m\u001b[0m\u001b[0m\n\u001b[1;32m      2\u001b[0m     \u001b[0mvalue\u001b[0m\u001b[0;34m=\u001b[0m\u001b[0mvalue\u001b[0m\u001b[0;34m.\u001b[0m\u001b[0mreplace\u001b[0m\u001b[0;34m(\u001b[0m\u001b[0;34m','\u001b[0m\u001b[0;34m,\u001b[0m \u001b[0;34m''\u001b[0m\u001b[0;34m)\u001b[0m\u001b[0;34m\u001b[0m\u001b[0m\n\u001b[0;32m----> 3\u001b[0;31m     \u001b[0mCalifornia_Severity_Data\u001b[0m\u001b[0;34m.\u001b[0m\u001b[0miloc\u001b[0m\u001b[0;34m[\u001b[0m\u001b[0midx\u001b[0m\u001b[0;34m,\u001b[0m\u001b[0;36m2\u001b[0m\u001b[0;34m]\u001b[0m \u001b[0;34m=\u001b[0m \u001b[0mfloat\u001b[0m\u001b[0;34m(\u001b[0m\u001b[0mvalue\u001b[0m\u001b[0;34m)\u001b[0m\u001b[0;34m\u001b[0m\u001b[0m\n\u001b[0m\u001b[1;32m      4\u001b[0m \u001b[0mCalifornia_Severity_Data\u001b[0m\u001b[0;34m.\u001b[0m\u001b[0mhead\u001b[0m\u001b[0;34m(\u001b[0m\u001b[0;34m)\u001b[0m\u001b[0;34m\u001b[0m\u001b[0m\n",
      "\u001b[0;32m/home/ec2-user/anaconda3/lib/python3.6/site-packages/pandas/core/indexing.py\u001b[0m in \u001b[0;36m__setitem__\u001b[0;34m(self, key, value)\u001b[0m\n\u001b[1;32m    177\u001b[0m             \u001b[0mkey\u001b[0m \u001b[0;34m=\u001b[0m \u001b[0mcom\u001b[0m\u001b[0;34m.\u001b[0m\u001b[0m_apply_if_callable\u001b[0m\u001b[0;34m(\u001b[0m\u001b[0mkey\u001b[0m\u001b[0;34m,\u001b[0m \u001b[0mself\u001b[0m\u001b[0;34m.\u001b[0m\u001b[0mobj\u001b[0m\u001b[0;34m)\u001b[0m\u001b[0;34m\u001b[0m\u001b[0m\n\u001b[1;32m    178\u001b[0m         \u001b[0mindexer\u001b[0m \u001b[0;34m=\u001b[0m \u001b[0mself\u001b[0m\u001b[0;34m.\u001b[0m\u001b[0m_get_setitem_indexer\u001b[0m\u001b[0;34m(\u001b[0m\u001b[0mkey\u001b[0m\u001b[0;34m)\u001b[0m\u001b[0;34m\u001b[0m\u001b[0m\n\u001b[0;32m--> 179\u001b[0;31m         \u001b[0mself\u001b[0m\u001b[0;34m.\u001b[0m\u001b[0m_setitem_with_indexer\u001b[0m\u001b[0;34m(\u001b[0m\u001b[0mindexer\u001b[0m\u001b[0;34m,\u001b[0m \u001b[0mvalue\u001b[0m\u001b[0;34m)\u001b[0m\u001b[0;34m\u001b[0m\u001b[0m\n\u001b[0m\u001b[1;32m    180\u001b[0m \u001b[0;34m\u001b[0m\u001b[0m\n\u001b[1;32m    181\u001b[0m     \u001b[0;32mdef\u001b[0m \u001b[0m_has_valid_type\u001b[0m\u001b[0;34m(\u001b[0m\u001b[0mself\u001b[0m\u001b[0;34m,\u001b[0m \u001b[0mk\u001b[0m\u001b[0;34m,\u001b[0m \u001b[0maxis\u001b[0m\u001b[0;34m)\u001b[0m\u001b[0;34m:\u001b[0m\u001b[0;34m\u001b[0m\u001b[0m\n",
      "\u001b[0;32m/home/ec2-user/anaconda3/lib/python3.6/site-packages/pandas/core/indexing.py\u001b[0m in \u001b[0;36m_setitem_with_indexer\u001b[0;34m(self, indexer, value)\u001b[0m\n\u001b[1;32m    451\u001b[0m             \u001b[0;31m# indexer here\u001b[0m\u001b[0;34m\u001b[0m\u001b[0;34m\u001b[0m\u001b[0m\n\u001b[1;32m    452\u001b[0m             if (len(labels) == 1 and\n\u001b[0;32m--> 453\u001b[0;31m                     isinstance(self.obj[labels[0]].axes[0], MultiIndex)):\n\u001b[0m\u001b[1;32m    454\u001b[0m                 \u001b[0mitem\u001b[0m \u001b[0;34m=\u001b[0m \u001b[0mlabels\u001b[0m\u001b[0;34m[\u001b[0m\u001b[0;36m0\u001b[0m\u001b[0;34m]\u001b[0m\u001b[0;34m\u001b[0m\u001b[0m\n\u001b[1;32m    455\u001b[0m                 \u001b[0mobj\u001b[0m \u001b[0;34m=\u001b[0m \u001b[0mself\u001b[0m\u001b[0;34m.\u001b[0m\u001b[0mobj\u001b[0m\u001b[0;34m[\u001b[0m\u001b[0mitem\u001b[0m\u001b[0;34m]\u001b[0m\u001b[0;34m\u001b[0m\u001b[0m\n",
      "\u001b[0;32m/home/ec2-user/anaconda3/lib/python3.6/site-packages/pandas/core/frame.py\u001b[0m in \u001b[0;36m__getitem__\u001b[0;34m(self, key)\u001b[0m\n\u001b[1;32m   2037\u001b[0m \u001b[0;34m\u001b[0m\u001b[0m\n\u001b[1;32m   2038\u001b[0m     \u001b[0;32mdef\u001b[0m \u001b[0m__getitem__\u001b[0m\u001b[0;34m(\u001b[0m\u001b[0mself\u001b[0m\u001b[0;34m,\u001b[0m \u001b[0mkey\u001b[0m\u001b[0;34m)\u001b[0m\u001b[0;34m:\u001b[0m\u001b[0;34m\u001b[0m\u001b[0m\n\u001b[0;32m-> 2039\u001b[0;31m         \u001b[0mkey\u001b[0m \u001b[0;34m=\u001b[0m \u001b[0mcom\u001b[0m\u001b[0;34m.\u001b[0m\u001b[0m_apply_if_callable\u001b[0m\u001b[0;34m(\u001b[0m\u001b[0mkey\u001b[0m\u001b[0;34m,\u001b[0m \u001b[0mself\u001b[0m\u001b[0;34m)\u001b[0m\u001b[0;34m\u001b[0m\u001b[0m\n\u001b[0m\u001b[1;32m   2040\u001b[0m \u001b[0;34m\u001b[0m\u001b[0m\n\u001b[1;32m   2041\u001b[0m         \u001b[0;31m# shortcut if we are an actual column\u001b[0m\u001b[0;34m\u001b[0m\u001b[0;34m\u001b[0m\u001b[0m\n",
      "\u001b[0;31mKeyboardInterrupt\u001b[0m: "
     ]
    }
   ],
   "source": [
    "for idx,value in enumerate(California_Severity_Data.AreaCurrent):\n",
    "    value=value.replace(',', '')\n",
    "    California_Severity_Data.iloc[idx,2] = float(value)\n",
    "California_Severity_Data.head()\n"
   ]
  },
  {
   "cell_type": "code",
   "execution_count": null,
   "metadata": {
    "scrolled": false
   },
   "outputs": [],
   "source": [
    "for idx,value in enumerate(California_Severity_Data.AreaMiles):\n",
    "    value=value.replace(',', '')\n",
    "    California_Severity_Data.iloc[idx,6] = float(value)\n",
    "California_Severity_Data.head()"
   ]
  },
  {
   "cell_type": "code",
   "execution_count": null,
   "metadata": {},
   "outputs": [],
   "source": [
    "California_Severity_Data"
   ]
  },
  {
   "cell_type": "code",
   "execution_count": null,
   "metadata": {
    "collapsed": true
   },
   "outputs": [],
   "source": [
    "CountyDummies=pd.get_dummies(California_Severity_Data.County)"
   ]
  },
  {
   "cell_type": "code",
   "execution_count": null,
   "metadata": {
    "collapsed": true
   },
   "outputs": [],
   "source": [
    "California_Severity_Data=pd.concat([California_Severity_Data,CountyDummies],axis=1)\n",
    "    "
   ]
  },
  {
   "cell_type": "code",
   "execution_count": null,
   "metadata": {},
   "outputs": [],
   "source": [
    "California_Severity_Data.columns"
   ]
  },
  {
   "cell_type": "code",
   "execution_count": null,
   "metadata": {
    "collapsed": true
   },
   "outputs": [],
   "source": [
    "from sklearn.linear_model import LogisticRegression\n",
    "from sklearn.model_selection import train_test_split"
   ]
  },
  {
   "cell_type": "code",
   "execution_count": null,
   "metadata": {
    "collapsed": true
   },
   "outputs": [],
   "source": [
    "predictors=California_Severity_Data[['PercentCurrent','AreaCurrent','AreaMiles',\n",
    "                                     'Year','Alameda County',\n",
    "       'Alpine County', 'Amador County', 'Butte County', 'Calaveras County',\n",
    "       'Colusa County', 'Contra Costa County', 'Del Norte County',\n",
    "       'El Dorado County', 'Fresno County', 'Glenn County', 'Humboldt County',\n",
    "       'Imperial County', 'Inyo County', 'Kern County', 'Kings County',\n",
    "       'Lake County', 'Lassen County', 'Los Angeles County', 'Madera County',\n",
    "       'Marin County', 'Mariposa County', 'Mendocino County', 'Merced County',\n",
    "       'Modoc County', 'Mono County', 'Monterey County', 'Napa County',\n",
    "       'Nevada County', 'Orange County', 'Placer County', 'Plumas County',\n",
    "       'Riverside County', 'Sacramento County', 'San Benito County',\n",
    "       'San Bernardino County', 'San Diego County', 'San Francisco County',\n",
    "       'San Joaquin County', 'San Luis Obispo County', 'San Mateo County',\n",
    "       'Santa Barbara County', 'Santa Clara County', 'Santa Cruz County',\n",
    "       'Shasta County', 'Sierra County', 'Siskiyou County', 'Solano County',\n",
    "       'Sonoma County', 'Stanislaus County', 'Sutter County', 'Tehama County',\n",
    "       'Trinity County', 'Tulare County', 'Tuolumne County', 'Ventura County',\n",
    "       'Yolo County', 'Yuba County']]\n",
    "y=California_Severity_Data['USDMLevelID']"
   ]
  },
  {
   "cell_type": "code",
   "execution_count": null,
   "metadata": {},
   "outputs": [],
   "source": [
    "X_train, X_test, y_train, y_test = train_test_split(predictors,y, test_size=0.33)\n",
    "from sklearn.preprocessing import StandardScaler\n",
    "scaler=StandardScaler()\n",
    "scaler.fit_transform(X_train)\n",
    "scaler.fit_transform(X_test)\n",
    "logr = LogisticRegression()\n",
    "logr.fit(X_train, y_train)\n",
    "logr.score(X_train, y_train)\n",
    "logr.score(X_test, y_test)"
   ]
  },
  {
   "cell_type": "code",
   "execution_count": null,
   "metadata": {},
   "outputs": [],
   "source": [
    "California_Severity_Data['USDMLevelID'].value_counts()"
   ]
  },
  {
   "cell_type": "code",
   "execution_count": null,
   "metadata": {},
   "outputs": [],
   "source": [
    "len(California_Severity_Data)"
   ]
  },
  {
   "cell_type": "code",
   "execution_count": null,
   "metadata": {},
   "outputs": [],
   "source": [
    "34263/94219"
   ]
  },
  {
   "cell_type": "code",
   "execution_count": null,
   "metadata": {},
   "outputs": [],
   "source": [
    "from sklearn.model_selection import cross_val_score, cross_val_predict\n",
    "from sklearn import metrics\n",
    "scores=cross_val_score(logr,X_train,y_train, cv=3)\n",
    "scores\n",
    "scores.mean()"
   ]
  },
  {
   "cell_type": "code",
   "execution_count": null,
   "metadata": {
    "collapsed": true
   },
   "outputs": [],
   "source": [
    "California_Severity_Data"
   ]
  },
  {
   "cell_type": "code",
   "execution_count": null,
   "metadata": {
    "collapsed": true
   },
   "outputs": [],
   "source": []
  }
 ],
 "metadata": {
  "kernelspec": {
   "display_name": "Python 3",
   "language": "python",
   "name": "python3"
  },
  "language_info": {
   "codemirror_mode": {
    "name": "ipython",
    "version": 3
   },
   "file_extension": ".py",
   "mimetype": "text/x-python",
   "name": "python",
   "nbconvert_exporter": "python",
   "pygments_lexer": "ipython3",
   "version": "3.6.1"
  }
 },
 "nbformat": 4,
 "nbformat_minor": 2
}
