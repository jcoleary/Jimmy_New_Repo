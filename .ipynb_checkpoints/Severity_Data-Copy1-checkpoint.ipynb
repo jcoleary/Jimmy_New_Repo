{
 "cells": [
  {
   "cell_type": "code",
   "execution_count": 1,
   "metadata": {
    "collapsed": true
   },
   "outputs": [],
   "source": [
    "import pandas as pd\n",
    "import numpy as np\n",
    "import matplotlib.pyplot as plt\n",
    "import seaborn as sns\n",
    "from datetime import datetime, timedelta\n",
    "from gensim import corpora, models, matutils\n",
    "from sklearn.feature_extraction.text import CountVectorizer, TfidfVectorizer\n",
    "from collections import defaultdict\n",
    "from fastdtw import fastdtw\n",
    "%matplotlib inline"
   ]
  },
  {
   "cell_type": "code",
   "execution_count": 2,
   "metadata": {
    "collapsed": true
   },
   "outputs": [],
   "source": [
    "def dateconverter(value): \n",
    "    s= str(value)\n",
    "    Date=datetime.strptime(value, '%m/%d/%y')\n",
    "    return Date"
   ]
  },
  {
   "cell_type": "code",
   "execution_count": 3,
   "metadata": {
    "collapsed": true
   },
   "outputs": [],
   "source": [
    "def get_countydict(df):\n",
    "    Counties={}\n",
    "    for value in df.County.unique():\n",
    "        Counties[value]=df.loc[df['County'] == value]\n",
    "    return Counties"
   ]
  },
  {
   "cell_type": "markdown",
   "metadata": {},
   "source": [
    "This section is EDA and cleaning of all drought severity data dealing with California."
   ]
  },
  {
   "cell_type": "code",
   "execution_count": 4,
   "metadata": {
    "collapsed": true
   },
   "outputs": [],
   "source": [
    "CA_SEV_DATA1=pd.read_csv('datasets/California_Drought_Severity_By_County_1997-2002.csv')\n",
    "CA_SEV_DATA2=pd.read_csv('datasets/California_Drought_Severity_By_County_2002-2007.csv')\n",
    "CA_SEV_DATA3=pd.read_csv('datasets/California_Drought_Severity_By_County_2007-2012.csv')\n",
    "CA_SEV_DATA4=pd.read_csv('datasets/California_Drought_Severity_By_County_2012-2017.csv')"
   ]
  },
  {
   "cell_type": "code",
   "execution_count": 5,
   "metadata": {},
   "outputs": [
    {
     "data": {
      "text/plain": [
       "(94219, 12)"
      ]
     },
     "execution_count": 5,
     "metadata": {},
     "output_type": "execute_result"
    }
   ],
   "source": [
    "California_Severity_Data=pd.concat([CA_SEV_DATA1,CA_SEV_DATA2,CA_SEV_DATA3,CA_SEV_DATA4],axis=0)\n",
    "California_Severity_Data.shape"
   ]
  },
  {
   "cell_type": "code",
   "execution_count": 6,
   "metadata": {
    "collapsed": true
   },
   "outputs": [],
   "source": [
    "California_Severity_Data.rename(columns={'Name': 'County'}, inplace=True)"
   ]
  },
  {
   "cell_type": "code",
   "execution_count": 7,
   "metadata": {
    "collapsed": true
   },
   "outputs": [],
   "source": [
    "CA_SEV_Dates=pd.DataFrame(California_Severity_Data.ReleaseDate.apply(dateconverter))"
   ]
  },
  {
   "cell_type": "code",
   "execution_count": 8,
   "metadata": {
    "collapsed": true
   },
   "outputs": [],
   "source": [
    "California_Severity_Data.ReleaseDate=CA_SEV_Dates.ReleaseDate"
   ]
  },
  {
   "cell_type": "code",
   "execution_count": 9,
   "metadata": {
    "collapsed": true
   },
   "outputs": [],
   "source": [
    "CA_years=[]\n",
    "for value in California_Severity_Data['ReleaseDate']:\n",
    "    CA_years.append(value.year)"
   ]
  },
  {
   "cell_type": "code",
   "execution_count": 10,
   "metadata": {
    "collapsed": true
   },
   "outputs": [],
   "source": [
    "CAyearsdf=pd.DataFrame(data=CA_years)"
   ]
  },
  {
   "cell_type": "code",
   "execution_count": 11,
   "metadata": {
    "collapsed": true
   },
   "outputs": [],
   "source": [
    "CAyearsdf.rename(columns={0: 'Years'}, inplace=True)"
   ]
  },
  {
   "cell_type": "code",
   "execution_count": 12,
   "metadata": {
    "collapsed": true
   },
   "outputs": [],
   "source": [
    "California_Severity_Data = California_Severity_Data.reset_index(drop=True)"
   ]
  },
  {
   "cell_type": "code",
   "execution_count": 13,
   "metadata": {
    "collapsed": true
   },
   "outputs": [],
   "source": [
    "California_Severity_Data['Year']=CAyearsdf['Years']"
   ]
  },
  {
   "cell_type": "code",
   "execution_count": 14,
   "metadata": {
    "collapsed": true
   },
   "outputs": [],
   "source": [
    "California_Severity_Data.sort_values(by='ReleaseDate',ascending=True,inplace=True)"
   ]
  },
  {
   "cell_type": "code",
   "execution_count": 15,
   "metadata": {
    "collapsed": true
   },
   "outputs": [],
   "source": [
    "California_Severity_Data.drop(['Id','PercentChangeFromWAve',\n",
    "                             'AreaChangeFromWAve','StatisticFormatID'],axis=1,\n",
    "                             inplace=True)"
   ]
  },
  {
   "cell_type": "code",
   "execution_count": 16,
   "metadata": {
    "collapsed": true
   },
   "outputs": [],
   "source": [
    "California=get_countydict(California_Severity_Data)"
   ]
  },
  {
   "cell_type": "code",
   "execution_count": 17,
   "metadata": {},
   "outputs": [
    {
     "name": "stderr",
     "output_type": "stream",
     "text": [
      "/home/ec2-user/anaconda3/lib/python3.6/site-packages/ipykernel_launcher.py:61: SettingWithCopyWarning: \n",
      "A value is trying to be set on a copy of a slice from a DataFrame.\n",
      "Try using .loc[row_indexer,col_indexer] = value instead\n",
      "\n",
      "See the caveats in the documentation: http://pandas.pydata.org/pandas-docs/stable/indexing.html#indexing-view-versus-copy\n"
     ]
    }
   ],
   "source": [
    "CABioregiondict={'Sierra County':'Sierra',\n",
    "               'Amador County':'Sierra',\n",
    "               'Placer County':'Sierra',\n",
    "               'Alpine County':'Sierra',\n",
    "               'Santa Clara County':'Bay/Delta',\n",
    "               'Yolo County':'Sacramento Valley',\n",
    "               'Mono County':'Sierra',\n",
    "               'Ventura County':'Central Coast',\n",
    "               'Modoc County':'Modoc',\n",
    "               'Napa County':'Bay/Delta',\n",
    "               'San Luis Obispo County':'Central Coast',\n",
    "               'Los Angeles County':'South Coast',\n",
    "               'Contra Costa County':'Bay/Delta',\n",
    "               'Yuba County':'Sacramento Valley',\n",
    "               'Solano County':'Bay/Delta', \n",
    "               'Del Norte County':'Klamath/North Coast',\n",
    "               'Riverside County':'Mojave',\n",
    "               'Monterey County':'Central Coast',\n",
    "               'Plumas County':'Sierra',\n",
    "               'San Francisco County':'Bay/Delta',\n",
    "               'Mariposa County':'Sierra',\n",
    "               'Shasta County':'Sacramento Valley',\n",
    "               'Santa Cruz County':'Central Coast',\n",
    "               'Tehama County':'Sacramento Valley',\n",
    "               'Imperial County':'Colorado Desert',\n",
    "               'Siskiyou County':'Klamath/North Coast',\n",
    "               'El Dorado County':'Sierra',\n",
    "               'Mendocino County':'Klamath/North Coast',\n",
    "               'Fresno County':'San Joaquin Valley',\n",
    "               'San Bernardino County':'Mojave',\n",
    "               'San Joaquin County':'San Joaquin Valley',\n",
    "               'Tulare County':'San Joaquin Valley',\n",
    "               'Alameda County':'Bay/Delta',\n",
    "               'Kings County':'San Joaquin Valley',\n",
    "               'Butte County':'Sacramento Valley',\n",
    "               'Merced County':'San Joaquin Valley',\n",
    "               'Sacramento County':'Sacramento Valley',\n",
    "               'Tuolumne County':'Sierra',\n",
    "               'Sonoma County':'Bay/Delta',\n",
    "               'Santa Barbara County':'Central Coast',\n",
    "               'Madera County':'San Joaquin Valley',\n",
    "               'Lassen County':'Modoc',\n",
    "               'Glenn County':'Sacramento Valley',\n",
    "               'Sutter County':'Sacramento Valley',\n",
    "               'San Diego County':'South Coast',\n",
    "               'Lake County':'Klamath/North Coast',\n",
    "               'Nevada County':'Sierra',\n",
    "               'Trinity County':'Klamath/North Coast',\n",
    "               'Inyo County':'Sierra',\n",
    "               'San Mateo County':'Bay/Delta',\n",
    "               'Orange County':'South Coast',\n",
    "               'Humboldt County':'Klamath/North Coast',\n",
    "               'Colusa County':'Sacramento Valley',\n",
    "               'Calaveras County':'Sierra',\n",
    "               'Kern County':'San Joaquin Valley',\n",
    "               'San Benito County':'Central Coast',\n",
    "               'Marin County':'Bay/Delta',\n",
    "               'Stanislaus County':'San Joaquin Valley'\n",
    "              }\n",
    "for key, value in CABioregiondict.items():\n",
    "    California[key]['Bioregion']=value"
   ]
  },
  {
   "cell_type": "code",
   "execution_count": 18,
   "metadata": {
    "collapsed": true,
    "scrolled": false
   },
   "outputs": [],
   "source": [
    "DTWvalues={}\n",
    "for value in California.keys():\n",
    "    if value=='Fresno County':\n",
    "        continue\n",
    "    else:\n",
    "        test_list=fastdtw(California[value].USDMLevelID,\n",
    "        California['Fresno County'].USDMLevelID)\n",
    "        DTWvalues[value]=test_list[0]\n",
    "    #test_list2=test_list[1:]\n",
    "   # x = []; y=[]\n",
    "    #for point in test_list2[0]:\n",
    "       # x.append(point[0])\n",
    "        #y.append(point[1])\n",
    "    #plt.figure()\n",
    "   # plt.scatter(x,y)"
   ]
  },
  {
   "cell_type": "code",
   "execution_count": 19,
   "metadata": {
    "collapsed": true
   },
   "outputs": [],
   "source": [
    "DTWvalues={}\n",
    "for value in California.keys():\n",
    "    if value=='Fresno County':\n",
    "        continue\n",
    "    else:\n",
    "        test_list=fastdtw(California[value].USDMLevelID,\n",
    "        California['Fresno County'].USDMLevelID)\n",
    "        DTWvalues[value]=test_list[0]"
   ]
  },
  {
   "cell_type": "code",
   "execution_count": 20,
   "metadata": {
    "collapsed": true
   },
   "outputs": [],
   "source": [
    "DTWvalues2={}\n",
    "for value in California.keys():\n",
    "    if value=='Tulare County':\n",
    "        continue\n",
    "    else:\n",
    "        test_list=fastdtw(California[value].USDMLevelID,\n",
    "        California['Tulare County'].USDMLevelID)\n",
    "        DTWvalues2[value]=test_list[0]"
   ]
  },
  {
   "cell_type": "code",
   "execution_count": 21,
   "metadata": {
    "collapsed": true
   },
   "outputs": [],
   "source": [
    "DTWvalues3={}\n",
    "for value in California.keys():\n",
    "    if value=='Monterey County':\n",
    "        continue\n",
    "    else:\n",
    "        test_list=fastdtw(California[value].USDMLevelID,\n",
    "        California['Monterey County'].USDMLevelID)\n",
    "        DTWvalues3[value]=test_list[0]"
   ]
  },
  {
   "cell_type": "markdown",
   "metadata": {
    "collapsed": true
   },
   "source": [
    "'Merced County',\n",
    "'Stanislaus County',\n",
    "'San Joaquin County',\n",
    "'Ventura County',\n",
    "'',\n",
    "'Imperial County'"
   ]
  },
  {
   "cell_type": "code",
   "execution_count": 22,
   "metadata": {
    "collapsed": true
   },
   "outputs": [],
   "source": [
    "#test_list2"
   ]
  },
  {
   "cell_type": "code",
   "execution_count": 23,
   "metadata": {
    "collapsed": true
   },
   "outputs": [],
   "source": [
    "DTWvalues4={}\n",
    "for value in California.keys():\n",
    "    if value=='Kern County':\n",
    "        continue\n",
    "    else:\n",
    "        test_list=fastdtw(California[value].USDMLevelID,\n",
    "        California['Kern County'].USDMLevelID)\n",
    "        DTWvalues4[value]=test_list[0]"
   ]
  },
  {
   "cell_type": "code",
   "execution_count": 24,
   "metadata": {
    "collapsed": true
   },
   "outputs": [],
   "source": [
    "DTWvalues5={}\n",
    "for value in California.keys():\n",
    "    if value=='Merced County':\n",
    "        continue\n",
    "    else:\n",
    "        test_list=fastdtw(California[value].USDMLevelID,\n",
    "        California['Merced County'].USDMLevelID)\n",
    "        DTWvalues5[value]=test_list[0]"
   ]
  },
  {
   "cell_type": "code",
   "execution_count": 25,
   "metadata": {
    "collapsed": true
   },
   "outputs": [],
   "source": [
    "DTWvalues6={}\n",
    "for value in California.keys():\n",
    "    if value=='Stanislaus County':\n",
    "        continue\n",
    "    else:\n",
    "        test_list=fastdtw(California[value].USDMLevelID,\n",
    "        California['Stanislaus County'].USDMLevelID)\n",
    "        DTWvalues6[value]=test_list[0]\n",
    "    "
   ]
  },
  {
   "cell_type": "code",
   "execution_count": 26,
   "metadata": {
    "collapsed": true
   },
   "outputs": [],
   "source": [
    "DTWvalues7={}\n",
    "for value in California.keys():\n",
    "    if value=='San Joaquin County':\n",
    "        continue\n",
    "    else:\n",
    "        test_list=fastdtw(California[value].USDMLevelID,\n",
    "        California['San Joaquin County'].USDMLevelID)\n",
    "        DTWvalues7[value]=test_list[0]"
   ]
  },
  {
   "cell_type": "code",
   "execution_count": 27,
   "metadata": {
    "collapsed": true
   },
   "outputs": [],
   "source": [
    "DTWvalues8={}\n",
    "for value in California.keys():\n",
    "    if value=='Ventura County':\n",
    "        continue\n",
    "    else:\n",
    "        test_list=fastdtw(California[value].USDMLevelID,\n",
    "        California['Ventura County'].USDMLevelID)\n",
    "        DTWvalues8[value]=test_list[0]"
   ]
  },
  {
   "cell_type": "code",
   "execution_count": 28,
   "metadata": {
    "collapsed": true
   },
   "outputs": [],
   "source": [
    "Cali_Keys=California.keys()\n"
   ]
  },
  {
   "cell_type": "code",
   "execution_count": 29,
   "metadata": {},
   "outputs": [
    {
     "data": {
      "text/plain": [
       "dict_keys(['Alameda County', 'Monterey County', 'Napa County', 'Nevada County', 'Orange County', 'Placer County', 'Plumas County', 'Mono County', 'Riverside County', 'Alpine County', 'San Benito County', 'San Bernardino County', 'San Diego County', 'San Joaquin County', 'San Luis Obispo County', 'Sacramento County', 'Modoc County', 'Merced County', 'Mariposa County', 'Butte County', 'Calaveras County', 'Colusa County', 'Contra Costa County', 'El Dorado County', 'Fresno County', 'Glenn County', 'Imperial County', 'Inyo County', 'Kern County', 'Kings County', 'Lake County', 'Lassen County', 'Los Angeles County', 'Madera County', 'Santa Barbara County', 'Santa Clara County', 'Amador County', 'Solano County', 'Stanislaus County', 'Tehama County', 'Sutter County', 'Tuolumne County', 'Sonoma County', 'Ventura County', 'Yuba County', 'Yolo County', 'Tulare County', 'Mendocino County', 'Shasta County', 'Sierra County', 'Siskiyou County', 'Humboldt County', 'Trinity County', 'Del Norte County', 'Marin County', 'San Francisco County', 'San Mateo County', 'Santa Cruz County'])"
      ]
     },
     "execution_count": 29,
     "metadata": {},
     "output_type": "execute_result"
    }
   ],
   "source": [
    "Cali_Keys"
   ]
  },
  {
   "cell_type": "code",
   "execution_count": 30,
   "metadata": {
    "collapsed": true
   },
   "outputs": [],
   "source": [
    "DTWvalues9={}\n",
    "San_Diego=[]\n",
    "for value in California.keys():\n",
    "    DTWvalues9[value] = []\n",
    "    test_list=fastdtw(California[value].USDMLevelID,\n",
    "    California['San Diego County'].USDMLevelID)\n",
    "    DTWvalues9[value].append(test_list[0])\n",
    "    San_Diego.append(test_list[0])"
   ]
  },
  {
   "cell_type": "code",
   "execution_count": 31,
   "metadata": {},
   "outputs": [
    {
     "data": {
      "text/plain": [
       "[1520.0,\n",
       " 1772.0,\n",
       " 1503.0,\n",
       " 1910.0,\n",
       " 1658.0,\n",
       " 1590.0,\n",
       " 1599.0,\n",
       " 1608.0,\n",
       " 1603.0,\n",
       " 1451.0,\n",
       " 1413.0,\n",
       " 1858.0,\n",
       " 221.0,\n",
       " 1746.0,\n",
       " 2044.0,\n",
       " 1355.0,\n",
       " 1650.0,\n",
       " 1619.0,\n",
       " 1712.0,\n",
       " 1258.0,\n",
       " 1388.0,\n",
       " 1254.0,\n",
       " 1686.0,\n",
       " 1378.0,\n",
       " 1790.0,\n",
       " 1296.0,\n",
       " 1321.0,\n",
       " 2044.0,\n",
       " 1724.0,\n",
       " 1519.0,\n",
       " 995.0,\n",
       " 1562.0,\n",
       " 1689.0,\n",
       " 1545.0,\n",
       " 1677.0,\n",
       " 1558.0,\n",
       " 1234.0,\n",
       " 1325.0,\n",
       " 1528.0,\n",
       " 1394.0,\n",
       " 1603.0,\n",
       " 1516.0,\n",
       " 1102.0,\n",
       " 1726.0,\n",
       " 1261.0,\n",
       " 1720.0,\n",
       " 2001.0,\n",
       " 1235.0,\n",
       " 1396.0,\n",
       " 1764.0,\n",
       " 1356.0,\n",
       " 1101.0,\n",
       " 1251.0,\n",
       " 1099.0,\n",
       " 1353.0,\n",
       " 1163.0,\n",
       " 1132.0,\n",
       " 1270.0]"
      ]
     },
     "execution_count": 31,
     "metadata": {},
     "output_type": "execute_result"
    }
   ],
   "source": [
    "San_Diego"
   ]
  },
  {
   "cell_type": "code",
   "execution_count": 32,
   "metadata": {
    "collapsed": true
   },
   "outputs": [],
   "source": [
    "DTWvalues10={}\n",
    "for value in California.keys():\n",
    "    if value=='Imperial County':\n",
    "        continue\n",
    "    else:\n",
    "        test_list=fastdtw(California[value].USDMLevelID,\n",
    "        California['Imperial County'].USDMLevelID)\n",
    "        DTWvalues10[value]=test_list[0]\n"
   ]
  },
  {
   "cell_type": "code",
   "execution_count": 33,
   "metadata": {},
   "outputs": [
    {
     "name": "stdout",
     "output_type": "stream",
     "text": [
      "Fresno!\n",
      "Imperial County\n",
      "Madera County\n"
     ]
    }
   ],
   "source": [
    "print('Fresno!')\n",
    "print(max(DTWvalues, key=DTWvalues.get))\n",
    "print(min(DTWvalues, key=DTWvalues.get))"
   ]
  },
  {
   "cell_type": "code",
   "execution_count": 34,
   "metadata": {},
   "outputs": [
    {
     "name": "stdout",
     "output_type": "stream",
     "text": [
      "Tulare!\n",
      "San Diego County\n",
      "Madera County\n"
     ]
    }
   ],
   "source": [
    "print('Tulare!')\n",
    "print(max(DTWvalues2, key=DTWvalues2.get))\n",
    "print(min(DTWvalues2, key=DTWvalues2.get))"
   ]
  },
  {
   "cell_type": "code",
   "execution_count": 35,
   "metadata": {},
   "outputs": [
    {
     "name": "stdout",
     "output_type": "stream",
     "text": [
      "Monterey!\n",
      "Modoc County\n",
      "Santa Clara County\n"
     ]
    }
   ],
   "source": [
    "print('Monterey!')\n",
    "print(max(DTWvalues3, key=DTWvalues3.get))\n",
    "print(min(DTWvalues3, key=DTWvalues3.get))"
   ]
  },
  {
   "cell_type": "code",
   "execution_count": 36,
   "metadata": {},
   "outputs": [
    {
     "name": "stdout",
     "output_type": "stream",
     "text": [
      "Kern!\n",
      "Modoc County\n",
      "Tulare County\n"
     ]
    }
   ],
   "source": [
    "print('Kern!')\n",
    "print(max(DTWvalues4, key=DTWvalues4.get))\n",
    "print(min(DTWvalues4, key=DTWvalues4.get))"
   ]
  },
  {
   "cell_type": "code",
   "execution_count": 37,
   "metadata": {},
   "outputs": [
    {
     "name": "stdout",
     "output_type": "stream",
     "text": [
      "Merced!\n",
      "Modoc County\n",
      "Stanislaus County\n"
     ]
    }
   ],
   "source": [
    "print('Merced!')\n",
    "print(max(DTWvalues5, key=DTWvalues5.get))\n",
    "print(min(DTWvalues5, key=DTWvalues5.get))"
   ]
  },
  {
   "cell_type": "code",
   "execution_count": 38,
   "metadata": {},
   "outputs": [
    {
     "name": "stdout",
     "output_type": "stream",
     "text": [
      "Stanislaus!\n",
      "Modoc County\n",
      "Merced County\n"
     ]
    }
   ],
   "source": [
    "print('Stanislaus!')\n",
    "print(max(DTWvalues6, key=DTWvalues6.get))\n",
    "print(min(DTWvalues6, key=DTWvalues6.get))"
   ]
  },
  {
   "cell_type": "code",
   "execution_count": 39,
   "metadata": {},
   "outputs": [
    {
     "name": "stdout",
     "output_type": "stream",
     "text": [
      "San Joaquin!\n",
      "Modoc County\n",
      "Sacramento County\n"
     ]
    }
   ],
   "source": [
    "print('San Joaquin!')\n",
    "print(max(DTWvalues7, key=DTWvalues7.get))\n",
    "print(min(DTWvalues7, key=DTWvalues7.get))"
   ]
  },
  {
   "cell_type": "code",
   "execution_count": 40,
   "metadata": {},
   "outputs": [
    {
     "name": "stdout",
     "output_type": "stream",
     "text": [
      "Ventura!\n",
      "Modoc County\n",
      "Mariposa County\n"
     ]
    }
   ],
   "source": [
    "print('Ventura!')\n",
    "print(max(DTWvalues8, key=DTWvalues8.get))\n",
    "print(min(DTWvalues8, key=DTWvalues8.get))"
   ]
  },
  {
   "cell_type": "code",
   "execution_count": 41,
   "metadata": {},
   "outputs": [
    {
     "name": "stdout",
     "output_type": "stream",
     "text": [
      "San Diego!\n",
      "San Luis Obispo County\n",
      "San Diego County\n"
     ]
    }
   ],
   "source": [
    "print('San Diego!')\n",
    "print(max(DTWvalues9, key=DTWvalues9.get))\n",
    "print(min(DTWvalues9, key=DTWvalues9.get))"
   ]
  },
  {
   "cell_type": "code",
   "execution_count": 42,
   "metadata": {},
   "outputs": [
    {
     "name": "stdout",
     "output_type": "stream",
     "text": [
      "Imperial!\n",
      "Kern County\n",
      "Del Norte County\n"
     ]
    }
   ],
   "source": [
    "print('Imperial!')\n",
    "print(max(DTWvalues10, key=DTWvalues10.get))\n",
    "print(min(DTWvalues10, key=DTWvalues10.get))"
   ]
  },
  {
   "cell_type": "code",
   "execution_count": 43,
   "metadata": {},
   "outputs": [
    {
     "data": {
      "text/plain": [
       "1220.0"
      ]
     },
     "execution_count": 43,
     "metadata": {},
     "output_type": "execute_result"
    }
   ],
   "source": [
    "DTWvalues8['Alameda County']"
   ]
  },
  {
   "cell_type": "code",
   "execution_count": 44,
   "metadata": {},
   "outputs": [
    {
     "data": {
      "text/plain": [
       "{'Alameda County': 1264.0,\n",
       " 'Alpine County': 1392.0,\n",
       " 'Amador County': 1225.0,\n",
       " 'Butte County': 1213.0,\n",
       " 'Calaveras County': 1267.0,\n",
       " 'Colusa County': 1176.0,\n",
       " 'Contra Costa County': 1210.0,\n",
       " 'Del Norte County': 1492.0,\n",
       " 'El Dorado County': 1389.0,\n",
       " 'Glenn County': 1172.0,\n",
       " 'Humboldt County': 1405.0,\n",
       " 'Imperial County': 1944.0,\n",
       " 'Inyo County': 1550.0,\n",
       " 'Kern County': 1195.0,\n",
       " 'Kings County': 1129.0,\n",
       " 'Lake County': 1445.0,\n",
       " 'Lassen County': 1419.0,\n",
       " 'Los Angeles County': 1399.0,\n",
       " 'Madera County': 1004.0,\n",
       " 'Marin County': 1404.0,\n",
       " 'Mariposa County': 1041.0,\n",
       " 'Mendocino County': 1497.0,\n",
       " 'Merced County': 1195.0,\n",
       " 'Modoc County': 1799.0,\n",
       " 'Mono County': 1472.0,\n",
       " 'Monterey County': 1184.0,\n",
       " 'Napa County': 1208.0,\n",
       " 'Nevada County': 1303.0,\n",
       " 'Orange County': 1235.0,\n",
       " 'Placer County': 1164.0,\n",
       " 'Plumas County': 1275.0,\n",
       " 'Riverside County': 1354.0,\n",
       " 'Sacramento County': 1148.0,\n",
       " 'San Benito County': 1194.0,\n",
       " 'San Bernardino County': 1396.0,\n",
       " 'San Diego County': 1824.0,\n",
       " 'San Francisco County': 1501.0,\n",
       " 'San Joaquin County': 1254.0,\n",
       " 'San Luis Obispo County': 1234.0,\n",
       " 'San Mateo County': 1483.0,\n",
       " 'Santa Barbara County': 1318.0,\n",
       " 'Santa Clara County': 1195.0,\n",
       " 'Santa Cruz County': 1435.0,\n",
       " 'Shasta County': 1284.0,\n",
       " 'Sierra County': 1339.0,\n",
       " 'Siskiyou County': 1233.0,\n",
       " 'Solano County': 1261.0,\n",
       " 'Sonoma County': 1507.0,\n",
       " 'Stanislaus County': 1212.0,\n",
       " 'Sutter County': 1133.0,\n",
       " 'Tehama County': 1215.0,\n",
       " 'Trinity County': 1456.0,\n",
       " 'Tulare County': 1030.0,\n",
       " 'Tuolumne County': 1083.0,\n",
       " 'Ventura County': 1136.0,\n",
       " 'Yolo County': 1240.0,\n",
       " 'Yuba County': 1240.0}"
      ]
     },
     "execution_count": 44,
     "metadata": {},
     "output_type": "execute_result"
    }
   ],
   "source": [
    "DTWvalues"
   ]
  },
  {
   "cell_type": "code",
   "execution_count": null,
   "metadata": {},
   "outputs": [
    {
     "data": {
      "text/html": [
       "<div>\n",
       "<style>\n",
       "    .dataframe thead tr:only-child th {\n",
       "        text-align: right;\n",
       "    }\n",
       "\n",
       "    .dataframe thead th {\n",
       "        text-align: left;\n",
       "    }\n",
       "\n",
       "    .dataframe tbody tr th {\n",
       "        vertical-align: top;\n",
       "    }\n",
       "</style>\n",
       "<table border=\"1\" class=\"dataframe\">\n",
       "  <thead>\n",
       "    <tr style=\"text-align: right;\">\n",
       "      <th></th>\n",
       "      <th>State</th>\n",
       "      <th>PercentCurrent</th>\n",
       "      <th>AreaCurrent</th>\n",
       "      <th>USDMLevelID</th>\n",
       "      <th>USDMLevel</th>\n",
       "      <th>County</th>\n",
       "      <th>AreaMiles</th>\n",
       "      <th>ReleaseDate</th>\n",
       "      <th>Year</th>\n",
       "    </tr>\n",
       "  </thead>\n",
       "  <tbody>\n",
       "    <tr>\n",
       "      <th>0</th>\n",
       "      <td>CA</td>\n",
       "      <td>60.79</td>\n",
       "      <td>455.19</td>\n",
       "      <td>1</td>\n",
       "      <td>D0</td>\n",
       "      <td>Alameda County</td>\n",
       "      <td>748.73</td>\n",
       "      <td>2000-01-04</td>\n",
       "      <td>2000</td>\n",
       "    </tr>\n",
       "    <tr>\n",
       "      <th>3337</th>\n",
       "      <td>CA</td>\n",
       "      <td>24.19</td>\n",
       "      <td>803.63</td>\n",
       "      <td>1</td>\n",
       "      <td>D0</td>\n",
       "      <td>Monterey County</td>\n",
       "      <td>3,322.61</td>\n",
       "      <td>2000-01-04</td>\n",
       "      <td>2000</td>\n",
       "    </tr>\n",
       "    <tr>\n",
       "      <th>3373</th>\n",
       "      <td>CA</td>\n",
       "      <td>98.01</td>\n",
       "      <td>769.98</td>\n",
       "      <td>1</td>\n",
       "      <td>D0</td>\n",
       "      <td>Napa County</td>\n",
       "      <td>785.58</td>\n",
       "      <td>2000-01-04</td>\n",
       "      <td>2000</td>\n",
       "    </tr>\n",
       "    <tr>\n",
       "      <th>3432</th>\n",
       "      <td>CA</td>\n",
       "      <td>24.68</td>\n",
       "      <td>241.03</td>\n",
       "      <td>1</td>\n",
       "      <td>D0</td>\n",
       "      <td>Nevada County</td>\n",
       "      <td>976.61</td>\n",
       "      <td>2000-01-04</td>\n",
       "      <td>2000</td>\n",
       "    </tr>\n",
       "    <tr>\n",
       "      <th>3616</th>\n",
       "      <td>CA</td>\n",
       "      <td>100.00</td>\n",
       "      <td>795.81</td>\n",
       "      <td>1</td>\n",
       "      <td>D0</td>\n",
       "      <td>Orange County</td>\n",
       "      <td>795.81</td>\n",
       "      <td>2000-01-04</td>\n",
       "      <td>2000</td>\n",
       "    </tr>\n",
       "  </tbody>\n",
       "</table>\n",
       "</div>"
      ],
      "text/plain": [
       "     State  PercentCurrent AreaCurrent  USDMLevelID USDMLevel  \\\n",
       "0       CA           60.79      455.19            1      D0     \n",
       "3337    CA           24.19      803.63            1      D0     \n",
       "3373    CA           98.01      769.98            1      D0     \n",
       "3432    CA           24.68      241.03            1      D0     \n",
       "3616    CA          100.00      795.81            1      D0     \n",
       "\n",
       "               County AreaMiles ReleaseDate  Year  \n",
       "0      Alameda County    748.73  2000-01-04  2000  \n",
       "3337  Monterey County  3,322.61  2000-01-04  2000  \n",
       "3373      Napa County    785.58  2000-01-04  2000  \n",
       "3432    Nevada County    976.61  2000-01-04  2000  \n",
       "3616    Orange County    795.81  2000-01-04  2000  "
      ]
     },
     "execution_count": 45,
     "metadata": {},
     "output_type": "execute_result"
    }
   ],
   "source": [
    "California_Severity_Data.head()"
   ]
  },
  {
   "cell_type": "code",
   "execution_count": null,
   "metadata": {},
   "outputs": [],
   "source": [
    "for idx,value in enumerate(California_Severity_Data.AreaCurrent):\n",
    "    value=value.replace(',', '')\n",
    "    California_Severity_Data.iloc[idx,2] = float(value)\n",
    "California_Severity_Data.head()\n"
   ]
  },
  {
   "cell_type": "code",
   "execution_count": null,
   "metadata": {
    "scrolled": true
   },
   "outputs": [],
   "source": [
    "for idx,value in enumerate(California_Severity_Data.AreaMiles):\n",
    "    value=value.replace(',', '')\n",
    "    California_Severity_Data.iloc[idx,6] = float(value)\n",
    "California_Severity_Data.head()"
   ]
  },
  {
   "cell_type": "code",
   "execution_count": null,
   "metadata": {},
   "outputs": [],
   "source": [
    "California_Severity_Data"
   ]
  },
  {
   "cell_type": "code",
   "execution_count": null,
   "metadata": {
    "collapsed": true
   },
   "outputs": [],
   "source": [
    "from sklearn.linear_model import LogisticRegression\n",
    "from sklearn.model_selection import train_test_split"
   ]
  },
  {
   "cell_type": "code",
   "execution_count": null,
   "metadata": {
    "collapsed": true
   },
   "outputs": [],
   "source": [
    "predictors=California_Severity_Data[['PercentCurrent',\n",
    "                                     'AreaCurrent',\n",
    "                                     'AreaMiles',\n",
    "                                     'Year']]\n",
    "y=California_Severity_Data['USDMLevelID']"
   ]
  },
  {
   "cell_type": "code",
   "execution_count": null,
   "metadata": {},
   "outputs": [],
   "source": [
    "X_train, X_test, y_train, y_test = train_test_split(predictors,y, test_size=0.33)\n",
    "from sklearn.preprocessing import StandardScaler\n",
    "scaler=StandardScaler()\n",
    "scaler.fit_transform(X_train)\n",
    "scaler.fit_transform(X_test)\n",
    "logr = LogisticRegression()\n",
    "logr.fit(X_train, y_train)\n",
    "logr.score(X_train, y_train)\n",
    "logr.score(X_test, y_test)"
   ]
  },
  {
   "cell_type": "code",
   "execution_count": null,
   "metadata": {},
   "outputs": [],
   "source": [
    "California_Severity_Data['USDMLevelID'].value_counts()"
   ]
  },
  {
   "cell_type": "code",
   "execution_count": null,
   "metadata": {},
   "outputs": [],
   "source": [
    "len(California_Severity_Data)"
   ]
  },
  {
   "cell_type": "code",
   "execution_count": null,
   "metadata": {},
   "outputs": [],
   "source": [
    "34263/94219"
   ]
  },
  {
   "cell_type": "code",
   "execution_count": null,
   "metadata": {},
   "outputs": [],
   "source": [
    "from sklearn.model_selection import cross_val_score, cross_val_predict\n",
    "from sklearn import metrics\n",
    "logr=linear_model.LogisticRegression()\n",
    "scores=cross_val_score(logr,X_train,y_train, cv=3)\n",
    "scores\n",
    "scores.mean()"
   ]
  },
  {
   "cell_type": "code",
   "execution_count": null,
   "metadata": {},
   "outputs": [],
   "source": [
    "California_Severity_Data"
   ]
  },
  {
   "cell_type": "code",
   "execution_count": null,
   "metadata": {
    "collapsed": true
   },
   "outputs": [],
   "source": []
  }
 ],
 "metadata": {
  "kernelspec": {
   "display_name": "Python 3",
   "language": "python",
   "name": "python3"
  },
  "language_info": {
   "codemirror_mode": {
    "name": "ipython",
    "version": 3
   },
   "file_extension": ".py",
   "mimetype": "text/x-python",
   "name": "python",
   "nbconvert_exporter": "python",
   "pygments_lexer": "ipython3",
   "version": "3.6.1"
  }
 },
 "nbformat": 4,
 "nbformat_minor": 2
}
