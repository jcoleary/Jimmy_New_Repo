{
 "cells": [
  {
   "cell_type": "code",
   "execution_count": 1,
   "metadata": {
    "collapsed": true
   },
   "outputs": [],
   "source": [
    "import pandas as pd\n",
    "import numpy as np\n",
    "import matplotlib.pyplot as plt\n",
    "import seaborn as sns\n",
    "from datetime import datetime, timedelta\n",
    "from gensim import corpora, models, matutils\n",
    "from sklearn.feature_extraction.text import CountVectorizer, TfidfVectorizer\n",
    "from collections import defaultdict\n",
    "from fastdtw import fastdtw\n",
    "%matplotlib inline"
   ]
  },
  {
   "cell_type": "code",
   "execution_count": 2,
   "metadata": {
    "collapsed": true
   },
   "outputs": [],
   "source": [
    "def dateconverter(value): \n",
    "    s= str(value)\n",
    "    Date=datetime.strptime(value, '%m/%d/%y')\n",
    "    return Date"
   ]
  },
  {
   "cell_type": "code",
   "execution_count": 3,
   "metadata": {
    "collapsed": true
   },
   "outputs": [],
   "source": [
    "def get_countydict(df):\n",
    "    Counties={}\n",
    "    for value in df.County.unique():\n",
    "        Counties[value]=df.loc[df['County'] == value]\n",
    "    return Counties"
   ]
  },
  {
   "cell_type": "markdown",
   "metadata": {},
   "source": [
    "This section is EDA and cleaning of all drought severity data dealing with California."
   ]
  },
  {
   "cell_type": "code",
   "execution_count": 4,
   "metadata": {
    "collapsed": true
   },
   "outputs": [],
   "source": [
    "CA_SEV_DATA1=pd.read_csv('datasets/California_Drought_Severity_By_County_1997-2002.csv')\n",
    "CA_SEV_DATA2=pd.read_csv('datasets/California_Drought_Severity_By_County_2002-2007.csv')\n",
    "CA_SEV_DATA3=pd.read_csv('datasets/California_Drought_Severity_By_County_2007-2012.csv')\n",
    "CA_SEV_DATA4=pd.read_csv('datasets/California_Drought_Severity_By_County_2012-2017.csv')"
   ]
  },
  {
   "cell_type": "code",
   "execution_count": 82,
   "metadata": {},
   "outputs": [
    {
     "data": {
      "text/plain": [
       "(94219, 12)"
      ]
     },
     "execution_count": 82,
     "metadata": {},
     "output_type": "execute_result"
    }
   ],
   "source": [
    "California_Severity_Data=pd.concat([CA_SEV_DATA1,CA_SEV_DATA2,CA_SEV_DATA3,CA_SEV_DATA4],axis=0)\n",
    "California_Severity_Data.shape"
   ]
  },
  {
   "cell_type": "code",
   "execution_count": 6,
   "metadata": {
    "collapsed": true
   },
   "outputs": [],
   "source": [
    "California_Severity_Data.rename(columns={'Name': 'County'}, inplace=True)"
   ]
  },
  {
   "cell_type": "code",
   "execution_count": 7,
   "metadata": {
    "collapsed": true
   },
   "outputs": [],
   "source": [
    "CA_SEV_Dates=pd.DataFrame(California_Severity_Data.ReleaseDate.apply(dateconverter))"
   ]
  },
  {
   "cell_type": "code",
   "execution_count": 8,
   "metadata": {
    "collapsed": true
   },
   "outputs": [],
   "source": [
    "California_Severity_Data.ReleaseDate=CA_SEV_Dates.ReleaseDate"
   ]
  },
  {
   "cell_type": "code",
   "execution_count": 9,
   "metadata": {
    "collapsed": true
   },
   "outputs": [],
   "source": [
    "CA_years=[]\n",
    "for value in California_Severity_Data['ReleaseDate']:\n",
    "    CA_years.append(value.year)"
   ]
  },
  {
   "cell_type": "code",
   "execution_count": 10,
   "metadata": {
    "collapsed": true
   },
   "outputs": [],
   "source": [
    "CAyearsdf=pd.DataFrame(data=CA_years)"
   ]
  },
  {
   "cell_type": "code",
   "execution_count": 11,
   "metadata": {
    "collapsed": true
   },
   "outputs": [],
   "source": [
    "CAyearsdf.rename(columns={0: 'Years'}, inplace=True)"
   ]
  },
  {
   "cell_type": "code",
   "execution_count": 12,
   "metadata": {
    "collapsed": true
   },
   "outputs": [],
   "source": [
    "California_Severity_Data = California_Severity_Data.reset_index(drop=True)"
   ]
  },
  {
   "cell_type": "code",
   "execution_count": 13,
   "metadata": {
    "collapsed": true
   },
   "outputs": [],
   "source": [
    "California_Severity_Data['Year']=CAyearsdf['Years']"
   ]
  },
  {
   "cell_type": "code",
   "execution_count": 14,
   "metadata": {
    "collapsed": true
   },
   "outputs": [],
   "source": [
    "California_Severity_Data.sort_values(by='ReleaseDate',ascending=True,inplace=True)"
   ]
  },
  {
   "cell_type": "code",
   "execution_count": 15,
   "metadata": {
    "collapsed": true
   },
   "outputs": [],
   "source": [
    "California_Severity_Data.drop(['Id','PercentChangeFromWAve',\n",
    "                             'AreaChangeFromWAve','StatisticFormatID'],axis=1,\n",
    "                             inplace=True)"
   ]
  },
  {
   "cell_type": "code",
   "execution_count": 16,
   "metadata": {
    "collapsed": true
   },
   "outputs": [],
   "source": [
    "California=get_countydict(California_Severity_Data)"
   ]
  },
  {
   "cell_type": "code",
   "execution_count": 17,
   "metadata": {},
   "outputs": [
    {
     "name": "stderr",
     "output_type": "stream",
     "text": [
      "/home/ec2-user/anaconda3/lib/python3.6/site-packages/ipykernel_launcher.py:61: SettingWithCopyWarning: \n",
      "A value is trying to be set on a copy of a slice from a DataFrame.\n",
      "Try using .loc[row_indexer,col_indexer] = value instead\n",
      "\n",
      "See the caveats in the documentation: http://pandas.pydata.org/pandas-docs/stable/indexing.html#indexing-view-versus-copy\n"
     ]
    }
   ],
   "source": [
    "CABioregiondict={'Sierra County':'Sierra',\n",
    "               'Amador County':'Sierra',\n",
    "               'Placer County':'Sierra',\n",
    "               'Alpine County':'Sierra',\n",
    "               'Santa Clara County':'Bay/Delta',\n",
    "               'Yolo County':'Sacramento Valley',\n",
    "               'Mono County':'Sierra',\n",
    "               'Ventura County':'Central Coast',\n",
    "               'Modoc County':'Modoc',\n",
    "               'Napa County':'Bay/Delta',\n",
    "               'San Luis Obispo County':'Central Coast',\n",
    "               'Los Angeles County':'South Coast',\n",
    "               'Contra Costa County':'Bay/Delta',\n",
    "               'Yuba County':'Sacramento Valley',\n",
    "               'Solano County':'Bay/Delta', \n",
    "               'Del Norte County':'Klamath/North Coast',\n",
    "               'Riverside County':'Mojave',\n",
    "               'Monterey County':'Central Coast',\n",
    "               'Plumas County':'Sierra',\n",
    "               'San Francisco County':'Bay/Delta',\n",
    "               'Mariposa County':'Sierra',\n",
    "               'Shasta County':'Sacramento Valley',\n",
    "               'Santa Cruz County':'Central Coast',\n",
    "               'Tehama County':'Sacramento Valley',\n",
    "               'Imperial County':'Colorado Desert',\n",
    "               'Siskiyou County':'Klamath/North Coast',\n",
    "               'El Dorado County':'Sierra',\n",
    "               'Mendocino County':'Klamath/North Coast',\n",
    "               'Fresno County':'San Joaquin Valley',\n",
    "               'San Bernardino County':'Mojave',\n",
    "               'San Joaquin County':'San Joaquin Valley',\n",
    "               'Tulare County':'San Joaquin Valley',\n",
    "               'Alameda County':'Bay/Delta',\n",
    "               'Kings County':'San Joaquin Valley',\n",
    "               'Butte County':'Sacramento Valley',\n",
    "               'Merced County':'San Joaquin Valley',\n",
    "               'Sacramento County':'Sacramento Valley',\n",
    "               'Tuolumne County':'Sierra',\n",
    "               'Sonoma County':'Bay/Delta',\n",
    "               'Santa Barbara County':'Central Coast',\n",
    "               'Madera County':'San Joaquin Valley',\n",
    "               'Lassen County':'Modoc',\n",
    "               'Glenn County':'Sacramento Valley',\n",
    "               'Sutter County':'Sacramento Valley',\n",
    "               'San Diego County':'South Coast',\n",
    "               'Lake County':'Klamath/North Coast',\n",
    "               'Nevada County':'Sierra',\n",
    "               'Trinity County':'Klamath/North Coast',\n",
    "               'Inyo County':'Sierra',\n",
    "               'San Mateo County':'Bay/Delta',\n",
    "               'Orange County':'South Coast',\n",
    "               'Humboldt County':'Klamath/North Coast',\n",
    "               'Colusa County':'Sacramento Valley',\n",
    "               'Calaveras County':'Sierra',\n",
    "               'Kern County':'San Joaquin Valley',\n",
    "               'San Benito County':'Central Coast',\n",
    "               'Marin County':'Bay/Delta',\n",
    "               'Stanislaus County':'San Joaquin Valley'\n",
    "              }\n",
    "for key, value in CABioregiondict.items():\n",
    "    California[key]['Bioregion']=value"
   ]
  },
  {
   "cell_type": "markdown",
   "metadata": {},
   "source": [
    "This section is EDA and cleaning of all drought severity data dealing with Nebraska."
   ]
  },
  {
   "cell_type": "code",
   "execution_count": 18,
   "metadata": {
    "collapsed": true
   },
   "outputs": [],
   "source": [
    "NE_SEV_DATA1=pd.read_csv('datasets/Nebraska_Drought_Severity_By_County_1997-2002.csv')\n",
    "NE_SEV_DATA2=pd.read_csv('datasets/Nebraska_Drought_Severity_By_County_2002-2007.csv')\n",
    "NE_SEV_DATA3=pd.read_csv('datasets/Nebraska_Drought_Severity_By_County_2007-2012.csv')\n",
    "NE_SEV_DATA4=pd.read_csv('datasets/Nebraska_Drought_Severity_By_County_2012-2017.csv')"
   ]
  },
  {
   "cell_type": "code",
   "execution_count": 19,
   "metadata": {},
   "outputs": [
    {
     "data": {
      "text/plain": [
       "(117659, 12)"
      ]
     },
     "execution_count": 19,
     "metadata": {},
     "output_type": "execute_result"
    }
   ],
   "source": [
    "Nebraska_Severity_Data=pd.concat([NE_SEV_DATA1,NE_SEV_DATA2,NE_SEV_DATA3,NE_SEV_DATA4],axis=0)\n",
    "Nebraska_Severity_Data.shape"
   ]
  },
  {
   "cell_type": "code",
   "execution_count": 20,
   "metadata": {
    "collapsed": true
   },
   "outputs": [],
   "source": [
    "Nebraska_Severity_Data.rename(columns={'Name': 'County'}, inplace=True)"
   ]
  },
  {
   "cell_type": "code",
   "execution_count": 21,
   "metadata": {
    "collapsed": true
   },
   "outputs": [],
   "source": [
    "NE_SEV_Dates=pd.DataFrame(Nebraska_Severity_Data.ReleaseDate.apply(dateconverter))"
   ]
  },
  {
   "cell_type": "code",
   "execution_count": 22,
   "metadata": {
    "collapsed": true
   },
   "outputs": [],
   "source": [
    "Nebraska_Severity_Data.ReleaseDate=NE_SEV_Dates.ReleaseDate"
   ]
  },
  {
   "cell_type": "code",
   "execution_count": 23,
   "metadata": {
    "collapsed": true
   },
   "outputs": [],
   "source": [
    "NE_years=[]\n",
    "for value in Nebraska_Severity_Data['ReleaseDate']:\n",
    "   NE_years.append(value.year)"
   ]
  },
  {
   "cell_type": "code",
   "execution_count": 24,
   "metadata": {
    "collapsed": true
   },
   "outputs": [],
   "source": [
    "NEyearsdf=pd.DataFrame(data=NE_years)"
   ]
  },
  {
   "cell_type": "code",
   "execution_count": 25,
   "metadata": {
    "collapsed": true
   },
   "outputs": [],
   "source": [
    "NEyearsdf.rename(columns={0: 'Years'}, inplace=True)"
   ]
  },
  {
   "cell_type": "code",
   "execution_count": 26,
   "metadata": {
    "collapsed": true
   },
   "outputs": [],
   "source": [
    "Nebraska_Severity_Data = Nebraska_Severity_Data.reset_index(drop=True)"
   ]
  },
  {
   "cell_type": "code",
   "execution_count": 27,
   "metadata": {
    "collapsed": true
   },
   "outputs": [],
   "source": [
    "Nebraska_Severity_Data['Year']=NEyearsdf['Years']"
   ]
  },
  {
   "cell_type": "code",
   "execution_count": 28,
   "metadata": {
    "collapsed": true
   },
   "outputs": [],
   "source": [
    "Nebraska_Severity_Data.sort_values(by='ReleaseDate',ascending=True,inplace=True)"
   ]
  },
  {
   "cell_type": "code",
   "execution_count": 29,
   "metadata": {
    "collapsed": true
   },
   "outputs": [],
   "source": [
    "Nebraska_Severity_Data.drop(['Id','PercentChangeFromWAve',\n",
    "                             'AreaChangeFromWAve','StatisticFormatID'],axis=1,\n",
    "                             inplace=True)"
   ]
  },
  {
   "cell_type": "code",
   "execution_count": 30,
   "metadata": {
    "collapsed": true
   },
   "outputs": [],
   "source": [
    "Nebraska=get_countydict(Nebraska_Severity_Data)"
   ]
  },
  {
   "cell_type": "code",
   "execution_count": 31,
   "metadata": {
    "scrolled": true
   },
   "outputs": [
    {
     "name": "stderr",
     "output_type": "stream",
     "text": [
      "/home/ec2-user/anaconda3/lib/python3.6/site-packages/ipykernel_launcher.py:98: SettingWithCopyWarning: \n",
      "A value is trying to be set on a copy of a slice from a DataFrame.\n",
      "Try using .loc[row_indexer,col_indexer] = value instead\n",
      "\n",
      "See the caveats in the documentation: http://pandas.pydata.org/pandas-docs/stable/indexing.html#indexing-view-versus-copy\n"
     ]
    }
   ],
   "source": [
    "NEBioregiondict={'York County':'Tallgrass Prairie',\n",
    "                 'Cheyenne County':'Shortgrass Prairie',\n",
    "                 'Rock County':'Sandhills',\n",
    "                 'Clay County':'Tallgrass Prairie',\n",
    "                 'Richardson County':'Tallgrass Prairie',\n",
    "                 'Colfax County':'Tallgrass Prairie',\n",
    "                 'Red Willow County':'Mixedgrass Prairie',\n",
    "                 'Cuming County':'Tallgrass Prairie',\n",
    "                 'Polk County':'Tallgrass Prairie',\n",
    "                 'Custer County':'Mixedgrass Prairie',\n",
    "                 'Platte County':'Tallgrass Prairie',\n",
    "                 'Dakota County':'Tallgrass Prairie',\n",
    "                 'Pierce County':'Tallgrass Prairie',\n",
    "                 'Dawes County':'Shortgrass Prairie',\n",
    "                 'Phelps County':'Mixedgrass Prairie',\n",
    "                 'Perkins County':'Shortgrass Prairie',\n",
    "                 'Deuel County':'Shortgrass Prairie',\n",
    "                 'Pawnee County':'Tallgrass Prairie',\n",
    "                 'Dixon County':'Tallgrass Prairie',\n",
    "                 'Otoe County':'Tallgrass Prairie',\n",
    "                 'Dodge County':'Tallgrass Prairie',\n",
    "                 'Nuckolls County':'Mixedgrass Prairie',\n",
    "                 'Douglas County':'Tallgrass Prairie',\n",
    "                 'Nemaha County':'Tallgrass Prairie',\n",
    "                 'Dundy County':'Shortgrass Prairie',\n",
    "                 'Wheeler County':'Sandhills',\n",
    "                 'Nance County':'Tallgrass Prairie',\n",
    "                 'Fillmore County':'Tallgrass Prairie',\n",
    "                 'Saline County':'Tallgrass Prairie',\n",
    "                 'Morrill County':'Shortgrass Prairie',\n",
    "                 'Cherry County':'Sandhills',\n",
    "                 'Chase County':'Shortgrass Prairie',\n",
    "                 'Antelope County':'Tallgrass Prairie',\n",
    "                 'Wayne County':'Tallgrass Prairie',\n",
    "                 'Arthur County':'Sandhills',\n",
    "                 'Washington County':'Tallgrass Prairie',\n",
    "                 'Banner County':'Shortgrass Prairie',\n",
    "                 'Valley County':'Mixedgrass Prairie',\n",
    "                 'Blaine County':'Sandhills',\n",
    "                 'Thurston County':'Tallgrass Prairie',\n",
    "                 'Boone County':'Tallgrass Prairie',\n",
    "                 'Thomas County':'Sandhills',\n",
    "                 'Box Butte County':'Shortgrass Prairie',\n",
    "                 'Thayer County':'Tallgrass Prairie',\n",
    "                 'Boyd County':'Mixedgrass Prairie',\n",
    "                 'Stanton County':'Tallgrass Prairie',\n",
    "                 'Brown County':'Sandhills',\n",
    "                 'Sioux County':'Shortgrass Prairie',\n",
    "                 'Buffalo County':'Mixedgrass Prairie',\n",
    "                 'Sherman County':'Mixedgrass Prairie',\n",
    "                 'Burt County':'Tallgrass Prairie',\n",
    "                 'Sheridan County':'Sandhills',\n",
    "                 'Butler County':'Tallgrass Prairie', \n",
    "                 'Adams County':'Mixedgrass Prairie', \n",
    "                 'Seward County':'Tallgrass Prairie',\n",
    "                 'Cass County':'Tallgrass Prairie', \n",
    "                 'Scotts Bluff County':'Shortgrass Prairie',\n",
    "                 'Cedar County':'Tallgrass Prairie',\n",
    "                 'Saunders County':'Tallgrass Prairie',\n",
    "                 'Sarpy County':'Tallgrass Prairie', \n",
    "                 'Franklin County':'Mixedgrass Prairie',\n",
    "                 'Dawson County':'Mixedgrass Prairie',\n",
    "                 'Merrick County':'Mixedgrass Prairie',\n",
    "                 'Garfield County':'Sandhills',\n",
    "                 'Lincoln County':'Sandhills',\n",
    "                 'Gosper County':'Mixedgrass Prairie',\n",
    "                 'Lancaster County':'Tallgrass Prairie',\n",
    "                 'Grant County':'Sandhills',\n",
    "                 'Knox County':'Tallgrass Prairie',\n",
    "                 'Greeley County':'Mixedgrass Prairie',\n",
    "                 'Kimball County':'Shortgrass Prairie',\n",
    "                 'Hall County':'Mixedgrass Prairie',\n",
    "                 'Keya Paha County':'Mixedgrass Prairie',\n",
    "                 'Hamilton County':'Tallgrass Prairie', \n",
    "                 'Keith County':'Shortgrass Prairie', \n",
    "                 'Harlan County':'Mixedgrass Prairie',\n",
    "                 'Kearney County':'Mixedgrass Prairie',\n",
    "                 'Hayes County':'Mixedgrass Prairie', \n",
    "                 'Johnson County':'Tallgrass Prairie',\n",
    "                 'Hitchcock County':'Mixedgrass Prairie',\n",
    "                 'Jefferson County':'Tallgrass Prairie',\n",
    "                 'Holt County':'Sandhills',\n",
    "                 'Howard County':'Mixedgrass Prairie',\n",
    "                 'Hooker County':'Sandhills',\n",
    "                 'Logan County':'Sandhills',\n",
    "                 'Garden County':'Sandhills',\n",
    "                 'Webster County':'Mixedgrass Prairie',\n",
    "                 'Madison County':'Tallgrass Prairie',\n",
    "                 'Furnas County':'Mixedgrass Prairie', \n",
    "                 'Loup County':'Sandhills',\n",
    "                 'McPherson County':'Sandhills',\n",
    "                 'Gage County':'Tallgrass Prairie',\n",
    "                 'Frontier County':'Mixedgrass Prairie'\n",
    "                }\n",
    "\n",
    "\n",
    "for key, value in NEBioregiondict.items():\n",
    "    Nebraska[key]['Bioregion']=value"
   ]
  },
  {
   "cell_type": "code",
   "execution_count": 32,
   "metadata": {},
   "outputs": [
    {
     "data": {
      "text/plain": [
       "10"
      ]
     },
     "execution_count": 32,
     "metadata": {},
     "output_type": "execute_result"
    }
   ],
   "source": [
    "CA_agro_counties=['Fresno County',\n",
    "'Tulare County',\n",
    "'Monterey County',\n",
    "'Kern County',\n",
    "'Merced County',\n",
    "'Stanislaus County',\n",
    "'San Joaquin County',\n",
    "'Ventura County',\n",
    "'San Diego County',\n",
    "'Imperial County']\n",
    "len(CA_agro_counties)"
   ]
  },
  {
   "cell_type": "code",
   "execution_count": 33,
   "metadata": {
    "collapsed": true,
    "scrolled": false
   },
   "outputs": [],
   "source": [
    "DTWvalues={}\n",
    "for value in California.keys():\n",
    "    if value=='Fresno County':\n",
    "        continue\n",
    "    else:\n",
    "        test_list=fastdtw(California[value].USDMLevelID,\n",
    "        California['Fresno County'].USDMLevelID)\n",
    "        DTWvalues[value]=test_list[0]\n",
    "    #test_list2=test_list[1:]\n",
    "   # x = []; y=[]\n",
    "    #for point in test_list2[0]:\n",
    "       # x.append(point[0])\n",
    "        #y.append(point[1])\n",
    "    #plt.figure()\n",
    "   # plt.scatter(x,y)"
   ]
  },
  {
   "cell_type": "code",
   "execution_count": 34,
   "metadata": {
    "collapsed": true
   },
   "outputs": [],
   "source": [
    "DTWvalues={}\n",
    "for value in California.keys():\n",
    "    if value=='Fresno County':\n",
    "        continue\n",
    "    else:\n",
    "        test_list=fastdtw(California[value].USDMLevelID,\n",
    "        California['Fresno County'].USDMLevelID)\n",
    "        DTWvalues[value]=test_list[0]"
   ]
  },
  {
   "cell_type": "code",
   "execution_count": 35,
   "metadata": {
    "collapsed": true
   },
   "outputs": [],
   "source": [
    "DTWvalues2={}\n",
    "for value in California.keys():\n",
    "    if value=='Tulare County':\n",
    "        continue\n",
    "    else:\n",
    "        test_list=fastdtw(California[value].USDMLevelID,\n",
    "        California['Tulare County'].USDMLevelID)\n",
    "        DTWvalues2[value]=test_list[0]"
   ]
  },
  {
   "cell_type": "code",
   "execution_count": 36,
   "metadata": {
    "collapsed": true
   },
   "outputs": [],
   "source": [
    "DTWvalues3={}\n",
    "for value in California.keys():\n",
    "    if value=='Monterey County':\n",
    "        continue\n",
    "    else:\n",
    "        test_list=fastdtw(California[value].USDMLevelID,\n",
    "        California['Monterey County'].USDMLevelID)\n",
    "        DTWvalues3[value]=test_list[0]"
   ]
  },
  {
   "cell_type": "markdown",
   "metadata": {
    "collapsed": true
   },
   "source": [
    "'Merced County',\n",
    "'Stanislaus County',\n",
    "'San Joaquin County',\n",
    "'Ventura County',\n",
    "'',\n",
    "'Imperial County'"
   ]
  },
  {
   "cell_type": "code",
   "execution_count": 37,
   "metadata": {
    "collapsed": true
   },
   "outputs": [],
   "source": [
    "#test_list2"
   ]
  },
  {
   "cell_type": "code",
   "execution_count": 38,
   "metadata": {
    "collapsed": true
   },
   "outputs": [],
   "source": [
    "DTWvalues4={}\n",
    "for value in California.keys():\n",
    "    if value=='Kern County':\n",
    "        continue\n",
    "    else:\n",
    "        test_list=fastdtw(California[value].USDMLevelID,\n",
    "        California['Kern County'].USDMLevelID)\n",
    "        DTWvalues4[value]=test_list[0]"
   ]
  },
  {
   "cell_type": "code",
   "execution_count": 39,
   "metadata": {
    "collapsed": true
   },
   "outputs": [],
   "source": [
    "DTWvalues5={}\n",
    "for value in California.keys():\n",
    "    if value=='Merced County':\n",
    "        continue\n",
    "    else:\n",
    "        test_list=fastdtw(California[value].USDMLevelID,\n",
    "        California['Merced County'].USDMLevelID)\n",
    "        DTWvalues5[value]=test_list[0]"
   ]
  },
  {
   "cell_type": "code",
   "execution_count": 40,
   "metadata": {
    "collapsed": true
   },
   "outputs": [],
   "source": [
    "DTWvalues6={}\n",
    "for value in California.keys():\n",
    "    if value=='Stanislaus County':\n",
    "        continue\n",
    "    else:\n",
    "        test_list=fastdtw(California[value].USDMLevelID,\n",
    "        California['Stanislaus County'].USDMLevelID)\n",
    "        DTWvalues6[value]=test_list[0]\n",
    "    "
   ]
  },
  {
   "cell_type": "code",
   "execution_count": 41,
   "metadata": {
    "collapsed": true
   },
   "outputs": [],
   "source": [
    "DTWvalues7={}\n",
    "for value in California.keys():\n",
    "    if value=='San Joaquin County':\n",
    "        continue\n",
    "    else:\n",
    "        test_list=fastdtw(California[value].USDMLevelID,\n",
    "        California['San Joaquin County'].USDMLevelID)\n",
    "        DTWvalues7[value]=test_list[0]"
   ]
  },
  {
   "cell_type": "code",
   "execution_count": 42,
   "metadata": {
    "collapsed": true
   },
   "outputs": [],
   "source": [
    "DTWvalues8={}\n",
    "for value in California.keys():\n",
    "    if value=='Ventura County':\n",
    "        continue\n",
    "    else:\n",
    "        test_list=fastdtw(California[value].USDMLevelID,\n",
    "        California['Ventura County'].USDMLevelID)\n",
    "        DTWvalues8[value]=test_list[0]"
   ]
  },
  {
   "cell_type": "code",
   "execution_count": 43,
   "metadata": {
    "collapsed": true
   },
   "outputs": [],
   "source": [
    "DTWvalues9={}\n",
    "for value in California.keys():\n",
    "    if value=='San Diego County':\n",
    "        continue\n",
    "    else:\n",
    "        test_list=fastdtw(California[value].USDMLevelID,\n",
    "        California['San Diego County'].USDMLevelID)\n",
    "        DTWvalues9[value]=test_list[0]"
   ]
  },
  {
   "cell_type": "code",
   "execution_count": 44,
   "metadata": {
    "collapsed": true
   },
   "outputs": [],
   "source": [
    "DTWvalues10={}\n",
    "for value in California.keys():\n",
    "    if value=='Imperial County':\n",
    "        continue\n",
    "    else:\n",
    "        test_list=fastdtw(California[value].USDMLevelID,\n",
    "        California['Imperial County'].USDMLevelID)\n",
    "        DTWvalues10[value]=test_list[0]\n"
   ]
  },
  {
   "cell_type": "code",
   "execution_count": 45,
   "metadata": {
    "collapsed": true
   },
   "outputs": [],
   "source": [
    "#test_list3=fastdtw(California['Monterey County'].USDMLevelID,California['Fresno County'].USDMLevelID)"
   ]
  },
  {
   "cell_type": "markdown",
   "metadata": {},
   "source": [
    "['Fresno County',\n",
    "'Tulare County',\n",
    "'Monterey County',\n",
    "'Kern County',\n",
    "'Merced County',\n",
    "'Stanislaus County',\n",
    "'San Joaquin County',\n",
    "'Ventura County',\n",
    "'San Diego County',\n",
    "'Imperial County']"
   ]
  },
  {
   "cell_type": "code",
   "execution_count": 46,
   "metadata": {},
   "outputs": [
    {
     "name": "stdout",
     "output_type": "stream",
     "text": [
      "Fresno!\n",
      "Imperial County\n",
      "Madera County\n"
     ]
    }
   ],
   "source": [
    "print('Fresno!')\n",
    "print(max(DTWvalues, key=DTWvalues.get))\n",
    "print(min(DTWvalues, key=DTWvalues.get))"
   ]
  },
  {
   "cell_type": "code",
   "execution_count": 47,
   "metadata": {},
   "outputs": [
    {
     "name": "stdout",
     "output_type": "stream",
     "text": [
      "Tulare!\n",
      "San Diego County\n",
      "Madera County\n"
     ]
    }
   ],
   "source": [
    "print('Tulare!')\n",
    "print(max(DTWvalues2, key=DTWvalues2.get))\n",
    "print(min(DTWvalues2, key=DTWvalues2.get))"
   ]
  },
  {
   "cell_type": "code",
   "execution_count": 48,
   "metadata": {},
   "outputs": [
    {
     "name": "stdout",
     "output_type": "stream",
     "text": [
      "Monterey!\n",
      "Modoc County\n",
      "Santa Clara County\n"
     ]
    }
   ],
   "source": [
    "print('Monterey!')\n",
    "print(max(DTWvalues3, key=DTWvalues3.get))\n",
    "print(min(DTWvalues3, key=DTWvalues3.get))"
   ]
  },
  {
   "cell_type": "code",
   "execution_count": 49,
   "metadata": {},
   "outputs": [
    {
     "name": "stdout",
     "output_type": "stream",
     "text": [
      "Kern!\n",
      "Modoc County\n",
      "Tulare County\n"
     ]
    }
   ],
   "source": [
    "print('Kern!')\n",
    "print(max(DTWvalues4, key=DTWvalues4.get))\n",
    "print(min(DTWvalues4, key=DTWvalues4.get))"
   ]
  },
  {
   "cell_type": "code",
   "execution_count": 50,
   "metadata": {},
   "outputs": [
    {
     "name": "stdout",
     "output_type": "stream",
     "text": [
      "Merced!\n",
      "Modoc County\n",
      "Stanislaus County\n"
     ]
    }
   ],
   "source": [
    "print('Merced!')\n",
    "print(max(DTWvalues5, key=DTWvalues5.get))\n",
    "print(min(DTWvalues5, key=DTWvalues5.get))"
   ]
  },
  {
   "cell_type": "code",
   "execution_count": 51,
   "metadata": {},
   "outputs": [
    {
     "name": "stdout",
     "output_type": "stream",
     "text": [
      "Stanislaus!\n",
      "Modoc County\n",
      "Merced County\n"
     ]
    }
   ],
   "source": [
    "print('Stanislaus!')\n",
    "print(max(DTWvalues6, key=DTWvalues6.get))\n",
    "print(min(DTWvalues6, key=DTWvalues6.get))"
   ]
  },
  {
   "cell_type": "code",
   "execution_count": 52,
   "metadata": {},
   "outputs": [
    {
     "name": "stdout",
     "output_type": "stream",
     "text": [
      "San Joaquin!\n",
      "Modoc County\n",
      "Sacramento County\n"
     ]
    }
   ],
   "source": [
    "print('San Joaquin!')\n",
    "print(max(DTWvalues7, key=DTWvalues7.get))\n",
    "print(min(DTWvalues7, key=DTWvalues7.get))"
   ]
  },
  {
   "cell_type": "code",
   "execution_count": 53,
   "metadata": {},
   "outputs": [
    {
     "name": "stdout",
     "output_type": "stream",
     "text": [
      "Ventura!\n",
      "Modoc County\n",
      "Mariposa County\n"
     ]
    }
   ],
   "source": [
    "print('Ventura!')\n",
    "print(max(DTWvalues8, key=DTWvalues8.get))\n",
    "print(min(DTWvalues8, key=DTWvalues8.get))"
   ]
  },
  {
   "cell_type": "code",
   "execution_count": 54,
   "metadata": {},
   "outputs": [
    {
     "name": "stdout",
     "output_type": "stream",
     "text": [
      "San Diego!\n",
      "San Luis Obispo County\n",
      "Lake County\n"
     ]
    }
   ],
   "source": [
    "print('San Diego!')\n",
    "print(max(DTWvalues9, key=DTWvalues9.get))\n",
    "print(min(DTWvalues9, key=DTWvalues9.get))"
   ]
  },
  {
   "cell_type": "code",
   "execution_count": 55,
   "metadata": {},
   "outputs": [
    {
     "name": "stdout",
     "output_type": "stream",
     "text": [
      "Imperial!\n",
      "Kern County\n",
      "Del Norte County\n"
     ]
    }
   ],
   "source": [
    "print('Imperial!')\n",
    "print(max(DTWvalues10, key=DTWvalues10.get))\n",
    "print(min(DTWvalues10, key=DTWvalues10.get))"
   ]
  },
  {
   "cell_type": "code",
   "execution_count": 56,
   "metadata": {},
   "outputs": [
    {
     "data": {
      "text/plain": [
       "[<matplotlib.lines.Line2D at 0x7fed6d4a3080>]"
      ]
     },
     "execution_count": 56,
     "metadata": {},
     "output_type": "execute_result"
    },
    {
     "name": "stderr",
     "output_type": "stream",
     "text": [
      "/home/ec2-user/anaconda3/lib/python3.6/site-packages/matplotlib/font_manager.py:1297: UserWarning: findfont: Font family ['sans-serif'] not found. Falling back to DejaVu Sans\n",
      "  (prop.get_family(), self.defaultFamily[fontext]))\n"
     ]
    },
    {
     "data": {
      "image/png": "[encoded data removed]",
      "text/plain": [
       "<matplotlib.figure.Figure at 0x7fed2ed462b0>"
      ]
     },
     "metadata": {},
     "output_type": "display_data"
    }
   ],
   "source": [
    "plt.plot(California['Imperial County'].Year.unique(),California['Imperial County'].groupby('Year')\n",
    "            ['USDMLevelID'].mean())"
   ]
  },
  {
   "cell_type": "code",
   "execution_count": 57,
   "metadata": {
    "scrolled": true
   },
   "outputs": [
    {
     "data": {
      "text/plain": [
       "[<matplotlib.lines.Line2D at 0x7fed2dfba860>]"
      ]
     },
     "execution_count": 57,
     "metadata": {},
     "output_type": "execute_result"
    },
    {
     "name": "stderr",
     "output_type": "stream",
     "text": [
      "/home/ec2-user/anaconda3/lib/python3.6/site-packages/matplotlib/font_manager.py:1297: UserWarning: findfont: Font family ['sans-serif'] not found. Falling back to DejaVu Sans\n",
      "  (prop.get_family(), self.defaultFamily[fontext]))\n"
     ]
    },
    {
     "data": {
      "image/png": "[encoded data removed]",
      "text/plain": [
       "<matplotlib.figure.Figure at 0x7fed2e1d92b0>"
      ]
     },
     "metadata": {},
     "output_type": "display_data"
    }
   ],
   "source": [
    "plt.plot(California['Del Norte County'].Year.unique(),California['Del Norte County'].groupby('Year')\n",
    "            ['USDMLevelID'].mean())"
   ]
  },
  {
   "cell_type": "code",
   "execution_count": 58,
   "metadata": {},
   "outputs": [
    {
     "data": {
      "text/plain": [
       "[<matplotlib.lines.Line2D at 0x7fed2e1e6588>]"
      ]
     },
     "execution_count": 58,
     "metadata": {},
     "output_type": "execute_result"
    },
    {
     "name": "stderr",
     "output_type": "stream",
     "text": [
      "/home/ec2-user/anaconda3/lib/python3.6/site-packages/matplotlib/font_manager.py:1297: UserWarning: findfont: Font family ['sans-serif'] not found. Falling back to DejaVu Sans\n",
      "  (prop.get_family(), self.defaultFamily[fontext]))\n"
     ]
    },
    {
     "data": {
      "image/png": "[encoded data removed]",
      "text/plain": [
       "<matplotlib.figure.Figure at 0x7fed2de135c0>"
      ]
     },
     "metadata": {},
     "output_type": "display_data"
    }
   ],
   "source": [
    "plt.plot(California['Kern County'].Year.unique(),California['Kern County'].groupby('Year')\n",
    "            ['USDMLevelID'].mean())"
   ]
  },
  {
   "cell_type": "code",
   "execution_count": 59,
   "metadata": {
    "collapsed": true
   },
   "outputs": [],
   "source": [
    "tester=fastdtw(California['Alameda County'].USDMLevelID,\n",
    "                  California['Alameda County'].USDMLevelID)\n",
    "                  "
   ]
  },
  {
   "cell_type": "code",
   "execution_count": 60,
   "metadata": {
    "collapsed": true
   },
   "outputs": [],
   "source": [
    "#tester"
   ]
  },
  {
   "cell_type": "code",
   "execution_count": 61,
   "metadata": {},
   "outputs": [
    {
     "data": {
      "text/plain": [
       "[<matplotlib.lines.Line2D at 0x7fed2dd73400>]"
      ]
     },
     "execution_count": 61,
     "metadata": {},
     "output_type": "execute_result"
    },
    {
     "name": "stderr",
     "output_type": "stream",
     "text": [
      "/home/ec2-user/anaconda3/lib/python3.6/site-packages/matplotlib/font_manager.py:1297: UserWarning: findfont: Font family ['sans-serif'] not found. Falling back to DejaVu Sans\n",
      "  (prop.get_family(), self.defaultFamily[fontext]))\n"
     ]
    },
    {
     "data": {
      "image/png": "[encoded data removed]",
      "text/plain": [
       "<matplotlib.figure.Figure at 0x7fed2ed860f0>"
      ]
     },
     "metadata": {},
     "output_type": "display_data"
    }
   ],
   "source": [
    "plt.plot(California['Alameda County'].Year.unique(),California['Alameda County'].groupby('Year')\n",
    "            ['USDMLevelID'].mean())"
   ]
  },
  {
   "cell_type": "code",
   "execution_count": 62,
   "metadata": {},
   "outputs": [
    {
     "data": {
      "text/plain": [
       "<matplotlib.collections.PathCollection at 0x7fed2e382160>"
      ]
     },
     "execution_count": 62,
     "metadata": {},
     "output_type": "execute_result"
    },
    {
     "name": "stderr",
     "output_type": "stream",
     "text": [
      "/home/ec2-user/anaconda3/lib/python3.6/site-packages/matplotlib/font_manager.py:1297: UserWarning: findfont: Font family ['sans-serif'] not found. Falling back to DejaVu Sans\n",
      "  (prop.get_family(), self.defaultFamily[fontext]))\n"
     ]
    },
    {
     "data": {
      "image/png": "[encoded data removed]",
      "text/plain": [
       "<matplotlib.figure.Figure at 0x7fed2e3ee0f0>"
      ]
     },
     "metadata": {},
     "output_type": "display_data"
    }
   ],
   "source": [
    "DTWvaluesTester={}\n",
    "\n",
    "test_list=fastdtw(California['Imperial County'].USDMLevelID,\n",
    "California['Del Norte County'].USDMLevelID)\n",
    "test_list2=test_list[1:]\n",
    "x = []; y=[]\n",
    "for point in test_list2[0]:\n",
    "    x.append(point[0])\n",
    "    y.append(point[1])\n",
    "plt.figure()\n",
    "plt.scatter(x,y)"
   ]
  },
  {
   "cell_type": "code",
   "execution_count": 63,
   "metadata": {},
   "outputs": [
    {
     "data": {
      "text/plain": [
       "<matplotlib.collections.PathCollection at 0x7fed2dc2f0f0>"
      ]
     },
     "execution_count": 63,
     "metadata": {},
     "output_type": "execute_result"
    },
    {
     "name": "stderr",
     "output_type": "stream",
     "text": [
      "/home/ec2-user/anaconda3/lib/python3.6/site-packages/matplotlib/font_manager.py:1297: UserWarning: findfont: Font family ['sans-serif'] not found. Falling back to DejaVu Sans\n",
      "  (prop.get_family(), self.defaultFamily[fontext]))\n"
     ]
    },
    {
     "data": {
      "image/png": "[encoded data removed]",
      "text/plain": [
       "<matplotlib.figure.Figure at 0x7fed2dff8898>"
      ]
     },
     "metadata": {},
     "output_type": "display_data"
    }
   ],
   "source": [
    "DTWvaluesTester={}\n",
    "\n",
    "test_list=fastdtw(California['Imperial County'].USDMLevelID,\n",
    "California['Kern County'].USDMLevelID)\n",
    "test_list2=test_list[1:]\n",
    "x = []; y=[]\n",
    "for point in test_list2[0]:\n",
    "    x.append(point[0])\n",
    "    y.append(point[1])\n",
    "plt.figure()\n",
    "plt.scatter(x,y)"
   ]
  },
  {
   "cell_type": "code",
   "execution_count": 64,
   "metadata": {},
   "outputs": [
    {
     "data": {
      "text/plain": [
       "<matplotlib.collections.PathCollection at 0x7fed2e099c88>"
      ]
     },
     "execution_count": 64,
     "metadata": {},
     "output_type": "execute_result"
    },
    {
     "name": "stderr",
     "output_type": "stream",
     "text": [
      "/home/ec2-user/anaconda3/lib/python3.6/site-packages/matplotlib/font_manager.py:1297: UserWarning: findfont: Font family ['sans-serif'] not found. Falling back to DejaVu Sans\n",
      "  (prop.get_family(), self.defaultFamily[fontext]))\n"
     ]
    },
    {
     "data": {
      "image/png": "[encoded data removed]",
      "text/plain": [
       "<matplotlib.figure.Figure at 0x7fed2d492a20>"
      ]
     },
     "metadata": {},
     "output_type": "display_data"
    }
   ],
   "source": [
    "test_list=fastdtw(California['San Diego County'].USDMLevelID,\n",
    "California['Lake County'].USDMLevelID)\n",
    "test_list2=test_list[1:]\n",
    "x = []; y=[]\n",
    "for point in test_list2[0]:\n",
    "    x.append(point[0])\n",
    "    y.append(point[1])\n",
    "plt.figure()\n",
    "plt.scatter(x,y)"
   ]
  },
  {
   "cell_type": "code",
   "execution_count": 65,
   "metadata": {},
   "outputs": [
    {
     "data": {
      "text/plain": [
       "<matplotlib.collections.PathCollection at 0x7fed2da77668>"
      ]
     },
     "execution_count": 65,
     "metadata": {},
     "output_type": "execute_result"
    },
    {
     "name": "stderr",
     "output_type": "stream",
     "text": [
      "/home/ec2-user/anaconda3/lib/python3.6/site-packages/matplotlib/font_manager.py:1297: UserWarning: findfont: Font family ['sans-serif'] not found. Falling back to DejaVu Sans\n",
      "  (prop.get_family(), self.defaultFamily[fontext]))\n"
     ]
    },
    {
     "data": {
      "image/png": "[encoded data removed]",
      "text/plain": [
       "<matplotlib.figure.Figure at 0x7fed2e3c3550>"
      ]
     },
     "metadata": {},
     "output_type": "display_data"
    }
   ],
   "source": [
    "test_list=fastdtw(California['San Luis Obispo County'].USDMLevelID,\n",
    "California['Lake County'].USDMLevelID)\n",
    "test_list2=test_list[1:]\n",
    "x = []; y=[]\n",
    "for point in test_list2[0]:\n",
    "    x.append(point[0])\n",
    "    y.append(point[1])\n",
    "plt.figure()\n",
    "plt.scatter(x,y)"
   ]
  },
  {
   "cell_type": "code",
   "execution_count": 66,
   "metadata": {
    "collapsed": true
   },
   "outputs": [],
   "source": [
    "from sklearn.preprocessing import StandardScaler\n",
    "scaler=StandardScaler\n"
   ]
  },
  {
   "cell_type": "code",
   "execution_count": 67,
   "metadata": {
    "collapsed": true
   },
   "outputs": [],
   "source": [
    "from sklearn.cluster import KMeans\n",
    "KMeans=KMeans\n"
   ]
  },
  {
   "cell_type": "code",
   "execution_count": 68,
   "metadata": {
    "collapsed": true
   },
   "outputs": [],
   "source": [
    "model=KMeans(n_clusters=1883)\n"
   ]
  },
  {
   "cell_type": "code",
   "execution_count": 69,
   "metadata": {
    "collapsed": true
   },
   "outputs": [],
   "source": [
    "USDMLevelID=[California['Sierra County'].USDMLevelID,\n",
    "           California['Amador County'].USDMLevelID,\n",
    "           California['Placer County'].USDMLevelID,\n",
    "           California['Alpine County'].USDMLevelID,\n",
    "           California['Santa Clara County'].USDMLevelID,\n",
    "           California['Yolo County'].USDMLevelID,\n",
    "           California['Mono County'].USDMLevelID,\n",
    "           California['Ventura County'].USDMLevelID,\n",
    "           California['Modoc County'].USDMLevelID,\n",
    "           California['Napa County'].USDMLevelID,\n",
    "           California['San Luis Obispo County'].USDMLevelID,\n",
    "           California['Los Angeles County'].USDMLevelID,\n",
    "           California['Contra Costa County'].USDMLevelID,\n",
    "           California['Yuba County'].USDMLevelID,\n",
    "           California['Solano County'].USDMLevelID,\n",
    "           California['Del Norte County'].USDMLevelID,\n",
    "             California['Riverside County'].USDMLevelID,\n",
    "             California['Monterey County'].USDMLevelID,\n",
    "             California['Plumas County'].USDMLevelID,\n",
    "               California['San Francisco County'].USDMLevelID,\n",
    "               California['Mariposa County'].USDMLevelID,\n",
    "               California['Shasta County'].USDMLevelID,\n",
    "               California['Santa Cruz County'].USDMLevelID,\n",
    "               California['Tehama County'].USDMLevelID,\n",
    "               California['Imperial County'].USDMLevelID,\n",
    "               California['Siskiyou County'].USDMLevelID,\n",
    "               California['El Dorado County'].USDMLevelID,\n",
    "               California['Mendocino County'].USDMLevelID,\n",
    "               California['Fresno County'].USDMLevelID,\n",
    "               California['San Bernardino County'].USDMLevelID,\n",
    "               California['San Joaquin County'].USDMLevelID,\n",
    "               California['Tulare County'].USDMLevelID,\n",
    "               California['Alameda County'].USDMLevelID,\n",
    "               California['Kings County'].USDMLevelID,\n",
    "               California['Butte County'].USDMLevelID,\n",
    "               California['Merced County'].USDMLevelID,\n",
    "               California['Sacramento County'].USDMLevelID,\n",
    "               California['Tuolumne County'].USDMLevelID,\n",
    "               California['Sonoma County'].USDMLevelID,\n",
    "               California['Santa Barbara County'].USDMLevelID,\n",
    "               California['Madera County'].USDMLevelID,\n",
    "               California['Lassen County'].USDMLevelID,\n",
    "               California['Glenn County'].USDMLevelID,\n",
    "               California['Sutter County'].USDMLevelID,\n",
    "               California['San Diego County'].USDMLevelID,\n",
    "               California['Lake County'].USDMLevelID,\n",
    "               California['Nevada County'].USDMLevelID,\n",
    "               California['Trinity County'].USDMLevelID,\n",
    "               California['Inyo County'].USDMLevelID,\n",
    "               California['San Mateo County'].USDMLevelID,\n",
    "               California['Orange County'].USDMLevelID,\n",
    "               California['Humboldt County'].USDMLevelID,\n",
    "               California['Colusa County'].USDMLevelID,\n",
    "               California['Calaveras County'].USDMLevelID,\n",
    "               California['Kern County'].USDMLevelID,\n",
    "               California['San Benito County'].USDMLevelID,\n",
    "               California['Marin County'].USDMLevelID,\n",
    "               California['Stanislaus County'].USDMLevelID]\n",
    "\n"
   ]
  },
  {
   "cell_type": "code",
   "execution_count": 70,
   "metadata": {},
   "outputs": [
    {
     "ename": "TypeError",
     "evalue": "concat() takes from 1 to 10 positional arguments but 58 were given",
     "output_type": "error",
     "traceback": [
      "\u001b[0;31m---------------------------------------------------------------------------\u001b[0m",
      "\u001b[0;31mTypeError\u001b[0m                                 Traceback (most recent call last)",
      "\u001b[0;32m<ipython-input-70-990f506b8fda>\u001b[0m in \u001b[0;36m<module>\u001b[0;34m()\u001b[0m\n\u001b[1;32m     56\u001b[0m                \u001b[0mCalifornia\u001b[0m\u001b[0;34m[\u001b[0m\u001b[0;34m'San Benito County'\u001b[0m\u001b[0;34m]\u001b[0m\u001b[0;34m,\u001b[0m\u001b[0;34m\u001b[0m\u001b[0m\n\u001b[1;32m     57\u001b[0m                \u001b[0mCalifornia\u001b[0m\u001b[0;34m[\u001b[0m\u001b[0;34m'Marin County'\u001b[0m\u001b[0;34m]\u001b[0m\u001b[0;34m,\u001b[0m\u001b[0;34m\u001b[0m\u001b[0m\n\u001b[0;32m---> 58\u001b[0;31m                California['Stanislaus County'])\n\u001b[0m\u001b[1;32m     59\u001b[0m \u001b[0;34m\u001b[0m\u001b[0m\n",
      "\u001b[0;31mTypeError\u001b[0m: concat() takes from 1 to 10 positional arguments but 58 were given"
     ]
    }
   ],
   "source": [
    "USDMLevelID2=pd.concat(California['Sierra County'],\n",
    "           California['Amador County'],\n",
    "           California['Placer County'],\n",
    "           California['Alpine County'],\n",
    "           California['Santa Clara County'],\n",
    "           California['Yolo County'],\n",
    "           California['Mono County'],\n",
    "           California['Ventura County'],\n",
    "           California['Modoc County'],\n",
    "           California['Napa County'],\n",
    "           California['San Luis Obispo County'],\n",
    "           California['Los Angeles County'],\n",
    "           California['Contra Costa County'],\n",
    "           California['Yuba County'],\n",
    "           California['Solano County'],\n",
    "           California['Del Norte County'],\n",
    "             California['Riverside County'],\n",
    "             California['Monterey County'],\n",
    "             California['Plumas County'],\n",
    "               California['San Francisco County'],\n",
    "               California['Mariposa County'],\n",
    "               California['Shasta County'],\n",
    "               California['Santa Cruz County'],\n",
    "               California['Tehama County'],\n",
    "               California['Imperial County'],\n",
    "               California['Siskiyou County'],\n",
    "               California['El Dorado County'],\n",
    "               California['Mendocino County'],\n",
    "               California['Fresno County'],\n",
    "               California['San Bernardino County'],\n",
    "               California['San Joaquin County'],\n",
    "               California['Tulare County'],\n",
    "               California['Alameda County'],\n",
    "               California['Kings County'],\n",
    "               California['Butte County'],\n",
    "               California['Merced County'],\n",
    "               California['Sacramento County'],\n",
    "               California['Tuolumne County'],\n",
    "               California['Sonoma County'],\n",
    "               California['Santa Barbara County'],\n",
    "               California['Madera County'],\n",
    "               California['Lassen County'],\n",
    "               California['Glenn County'],\n",
    "               California['Sutter County'],\n",
    "               California['San Diego County'],\n",
    "               California['Lake County'],\n",
    "               California['Nevada County'],\n",
    "               California['Trinity County'],\n",
    "               California['Inyo County'],\n",
    "               California['San Mateo County'],\n",
    "               California['Orange County'],\n",
    "               California['Humboldt County'],\n",
    "               California['Colusa County'],\n",
    "               California['Calaveras County'],\n",
    "               California['Kern County'],\n",
    "               California['San Benito County'],\n",
    "               California['Marin County'],\n",
    "               California['Stanislaus County'])\n",
    "\n"
   ]
  },
  {
   "cell_type": "code",
   "execution_count": 84,
   "metadata": {},
   "outputs": [],
   "source": [
    "AGRO=pd.concat([California['Fresno County'],\n",
    "California['Tulare County'],\n",
    "California['Monterey County'],\n",
    "California['Kern County'],\n",
    "California['Merced County'],\n",
    "California['Stanislaus County'],\n",
    "California['San Joaquin County'],\n",
    "California['Ventura County'],\n",
    "California['San Diego County'],\n",
    "California['Imperial County']],axis=0)\n"
   ]
  },
  {
   "cell_type": "code",
   "execution_count": 87,
   "metadata": {},
   "outputs": [],
   "source": [
    "model=KMeans(n_clusters=10)"
   ]
  },
  {
   "cell_type": "code",
   "execution_count": 89,
   "metadata": {},
   "outputs": [
    {
     "data": {
      "text/plain": [
       "Index(['State', 'PercentCurrent', 'AreaCurrent', 'USDMLevelID', 'USDMLevel',\n",
       "       'County', 'AreaMiles', 'ReleaseDate', 'Year', 'Bioregion'],\n",
       "      dtype='object')"
      ]
     },
     "execution_count": 89,
     "metadata": {},
     "output_type": "execute_result"
    }
   ],
   "source": [
    "="
   ]
  },
  {
   "cell_type": "code",
   "execution_count": null,
   "metadata": {
    "collapsed": true
   },
   "outputs": [],
   "source": []
  }
 ],
 "metadata": {
  "kernelspec": {
   "display_name": "Python 3",
   "language": "python",
   "name": "python3"
  },
  "language_info": {
   "codemirror_mode": {
    "name": "ipython",
    "version": 3
   },
   "file_extension": ".py",
   "mimetype": "text/x-python",
   "name": "python",
   "nbconvert_exporter": "python",
   "pygments_lexer": "ipython3",
   "version": "3.6.1"
  }
 },
 "nbformat": 4,
 "nbformat_minor": 2
}
