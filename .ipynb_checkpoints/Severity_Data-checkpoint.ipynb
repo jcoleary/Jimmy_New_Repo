{
 "cells": [
  {
   "cell_type": "code",
   "execution_count": 1,
   "metadata": {
    "collapsed": true
   },
   "outputs": [],
   "source": [
    "import pandas as pd\n",
    "import numpy as np\n",
    "import matplotlib.pyplot as plt\n",
    "import seaborn as sns\n",
    "from datetime import datetime, timedelta\n",
    "from gensim import corpora, models, matutils\n",
    "from sklearn.feature_extraction.text import CountVectorizer, TfidfVectorizer\n",
    "from collections import defaultdict\n",
    "from fastdtw import fastdtw\n",
    "%matplotlib inline"
   ]
  },
  {
   "cell_type": "code",
   "execution_count": 2,
   "metadata": {
    "collapsed": true
   },
   "outputs": [],
   "source": [
    "def dateconverter(value): \n",
    "    s= str(value)\n",
    "    Date=datetime.strptime(value, '%m/%d/%y')\n",
    "    return Date"
   ]
  },
  {
   "cell_type": "code",
   "execution_count": 3,
   "metadata": {
    "collapsed": true
   },
   "outputs": [],
   "source": [
    "def get_countydict(df):\n",
    "    Counties={}\n",
    "    for value in df.County.unique():\n",
    "        Counties[value]=df.loc[df['County'] == value]\n",
    "    return Counties"
   ]
  },
  {
   "cell_type": "markdown",
   "metadata": {},
   "source": [
    "This section is EDA and cleaning of all drought severity data dealing with California."
   ]
  },
  {
   "cell_type": "code",
   "execution_count": 4,
   "metadata": {
    "collapsed": true
   },
   "outputs": [],
   "source": [
    "CA_SEV_DATA1=pd.read_csv('datasets/California_Drought_Severity_By_County_1997-2002.csv')\n",
    "CA_SEV_DATA2=pd.read_csv('datasets/California_Drought_Severity_By_County_2002-2007.csv')\n",
    "CA_SEV_DATA3=pd.read_csv('datasets/California_Drought_Severity_By_County_2007-2012.csv')\n",
    "CA_SEV_DATA4=pd.read_csv('datasets/California_Drought_Severity_By_County_2012-2017.csv')"
   ]
  },
  {
   "cell_type": "code",
   "execution_count": 5,
   "metadata": {},
   "outputs": [
    {
     "data": {
      "text/plain": [
       "(94219, 12)"
      ]
     },
     "execution_count": 5,
     "metadata": {},
     "output_type": "execute_result"
    }
   ],
   "source": [
    "California_Severity_Data=pd.concat([CA_SEV_DATA1,CA_SEV_DATA2,CA_SEV_DATA3,CA_SEV_DATA4],axis=0)\n",
    "California_Severity_Data.shape"
   ]
  },
  {
   "cell_type": "code",
   "execution_count": 6,
   "metadata": {
    "collapsed": true
   },
   "outputs": [],
   "source": [
    "California_Severity_Data.rename(columns={'Name': 'County'}, inplace=True)"
   ]
  },
  {
   "cell_type": "code",
   "execution_count": 7,
   "metadata": {
    "collapsed": true
   },
   "outputs": [],
   "source": [
    "CA_SEV_Dates=pd.DataFrame(California_Severity_Data.ReleaseDate.apply(dateconverter))"
   ]
  },
  {
   "cell_type": "code",
   "execution_count": 8,
   "metadata": {
    "collapsed": true
   },
   "outputs": [],
   "source": [
    "California_Severity_Data.ReleaseDate=CA_SEV_Dates.ReleaseDate"
   ]
  },
  {
   "cell_type": "code",
   "execution_count": 9,
   "metadata": {
    "collapsed": true
   },
   "outputs": [],
   "source": [
    "CA_years=[]\n",
    "for value in California_Severity_Data['ReleaseDate']:\n",
    "    CA_years.append(value.year)"
   ]
  },
  {
   "cell_type": "code",
   "execution_count": 10,
   "metadata": {
    "collapsed": true
   },
   "outputs": [],
   "source": [
    "CAyearsdf=pd.DataFrame(data=CA_years)"
   ]
  },
  {
   "cell_type": "code",
   "execution_count": 11,
   "metadata": {
    "collapsed": true
   },
   "outputs": [],
   "source": [
    "CAyearsdf.rename(columns={0: 'Years'}, inplace=True)"
   ]
  },
  {
   "cell_type": "code",
   "execution_count": 12,
   "metadata": {
    "collapsed": true
   },
   "outputs": [],
   "source": [
    "California_Severity_Data = California_Severity_Data.reset_index(drop=True)"
   ]
  },
  {
   "cell_type": "code",
   "execution_count": 13,
   "metadata": {
    "collapsed": true
   },
   "outputs": [],
   "source": [
    "California_Severity_Data['Year']=CAyearsdf['Years']"
   ]
  },
  {
   "cell_type": "code",
   "execution_count": 14,
   "metadata": {
    "collapsed": true
   },
   "outputs": [],
   "source": [
    "California_Severity_Data.sort_values(by='ReleaseDate',ascending=True,inplace=True)"
   ]
  },
  {
   "cell_type": "code",
   "execution_count": 15,
   "metadata": {
    "collapsed": true
   },
   "outputs": [],
   "source": [
    "California_Severity_Data.drop(['Id','PercentChangeFromWAve',\n",
    "                             'AreaChangeFromWAve','StatisticFormatID'],axis=1,\n",
    "                             inplace=True)"
   ]
  },
  {
   "cell_type": "code",
   "execution_count": 16,
   "metadata": {
    "collapsed": true
   },
   "outputs": [],
   "source": [
    "California=get_countydict(California_Severity_Data)"
   ]
  },
  {
   "cell_type": "code",
   "execution_count": 17,
   "metadata": {},
   "outputs": [
    {
     "name": "stderr",
     "output_type": "stream",
     "text": [
      "/home/ec2-user/anaconda3/lib/python3.6/site-packages/ipykernel_launcher.py:61: SettingWithCopyWarning: \n",
      "A value is trying to be set on a copy of a slice from a DataFrame.\n",
      "Try using .loc[row_indexer,col_indexer] = value instead\n",
      "\n",
      "See the caveats in the documentation: http://pandas.pydata.org/pandas-docs/stable/indexing.html#indexing-view-versus-copy\n"
     ]
    }
   ],
   "source": [
    "CABioregiondict={'Sierra County':'Sierra',\n",
    "               'Amador County':'Sierra',\n",
    "               'Placer County':'Sierra',\n",
    "               'Alpine County':'Sierra',\n",
    "               'Santa Clara County':'Bay/Delta',\n",
    "               'Yolo County':'Sacramento Valley',\n",
    "               'Mono County':'Sierra',\n",
    "               'Ventura County':'Central Coast',\n",
    "               'Modoc County':'Modoc',\n",
    "               'Napa County':'Bay/Delta',\n",
    "               'San Luis Obispo County':'Central Coast',\n",
    "               'Los Angeles County':'South Coast',\n",
    "               'Contra Costa County':'Bay/Delta',\n",
    "               'Yuba County':'Sacramento Valley',\n",
    "               'Solano County':'Bay/Delta', \n",
    "               'Del Norte County':'Klamath/North Coast',\n",
    "               'Riverside County':'Mojave',\n",
    "               'Monterey County':'Central Coast',\n",
    "               'Plumas County':'Sierra',\n",
    "               'San Francisco County':'Bay/Delta',\n",
    "               'Mariposa County':'Sierra',\n",
    "               'Shasta County':'Sacramento Valley',\n",
    "               'Santa Cruz County':'Central Coast',\n",
    "               'Tehama County':'Sacramento Valley',\n",
    "               'Imperial County':'Colorado Desert',\n",
    "               'Siskiyou County':'Klamath/North Coast',\n",
    "               'El Dorado County':'Sierra',\n",
    "               'Mendocino County':'Klamath/North Coast',\n",
    "               'Fresno County':'San Joaquin Valley',\n",
    "               'San Bernardino County':'Mojave',\n",
    "               'San Joaquin County':'San Joaquin Valley',\n",
    "               'Tulare County':'San Joaquin Valley',\n",
    "               'Alameda County':'Bay/Delta',\n",
    "               'Kings County':'San Joaquin Valley',\n",
    "               'Butte County':'Sacramento Valley',\n",
    "               'Merced County':'San Joaquin Valley',\n",
    "               'Sacramento County':'Sacramento Valley',\n",
    "               'Tuolumne County':'Sierra',\n",
    "               'Sonoma County':'Bay/Delta',\n",
    "               'Santa Barbara County':'Central Coast',\n",
    "               'Madera County':'San Joaquin Valley',\n",
    "               'Lassen County':'Modoc',\n",
    "               'Glenn County':'Sacramento Valley',\n",
    "               'Sutter County':'Sacramento Valley',\n",
    "               'San Diego County':'South Coast',\n",
    "               'Lake County':'Klamath/North Coast',\n",
    "               'Nevada County':'Sierra',\n",
    "               'Trinity County':'Klamath/North Coast',\n",
    "               'Inyo County':'Sierra',\n",
    "               'San Mateo County':'Bay/Delta',\n",
    "               'Orange County':'South Coast',\n",
    "               'Humboldt County':'Klamath/North Coast',\n",
    "               'Colusa County':'Sacramento Valley',\n",
    "               'Calaveras County':'Sierra',\n",
    "               'Kern County':'San Joaquin Valley',\n",
    "               'San Benito County':'Central Coast',\n",
    "               'Marin County':'Bay/Delta',\n",
    "               'Stanislaus County':'San Joaquin Valley'\n",
    "              }\n",
    "for key, value in CABioregiondict.items():\n",
    "    California[key]['Bioregion']=value"
   ]
  },
  {
   "cell_type": "markdown",
   "metadata": {},
   "source": [
    "This section is EDA and cleaning of all drought severity data dealing with Nebraska."
   ]
  },
  {
   "cell_type": "code",
   "execution_count": 18,
   "metadata": {
    "collapsed": true
   },
   "outputs": [],
   "source": [
    "NE_SEV_DATA1=pd.read_csv('datasets/Nebraska_Drought_Severity_By_County_1997-2002.csv')\n",
    "NE_SEV_DATA2=pd.read_csv('datasets/Nebraska_Drought_Severity_By_County_2002-2007.csv')\n",
    "NE_SEV_DATA3=pd.read_csv('datasets/Nebraska_Drought_Severity_By_County_2007-2012.csv')\n",
    "NE_SEV_DATA4=pd.read_csv('datasets/Nebraska_Drought_Severity_By_County_2012-2017.csv')"
   ]
  },
  {
   "cell_type": "code",
   "execution_count": 19,
   "metadata": {},
   "outputs": [
    {
     "data": {
      "text/plain": [
       "(117659, 12)"
      ]
     },
     "execution_count": 19,
     "metadata": {},
     "output_type": "execute_result"
    }
   ],
   "source": [
    "Nebraska_Severity_Data=pd.concat([NE_SEV_DATA1,NE_SEV_DATA2,NE_SEV_DATA3,NE_SEV_DATA4],axis=0)\n",
    "Nebraska_Severity_Data.shape"
   ]
  },
  {
   "cell_type": "code",
   "execution_count": 20,
   "metadata": {
    "collapsed": true
   },
   "outputs": [],
   "source": [
    "Nebraska_Severity_Data.rename(columns={'Name': 'County'}, inplace=True)"
   ]
  },
  {
   "cell_type": "code",
   "execution_count": 21,
   "metadata": {
    "collapsed": true
   },
   "outputs": [],
   "source": [
    "NE_SEV_Dates=pd.DataFrame(Nebraska_Severity_Data.ReleaseDate.apply(dateconverter))"
   ]
  },
  {
   "cell_type": "code",
   "execution_count": 22,
   "metadata": {
    "collapsed": true
   },
   "outputs": [],
   "source": [
    "Nebraska_Severity_Data.ReleaseDate=NE_SEV_Dates.ReleaseDate"
   ]
  },
  {
   "cell_type": "code",
   "execution_count": 23,
   "metadata": {
    "collapsed": true
   },
   "outputs": [],
   "source": [
    "NE_years=[]\n",
    "for value in Nebraska_Severity_Data['ReleaseDate']:\n",
    "   NE_years.append(value.year)"
   ]
  },
  {
   "cell_type": "code",
   "execution_count": 24,
   "metadata": {
    "collapsed": true
   },
   "outputs": [],
   "source": [
    "NEyearsdf=pd.DataFrame(data=NE_years)"
   ]
  },
  {
   "cell_type": "code",
   "execution_count": 25,
   "metadata": {
    "collapsed": true
   },
   "outputs": [],
   "source": [
    "NEyearsdf.rename(columns={0: 'Years'}, inplace=True)"
   ]
  },
  {
   "cell_type": "code",
   "execution_count": 26,
   "metadata": {
    "collapsed": true
   },
   "outputs": [],
   "source": [
    "Nebraska_Severity_Data = Nebraska_Severity_Data.reset_index(drop=True)"
   ]
  },
  {
   "cell_type": "code",
   "execution_count": 27,
   "metadata": {
    "collapsed": true
   },
   "outputs": [],
   "source": [
    "Nebraska_Severity_Data['Year']=NEyearsdf['Years']"
   ]
  },
  {
   "cell_type": "code",
   "execution_count": 28,
   "metadata": {
    "collapsed": true
   },
   "outputs": [],
   "source": [
    "Nebraska_Severity_Data.sort_values(by='ReleaseDate',ascending=True,inplace=True)"
   ]
  },
  {
   "cell_type": "code",
   "execution_count": 29,
   "metadata": {
    "collapsed": true
   },
   "outputs": [],
   "source": [
    "Nebraska_Severity_Data.drop(['Id','PercentChangeFromWAve',\n",
    "                             'AreaChangeFromWAve','StatisticFormatID'],axis=1,\n",
    "                             inplace=True)"
   ]
  },
  {
   "cell_type": "code",
   "execution_count": 30,
   "metadata": {
    "collapsed": true
   },
   "outputs": [],
   "source": [
    "Nebraska=get_countydict(Nebraska_Severity_Data)"
   ]
  },
  {
   "cell_type": "code",
   "execution_count": 31,
   "metadata": {
    "scrolled": true
   },
   "outputs": [
    {
     "name": "stderr",
     "output_type": "stream",
     "text": [
      "/home/ec2-user/anaconda3/lib/python3.6/site-packages/ipykernel_launcher.py:98: SettingWithCopyWarning: \n",
      "A value is trying to be set on a copy of a slice from a DataFrame.\n",
      "Try using .loc[row_indexer,col_indexer] = value instead\n",
      "\n",
      "See the caveats in the documentation: http://pandas.pydata.org/pandas-docs/stable/indexing.html#indexing-view-versus-copy\n"
     ]
    }
   ],
   "source": [
    "NEBioregiondict={'York County':'Tallgrass Prairie',\n",
    "                 'Cheyenne County':'Shortgrass Prairie',\n",
    "                 'Rock County':'Sandhills',\n",
    "                 'Clay County':'Tallgrass Prairie',\n",
    "                 'Richardson County':'Tallgrass Prairie',\n",
    "                 'Colfax County':'Tallgrass Prairie',\n",
    "                 'Red Willow County':'Mixedgrass Prairie',\n",
    "                 'Cuming County':'Tallgrass Prairie',\n",
    "                 'Polk County':'Tallgrass Prairie',\n",
    "                 'Custer County':'Mixedgrass Prairie',\n",
    "                 'Platte County':'Tallgrass Prairie',\n",
    "                 'Dakota County':'Tallgrass Prairie',\n",
    "                 'Pierce County':'Tallgrass Prairie',\n",
    "                 'Dawes County':'Shortgrass Prairie',\n",
    "                 'Phelps County':'Mixedgrass Prairie',\n",
    "                 'Perkins County':'Shortgrass Prairie',\n",
    "                 'Deuel County':'Shortgrass Prairie',\n",
    "                 'Pawnee County':'Tallgrass Prairie',\n",
    "                 'Dixon County':'Tallgrass Prairie',\n",
    "                 'Otoe County':'Tallgrass Prairie',\n",
    "                 'Dodge County':'Tallgrass Prairie',\n",
    "                 'Nuckolls County':'Mixedgrass Prairie',\n",
    "                 'Douglas County':'Tallgrass Prairie',\n",
    "                 'Nemaha County':'Tallgrass Prairie',\n",
    "                 'Dundy County':'Shortgrass Prairie',\n",
    "                 'Wheeler County':'Sandhills',\n",
    "                 'Nance County':'Tallgrass Prairie',\n",
    "                 'Fillmore County':'Tallgrass Prairie',\n",
    "                 'Saline County':'Tallgrass Prairie',\n",
    "                 'Morrill County':'Shortgrass Prairie',\n",
    "                 'Cherry County':'Sandhills',\n",
    "                 'Chase County':'Shortgrass Prairie',\n",
    "                 'Antelope County':'Tallgrass Prairie',\n",
    "                 'Wayne County':'Tallgrass Prairie',\n",
    "                 'Arthur County':'Sandhills',\n",
    "                 'Washington County':'Tallgrass Prairie',\n",
    "                 'Banner County':'Shortgrass Prairie',\n",
    "                 'Valley County':'Mixedgrass Prairie',\n",
    "                 'Blaine County':'Sandhills',\n",
    "                 'Thurston County':'Tallgrass Prairie',\n",
    "                 'Boone County':'Tallgrass Prairie',\n",
    "                 'Thomas County':'Sandhills',\n",
    "                 'Box Butte County':'Shortgrass Prairie',\n",
    "                 'Thayer County':'Tallgrass Prairie',\n",
    "                 'Boyd County':'Mixedgrass Prairie',\n",
    "                 'Stanton County':'Tallgrass Prairie',\n",
    "                 'Brown County':'Sandhills',\n",
    "                 'Sioux County':'Shortgrass Prairie',\n",
    "                 'Buffalo County':'Mixedgrass Prairie',\n",
    "                 'Sherman County':'Mixedgrass Prairie',\n",
    "                 'Burt County':'Tallgrass Prairie',\n",
    "                 'Sheridan County':'Sandhills',\n",
    "                 'Butler County':'Tallgrass Prairie', \n",
    "                 'Adams County':'Mixedgrass Prairie', \n",
    "                 'Seward County':'Tallgrass Prairie',\n",
    "                 'Cass County':'Tallgrass Prairie', \n",
    "                 'Scotts Bluff County':'Shortgrass Prairie',\n",
    "                 'Cedar County':'Tallgrass Prairie',\n",
    "                 'Saunders County':'Tallgrass Prairie',\n",
    "                 'Sarpy County':'Tallgrass Prairie', \n",
    "                 'Franklin County':'Mixedgrass Prairie',\n",
    "                 'Dawson County':'Mixedgrass Prairie',\n",
    "                 'Merrick County':'Mixedgrass Prairie',\n",
    "                 'Garfield County':'Sandhills',\n",
    "                 'Lincoln County':'Sandhills',\n",
    "                 'Gosper County':'Mixedgrass Prairie',\n",
    "                 'Lancaster County':'Tallgrass Prairie',\n",
    "                 'Grant County':'Sandhills',\n",
    "                 'Knox County':'Tallgrass Prairie',\n",
    "                 'Greeley County':'Mixedgrass Prairie',\n",
    "                 'Kimball County':'Shortgrass Prairie',\n",
    "                 'Hall County':'Mixedgrass Prairie',\n",
    "                 'Keya Paha County':'Mixedgrass Prairie',\n",
    "                 'Hamilton County':'Tallgrass Prairie', \n",
    "                 'Keith County':'Shortgrass Prairie', \n",
    "                 'Harlan County':'Mixedgrass Prairie',\n",
    "                 'Kearney County':'Mixedgrass Prairie',\n",
    "                 'Hayes County':'Mixedgrass Prairie', \n",
    "                 'Johnson County':'Tallgrass Prairie',\n",
    "                 'Hitchcock County':'Mixedgrass Prairie',\n",
    "                 'Jefferson County':'Tallgrass Prairie',\n",
    "                 'Holt County':'Sandhills',\n",
    "                 'Howard County':'Mixedgrass Prairie',\n",
    "                 'Hooker County':'Sandhills',\n",
    "                 'Logan County':'Sandhills',\n",
    "                 'Garden County':'Sandhills',\n",
    "                 'Webster County':'Mixedgrass Prairie',\n",
    "                 'Madison County':'Tallgrass Prairie',\n",
    "                 'Furnas County':'Mixedgrass Prairie', \n",
    "                 'Loup County':'Sandhills',\n",
    "                 'McPherson County':'Sandhills',\n",
    "                 'Gage County':'Tallgrass Prairie',\n",
    "                 'Frontier County':'Mixedgrass Prairie'\n",
    "                }\n",
    "\n",
    "\n",
    "for key, value in NEBioregiondict.items():\n",
    "    Nebraska[key]['Bioregion']=value"
   ]
  },
  {
   "cell_type": "code",
   "execution_count": 32,
   "metadata": {},
   "outputs": [
    {
     "data": {
      "text/plain": [
       "D0      34263\n",
       "D1      26680\n",
       "D2      18481\n",
       "D3       9321\n",
       "D4       5474\n",
       "Name: USDMLevel, dtype: int64"
      ]
     },
     "execution_count": 32,
     "metadata": {},
     "output_type": "execute_result"
    }
   ],
   "source": [
    "California_Severity_Data.USDMLevel.value_counts()"
   ]
  },
  {
   "cell_type": "code",
   "execution_count": 33,
   "metadata": {
    "scrolled": true
   },
   "outputs": [
    {
     "data": {
      "text/plain": [
       "(94219, 9)"
      ]
     },
     "execution_count": 33,
     "metadata": {},
     "output_type": "execute_result"
    }
   ],
   "source": [
    "California_Severity_Data.shape"
   ]
  },
  {
   "cell_type": "code",
   "execution_count": 34,
   "metadata": {},
   "outputs": [
    {
     "data": {
      "text/plain": [
       "36.36527664271538"
      ]
     },
     "execution_count": 34,
     "metadata": {},
     "output_type": "execute_result"
    }
   ],
   "source": [
    "34263/94219*100"
   ]
  },
  {
   "cell_type": "code",
   "execution_count": 35,
   "metadata": {},
   "outputs": [
    {
     "data": {
      "text/plain": [
       "28.317006124030186"
      ]
     },
     "execution_count": 35,
     "metadata": {},
     "output_type": "execute_result"
    }
   ],
   "source": [
    "26680/94219*100"
   ]
  },
  {
   "cell_type": "code",
   "execution_count": 36,
   "metadata": {},
   "outputs": [
    {
     "data": {
      "text/plain": [
       "19.614939661851643"
      ]
     },
     "execution_count": 36,
     "metadata": {},
     "output_type": "execute_result"
    }
   ],
   "source": [
    "18481/94219*100"
   ]
  },
  {
   "cell_type": "code",
   "execution_count": 37,
   "metadata": {},
   "outputs": [
    {
     "data": {
      "text/plain": [
       "9.89290907354143"
      ]
     },
     "execution_count": 37,
     "metadata": {},
     "output_type": "execute_result"
    }
   ],
   "source": [
    "9321/94219*100"
   ]
  },
  {
   "cell_type": "code",
   "execution_count": 38,
   "metadata": {},
   "outputs": [
    {
     "data": {
      "text/plain": [
       "5.809868497861365"
      ]
     },
     "execution_count": 38,
     "metadata": {},
     "output_type": "execute_result"
    }
   ],
   "source": [
    "5474/94219*100"
   ]
  },
  {
   "cell_type": "code",
   "execution_count": 39,
   "metadata": {},
   "outputs": [
    {
     "data": {
      "text/plain": [
       "D0      51665\n",
       "D1      32718\n",
       "D2      20142\n",
       "D3       9985\n",
       "D4       3149\n",
       "Name: USDMLevel, dtype: int64"
      ]
     },
     "execution_count": 39,
     "metadata": {},
     "output_type": "execute_result"
    }
   ],
   "source": [
    "Nebraska_Severity_Data.USDMLevel.value_counts()"
   ]
  },
  {
   "cell_type": "code",
   "execution_count": 40,
   "metadata": {},
   "outputs": [
    {
     "data": {
      "text/plain": [
       "(117659, 9)"
      ]
     },
     "execution_count": 40,
     "metadata": {},
     "output_type": "execute_result"
    }
   ],
   "source": [
    "Nebraska_Severity_Data.shape"
   ]
  },
  {
   "cell_type": "code",
   "execution_count": 41,
   "metadata": {},
   "outputs": [
    {
     "data": {
      "text/plain": [
       "43.910793054504964"
      ]
     },
     "execution_count": 41,
     "metadata": {},
     "output_type": "execute_result"
    }
   ],
   "source": [
    "51665/117659*100"
   ]
  },
  {
   "cell_type": "code",
   "execution_count": 42,
   "metadata": {},
   "outputs": [
    {
     "data": {
      "text/plain": [
       "27.807477541029584"
      ]
     },
     "execution_count": 42,
     "metadata": {},
     "output_type": "execute_result"
    }
   ],
   "source": [
    "32718/117659*100"
   ]
  },
  {
   "cell_type": "code",
   "execution_count": 43,
   "metadata": {},
   "outputs": [
    {
     "data": {
      "text/plain": [
       "17.11896242531383"
      ]
     },
     "execution_count": 43,
     "metadata": {},
     "output_type": "execute_result"
    }
   ],
   "source": [
    "20142/117659*100"
   ]
  },
  {
   "cell_type": "code",
   "execution_count": 44,
   "metadata": {},
   "outputs": [
    {
     "data": {
      "text/plain": [
       "8.486388631553897"
      ]
     },
     "execution_count": 44,
     "metadata": {},
     "output_type": "execute_result"
    }
   ],
   "source": [
    "9985/117659*100"
   ]
  },
  {
   "cell_type": "code",
   "execution_count": 45,
   "metadata": {},
   "outputs": [
    {
     "data": {
      "text/plain": [
       "2.6763783475977188"
      ]
     },
     "execution_count": 45,
     "metadata": {},
     "output_type": "execute_result"
    }
   ],
   "source": [
    "3149/117659*100"
   ]
  },
  {
   "cell_type": "code",
   "execution_count": 46,
   "metadata": {
    "collapsed": true,
    "scrolled": false
   },
   "outputs": [],
   "source": [
    "List_of_CA_Averages=[]\n",
    "for keys in California:\n",
    "    List_of_CA_Averages.append(California[keys].USDMLevelID.mean())"
   ]
  },
  {
   "cell_type": "code",
   "execution_count": 47,
   "metadata": {
    "collapsed": true
   },
   "outputs": [],
   "source": [
    "CA_Avg_List=pd.DataFrame(List_of_CA_Averages)"
   ]
  },
  {
   "cell_type": "code",
   "execution_count": 48,
   "metadata": {
    "collapsed": true
   },
   "outputs": [],
   "source": [
    "CA_Avg_List.rename(columns={0: 'Average'}, inplace=True)"
   ]
  },
  {
   "cell_type": "code",
   "execution_count": 49,
   "metadata": {},
   "outputs": [
    {
     "data": {
      "text/plain": [
       "2.1886447669741123"
      ]
     },
     "execution_count": 49,
     "metadata": {},
     "output_type": "execute_result"
    }
   ],
   "source": [
    "CA_Avg_List.Average.mean()"
   ]
  },
  {
   "cell_type": "code",
   "execution_count": 50,
   "metadata": {
    "collapsed": true
   },
   "outputs": [],
   "source": [
    "List_of_NE_Averages=[]\n",
    "for keys in Nebraska:\n",
    "    List_of_NE_Averages.append(Nebraska[keys].USDMLevelID.mean())"
   ]
  },
  {
   "cell_type": "code",
   "execution_count": 51,
   "metadata": {
    "collapsed": true
   },
   "outputs": [],
   "source": [
    "NE_Avg_List=pd.DataFrame(List_of_NE_Averages)"
   ]
  },
  {
   "cell_type": "code",
   "execution_count": 52,
   "metadata": {
    "collapsed": true
   },
   "outputs": [],
   "source": [
    "NE_Avg_List.rename(columns={0: 'Average'}, inplace=True)"
   ]
  },
  {
   "cell_type": "code",
   "execution_count": 53,
   "metadata": {
    "collapsed": true
   },
   "outputs": [],
   "source": [
    "CA_Bio=pd.DataFrame.from_dict(CABioregiondict,orient='index')"
   ]
  },
  {
   "cell_type": "code",
   "execution_count": 54,
   "metadata": {
    "collapsed": true
   },
   "outputs": [],
   "source": [
    "CA_Bio.rename(columns={0: 'Type'}, inplace=True)"
   ]
  },
  {
   "cell_type": "code",
   "execution_count": 55,
   "metadata": {},
   "outputs": [
    {
     "data": {
      "text/plain": [
       "Index(['Sierra County', 'Amador County', 'Placer County', 'Alpine County',\n",
       "       'Santa Clara County', 'Yolo County', 'Mono County', 'Ventura County',\n",
       "       'Modoc County', 'Napa County', 'San Luis Obispo County',\n",
       "       'Los Angeles County', 'Contra Costa County', 'Yuba County',\n",
       "       'Solano County', 'Del Norte County', 'Riverside County',\n",
       "       'Monterey County', 'Plumas County', 'San Francisco County',\n",
       "       'Mariposa County', 'Shasta County', 'Santa Cruz County',\n",
       "       'Tehama County', 'Imperial County', 'Siskiyou County',\n",
       "       'El Dorado County', 'Mendocino County', 'Fresno County',\n",
       "       'San Bernardino County', 'San Joaquin County', 'Tulare County',\n",
       "       'Alameda County', 'Kings County', 'Butte County', 'Merced County',\n",
       "       'Sacramento County', 'Tuolumne County', 'Sonoma County',\n",
       "       'Santa Barbara County', 'Madera County', 'Lassen County',\n",
       "       'Glenn County', 'Sutter County', 'San Diego County', 'Lake County',\n",
       "       'Nevada County', 'Trinity County', 'Inyo County', 'San Mateo County',\n",
       "       'Orange County', 'Humboldt County', 'Colusa County', 'Calaveras County',\n",
       "       'Kern County', 'San Benito County', 'Marin County',\n",
       "       'Stanislaus County'],\n",
       "      dtype='object')"
      ]
     },
     "execution_count": 55,
     "metadata": {},
     "output_type": "execute_result"
    }
   ],
   "source": [
    "CA_Bio.index"
   ]
  },
  {
   "cell_type": "code",
   "execution_count": 56,
   "metadata": {
    "collapsed": true
   },
   "outputs": [],
   "source": [
    "NE_Bio=pd.DataFrame.from_dict(NEBioregiondict,orient='index')"
   ]
  },
  {
   "cell_type": "code",
   "execution_count": 57,
   "metadata": {
    "collapsed": true
   },
   "outputs": [],
   "source": [
    "NE_Bio.rename(columns={0: 'Type'}, inplace=True)"
   ]
  },
  {
   "cell_type": "code",
   "execution_count": 58,
   "metadata": {},
   "outputs": [
    {
     "data": {
      "text/plain": [
       "Tallgrass Prairie     39\n",
       "Mixedgrass Prairie    24\n",
       "Sandhills             17\n",
       "Shortgrass Prairie    13\n",
       "Name: Type, dtype: int64"
      ]
     },
     "execution_count": 58,
     "metadata": {},
     "output_type": "execute_result"
    }
   ],
   "source": [
    "NE_Bio.Type.value_counts()"
   ]
  },
  {
   "cell_type": "code",
   "execution_count": 59,
   "metadata": {},
   "outputs": [
    {
     "data": {
      "text/plain": [
       "Sierra                 12\n",
       "Bay/Delta               9\n",
       "Sacramento Valley       9\n",
       "San Joaquin Valley      8\n",
       "Central Coast           6\n",
       "Klamath/North Coast     6\n",
       "South Coast             3\n",
       "Mojave                  2\n",
       "Modoc                   2\n",
       "Colorado Desert         1\n",
       "Name: Type, dtype: int64"
      ]
     },
     "execution_count": 59,
     "metadata": {},
     "output_type": "execute_result"
    }
   ],
   "source": [
    "CA_Bio.Type.value_counts()"
   ]
  },
  {
   "cell_type": "code",
   "execution_count": 60,
   "metadata": {
    "collapsed": true
   },
   "outputs": [],
   "source": [
    "CA_Bio['County']=CA_Bio.index"
   ]
  },
  {
   "cell_type": "code",
   "execution_count": 61,
   "metadata": {},
   "outputs": [
    {
     "data": {
      "text/html": [
       "<div>\n",
       "<style>\n",
       "    .dataframe thead tr:only-child th {\n",
       "        text-align: right;\n",
       "    }\n",
       "\n",
       "    .dataframe thead th {\n",
       "        text-align: left;\n",
       "    }\n",
       "\n",
       "    .dataframe tbody tr th {\n",
       "        vertical-align: top;\n",
       "    }\n",
       "</style>\n",
       "<table border=\"1\" class=\"dataframe\">\n",
       "  <thead>\n",
       "    <tr style=\"text-align: right;\">\n",
       "      <th></th>\n",
       "      <th>Type</th>\n",
       "      <th>County</th>\n",
       "    </tr>\n",
       "  </thead>\n",
       "  <tbody>\n",
       "    <tr>\n",
       "      <th>Santa Clara County</th>\n",
       "      <td>Bay/Delta</td>\n",
       "      <td>Santa Clara County</td>\n",
       "    </tr>\n",
       "    <tr>\n",
       "      <th>Napa County</th>\n",
       "      <td>Bay/Delta</td>\n",
       "      <td>Napa County</td>\n",
       "    </tr>\n",
       "    <tr>\n",
       "      <th>Contra Costa County</th>\n",
       "      <td>Bay/Delta</td>\n",
       "      <td>Contra Costa County</td>\n",
       "    </tr>\n",
       "    <tr>\n",
       "      <th>Solano County</th>\n",
       "      <td>Bay/Delta</td>\n",
       "      <td>Solano County</td>\n",
       "    </tr>\n",
       "    <tr>\n",
       "      <th>San Francisco County</th>\n",
       "      <td>Bay/Delta</td>\n",
       "      <td>San Francisco County</td>\n",
       "    </tr>\n",
       "    <tr>\n",
       "      <th>Alameda County</th>\n",
       "      <td>Bay/Delta</td>\n",
       "      <td>Alameda County</td>\n",
       "    </tr>\n",
       "    <tr>\n",
       "      <th>Sonoma County</th>\n",
       "      <td>Bay/Delta</td>\n",
       "      <td>Sonoma County</td>\n",
       "    </tr>\n",
       "    <tr>\n",
       "      <th>San Mateo County</th>\n",
       "      <td>Bay/Delta</td>\n",
       "      <td>San Mateo County</td>\n",
       "    </tr>\n",
       "    <tr>\n",
       "      <th>Marin County</th>\n",
       "      <td>Bay/Delta</td>\n",
       "      <td>Marin County</td>\n",
       "    </tr>\n",
       "  </tbody>\n",
       "</table>\n",
       "</div>"
      ],
      "text/plain": [
       "                           Type                County\n",
       "Santa Clara County    Bay/Delta    Santa Clara County\n",
       "Napa County           Bay/Delta           Napa County\n",
       "Contra Costa County   Bay/Delta   Contra Costa County\n",
       "Solano County         Bay/Delta         Solano County\n",
       "San Francisco County  Bay/Delta  San Francisco County\n",
       "Alameda County        Bay/Delta        Alameda County\n",
       "Sonoma County         Bay/Delta         Sonoma County\n",
       "San Mateo County      Bay/Delta      San Mateo County\n",
       "Marin County          Bay/Delta          Marin County"
      ]
     },
     "execution_count": 61,
     "metadata": {},
     "output_type": "execute_result"
    }
   ],
   "source": [
    "CA_Bio[CA_Bio.Type=='Bay/Delta']"
   ]
  },
  {
   "cell_type": "code",
   "execution_count": 62,
   "metadata": {},
   "outputs": [
    {
     "data": {
      "text/plain": [
       "1    648\n",
       "2    524\n",
       "3    345\n",
       "4    156\n",
       "5     88\n",
       "Name: USDMLevelID, dtype: int64"
      ]
     },
     "execution_count": 62,
     "metadata": {},
     "output_type": "execute_result"
    }
   ],
   "source": [
    "California['Nevada County'].USDMLevelID.value_counts()"
   ]
  },
  {
   "cell_type": "code",
   "execution_count": 63,
   "metadata": {},
   "outputs": [
    {
     "data": {
      "text/plain": [
       "1    774\n",
       "2    646\n",
       "3    536\n",
       "4    277\n",
       "5    130\n",
       "Name: USDMLevelID, dtype: int64"
      ]
     },
     "execution_count": 63,
     "metadata": {},
     "output_type": "execute_result"
    }
   ],
   "source": [
    "California['San Bernardino County'].USDMLevelID.value_counts()"
   ]
  },
  {
   "cell_type": "code",
   "execution_count": 64,
   "metadata": {},
   "outputs": [
    {
     "name": "stderr",
     "output_type": "stream",
     "text": [
      "/home/ec2-user/anaconda3/lib/python3.6/site-packages/matplotlib/font_manager.py:1297: UserWarning: findfont: Font family ['sans-serif'] not found. Falling back to DejaVu Sans\n",
      "  (prop.get_family(), self.defaultFamily[fontext]))\n"
     ]
    },
    {
     "data": {
      "image/png": "[encoded data removed]",
      "text/plain": [
       "<matplotlib.figure.Figure at 0x7fd38f184b70>"
      ]
     },
     "metadata": {},
     "output_type": "display_data"
    }
   ],
   "source": [
    "#Make this into a function to use for all the bioregions!\n",
    "Mojave_List=[]\n",
    "for key in California:\n",
    "    if California[key]['Bioregion'].iloc[0]=='Mojave':\n",
    "        Mojave_List.append(key)\n",
    "for item in Mojave_List:\n",
    "    plt.plot(California[item]['Year'],California[item]['USDMLevelID'])"
   ]
  },
  {
   "cell_type": "code",
   "execution_count": 65,
   "metadata": {},
   "outputs": [
    {
     "data": {
      "text/plain": [
       "[<matplotlib.lines.Line2D at 0x7fd38ee151d0>]"
      ]
     },
     "execution_count": 65,
     "metadata": {},
     "output_type": "execute_result"
    },
    {
     "name": "stderr",
     "output_type": "stream",
     "text": [
      "/home/ec2-user/anaconda3/lib/python3.6/site-packages/matplotlib/font_manager.py:1297: UserWarning: findfont: Font family ['sans-serif'] not found. Falling back to DejaVu Sans\n",
      "  (prop.get_family(), self.defaultFamily[fontext]))\n"
     ]
    },
    {
     "data": {
      "image/png": "[encoded data removed]",
      "text/plain": [
       "<matplotlib.figure.Figure at 0x7fd38f1f0c18>"
      ]
     },
     "metadata": {},
     "output_type": "display_data"
    }
   ],
   "source": [
    "plt.plot(California['San Bernardino County']['Year'],California['San Bernardino County']['USDMLevelID'])"
   ]
  },
  {
   "cell_type": "code",
   "execution_count": 66,
   "metadata": {},
   "outputs": [
    {
     "data": {
      "text/plain": [
       "[<matplotlib.lines.Line2D at 0x7fd38ed186a0>]"
      ]
     },
     "execution_count": 66,
     "metadata": {},
     "output_type": "execute_result"
    },
    {
     "name": "stderr",
     "output_type": "stream",
     "text": [
      "/home/ec2-user/anaconda3/lib/python3.6/site-packages/matplotlib/font_manager.py:1297: UserWarning: findfont: Font family ['sans-serif'] not found. Falling back to DejaVu Sans\n",
      "  (prop.get_family(), self.defaultFamily[fontext]))\n"
     ]
    },
    {
     "data": {
      "image/png": "[encoded data removed]",
      "text/plain": [
       "<matplotlib.figure.Figure at 0x7fd38f1f0a90>"
      ]
     },
     "metadata": {},
     "output_type": "display_data"
    }
   ],
   "source": [
    "plt.plot(Nebraska['Garden County']['Year'],Nebraska['Garden County']['USDMLevelID'])"
   ]
  },
  {
   "cell_type": "code",
   "execution_count": 67,
   "metadata": {
    "collapsed": true
   },
   "outputs": [],
   "source": [
    "#for key in Nebraska:\n",
    "    #print(Nebraska[key].shape)"
   ]
  },
  {
   "cell_type": "code",
   "execution_count": 147,
   "metadata": {},
   "outputs": [
    {
     "data": {
      "text/plain": [
       "10"
      ]
     },
     "execution_count": 147,
     "metadata": {},
     "output_type": "execute_result"
    }
   ],
   "source": [
    "CA_agro_counties=['Fresno County',\n",
    "'Tulare County',\n",
    "'Monterey County',\n",
    "'Kern County',\n",
    "'Merced County',\n",
    "'Stanislaus County',\n",
    "'San Joaquin County',\n",
    "'Ventura County',\n",
    "'San Diego County',\n",
    "'Imperial County']\n",
    "len(CA_agro_counties)"
   ]
  },
  {
   "cell_type": "code",
   "execution_count": 144,
   "metadata": {
    "scrolled": false
   },
   "outputs": [],
   "source": [
    "DTWvalues={}\n",
    "for value in California.keys():\n",
    "    test_list=fastdtw(California[value].USDMLevelID,\n",
    "        California['Fresno County'].USDMLevelID)\n",
    "    DTWvalues[value]=test_list[0]\n",
    "    #test_list2=test_list[1:]\n",
    "   # x = []; y=[]\n",
    "    #for point in test_list2[0]:\n",
    "       # x.append(point[0])\n",
    "        #y.append(point[1])\n",
    "    #plt.figure()\n",
    "   # plt.scatter(x,y)"
   ]
  },
  {
   "cell_type": "code",
   "execution_count": 145,
   "metadata": {},
   "outputs": [
    {
     "name": "stdout",
     "output_type": "stream",
     "text": [
      "150.0\n",
      "1030.0\n",
      "1184.0\n",
      "1195.0\n",
      "1195.0\n",
      "1212.0\n",
      "1254.0\n",
      "1136.0\n",
      "1824.0\n",
      "1944.0\n"
     ]
    }
   ],
   "source": [
    "for value in CA_agro_counties:\n",
    "    print(DTWvalues[value])"
   ]
  },
  {
   "cell_type": "code",
   "execution_count": 146,
   "metadata": {},
   "outputs": [],
   "source": [
    "DTWvalues2={}\n",
    "for value in California.keys():\n",
    "    test_list=fastdtw(California[value].USDMLevelID,\n",
    "        California['Tulare County'].USDMLevelID)\n",
    "    DTWvalues2[value]=test_list[0]"
   ]
  },
  {
   "cell_type": "code",
   "execution_count": 148,
   "metadata": {
    "collapsed": true
   },
   "outputs": [],
   "source": [
    "DTWvalues3={}\n",
    "for value in California.keys():\n",
    "    test_list=fastdtw(California[value].USDMLevelID,\n",
    "        California['Monterey County'].USDMLevelID)\n",
    "    DTWvalues3[value]=test_list[0]"
   ]
  },
  {
   "cell_type": "markdown",
   "metadata": {
    "collapsed": true
   },
   "source": [
    "'Merced County',\n",
    "'Stanislaus County',\n",
    "'San Joaquin County',\n",
    "'Ventura County',\n",
    "'',\n",
    "'Imperial County'"
   ]
  },
  {
   "cell_type": "code",
   "execution_count": 76,
   "metadata": {
    "collapsed": true
   },
   "outputs": [],
   "source": [
    "#test_list2"
   ]
  },
  {
   "cell_type": "code",
   "execution_count": 149,
   "metadata": {
    "collapsed": true
   },
   "outputs": [],
   "source": [
    "DTWvalues4={}\n",
    "for value in California.keys():\n",
    "    test_list=fastdtw(California[value].USDMLevelID,\n",
    "        California['Kern County'].USDMLevelID)\n",
    "    DTWvalues4[value]=test_list[0]"
   ]
  },
  {
   "cell_type": "code",
   "execution_count": 150,
   "metadata": {
    "collapsed": true
   },
   "outputs": [],
   "source": [
    "DTWvalues5={}\n",
    "for value in California.keys():\n",
    "    test_list=fastdtw(California[value].USDMLevelID,\n",
    "        California['Merced County'].USDMLevelID)\n",
    "    DTWvalues5[value]=test_list[0]"
   ]
  },
  {
   "cell_type": "code",
   "execution_count": 151,
   "metadata": {
    "collapsed": true
   },
   "outputs": [],
   "source": [
    "DTWvalues6={}\n",
    "for value in California.keys():\n",
    "    test_list=fastdtw(California[value].USDMLevelID,\n",
    "        California['Stanislaus County'].USDMLevelID)\n",
    "    DTWvalues6[value]=test_list[0]\n",
    "    "
   ]
  },
  {
   "cell_type": "code",
   "execution_count": 152,
   "metadata": {
    "collapsed": true
   },
   "outputs": [],
   "source": [
    "DTWvalues7={}\n",
    "for value in California.keys():\n",
    "    test_list=fastdtw(California[value].USDMLevelID,\n",
    "        California['San Joaquin County'].USDMLevelID)\n",
    "    DTWvalues7[value]=test_list[0]"
   ]
  },
  {
   "cell_type": "code",
   "execution_count": 153,
   "metadata": {
    "collapsed": true
   },
   "outputs": [],
   "source": [
    "DTWvalues8={}\n",
    "for value in California.keys():\n",
    "    test_list=fastdtw(California[value].USDMLevelID,\n",
    "        California['Ventura County'].USDMLevelID)\n",
    "    DTWvalues8[value]=test_list[0]"
   ]
  },
  {
   "cell_type": "code",
   "execution_count": 154,
   "metadata": {
    "collapsed": true
   },
   "outputs": [],
   "source": [
    "DTWvalues9={}\n",
    "for value in California.keys():\n",
    "    test_list=fastdtw(California[value].USDMLevelID,\n",
    "        California['San Diego County'].USDMLevelID)\n",
    "    DTWvalues9[value]=test_list[0]"
   ]
  },
  {
   "cell_type": "code",
   "execution_count": 83,
   "metadata": {
    "collapsed": true
   },
   "outputs": [],
   "source": [
    "print"
   ]
  },
  {
   "cell_type": "code",
   "execution_count": 84,
   "metadata": {
    "collapsed": true
   },
   "outputs": [],
   "source": [
    "test_list3=fastdtw(California['Monterey County'].USDMLevelID,California['Fresno County'].USDMLevelID)"
   ]
  },
  {
   "cell_type": "code",
   "execution_count": 158,
   "metadata": {},
   "outputs": [
    {
     "data": {
      "text/plain": [
       "'Imperial County'"
      ]
     },
     "execution_count": 158,
     "metadata": {},
     "output_type": "execute_result"
    }
   ],
   "source": [
    "max(DTWvalues, key=DTWvalues.get)"
   ]
  },
  {
   "cell_type": "code",
   "execution_count": 159,
   "metadata": {},
   "outputs": [
    {
     "data": {
      "text/plain": [
       "'San Diego County'"
      ]
     },
     "execution_count": 159,
     "metadata": {},
     "output_type": "execute_result"
    }
   ],
   "source": [
    "max(DTWvalues2, key=DTWvalues2.get)"
   ]
  },
  {
   "cell_type": "code",
   "execution_count": 160,
   "metadata": {},
   "outputs": [
    {
     "data": {
      "text/plain": [
       "'Modoc County'"
      ]
     },
     "execution_count": 160,
     "metadata": {},
     "output_type": "execute_result"
    }
   ],
   "source": [
    "max(DTWvalues3, key=DTWvalues3.get)"
   ]
  },
  {
   "cell_type": "code",
   "execution_count": 161,
   "metadata": {},
   "outputs": [
    {
     "data": {
      "text/plain": [
       "'Modoc County'"
      ]
     },
     "execution_count": 161,
     "metadata": {},
     "output_type": "execute_result"
    }
   ],
   "source": [
    "max(DTWvalues4, key=DTWvalues4.get)"
   ]
  },
  {
   "cell_type": "code",
   "execution_count": 162,
   "metadata": {},
   "outputs": [
    {
     "data": {
      "text/plain": [
       "'Modoc County'"
      ]
     },
     "execution_count": 162,
     "metadata": {},
     "output_type": "execute_result"
    }
   ],
   "source": [
    "max(DTWvalues5, key=DTWvalues5.get)"
   ]
  },
  {
   "cell_type": "code",
   "execution_count": 163,
   "metadata": {},
   "outputs": [
    {
     "data": {
      "text/plain": [
       "'Modoc County'"
      ]
     },
     "execution_count": 163,
     "metadata": {},
     "output_type": "execute_result"
    }
   ],
   "source": [
    "max(DTWvalues6, key=DTWvalues6.get)"
   ]
  },
  {
   "cell_type": "code",
   "execution_count": 164,
   "metadata": {},
   "outputs": [
    {
     "data": {
      "text/plain": [
       "'Modoc County'"
      ]
     },
     "execution_count": 164,
     "metadata": {},
     "output_type": "execute_result"
    }
   ],
   "source": [
    "max(DTWvalues7, key=DTWvalues7.get)"
   ]
  },
  {
   "cell_type": "code",
   "execution_count": 165,
   "metadata": {},
   "outputs": [
    {
     "data": {
      "text/plain": [
       "'Modoc County'"
      ]
     },
     "execution_count": 165,
     "metadata": {},
     "output_type": "execute_result"
    }
   ],
   "source": [
    "max(DTWvalues8, key=DTWvalues8.get)"
   ]
  },
  {
   "cell_type": "code",
   "execution_count": 166,
   "metadata": {},
   "outputs": [
    {
     "data": {
      "text/plain": [
       "'San Luis Obispo County'"
      ]
     },
     "execution_count": 166,
     "metadata": {},
     "output_type": "execute_result"
    }
   ],
   "source": [
    "max(DTWvalues9, key=DTWvalues9.get)"
   ]
  }
 ],
 "metadata": {
  "kernelspec": {
   "display_name": "Python 3",
   "language": "python",
   "name": "python3"
  },
  "language_info": {
   "codemirror_mode": {
    "name": "ipython",
    "version": 3
   },
   "file_extension": ".py",
   "mimetype": "text/x-python",
   "name": "python",
   "nbconvert_exporter": "python",
   "pygments_lexer": "ipython3",
   "version": "3.6.1"
  }
 },
 "nbformat": 4,
 "nbformat_minor": 2
}
