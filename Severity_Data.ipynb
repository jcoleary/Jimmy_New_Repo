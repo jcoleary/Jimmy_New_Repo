{
 "cells": [
  {
   "cell_type": "code",
   "execution_count": 1,
   "metadata": {
    "collapsed": true
   },
   "outputs": [],
   "source": [
    "import pandas as pd\n",
    "import numpy as np\n",
    "import matplotlib.pyplot as plt\n",
    "import seaborn as sns\n",
    "from datetime import datetime, timedelta\n",
    "from gensim import corpora, models, matutils\n",
    "from sklearn.feature_extraction.text import CountVectorizer, TfidfVectorizer\n",
    "from collections import defaultdict\n",
    "from fastdtw import fastdtw\n",
    "%matplotlib inline"
   ]
  },
  {
   "cell_type": "code",
   "execution_count": 2,
   "metadata": {
    "collapsed": true
   },
   "outputs": [],
   "source": [
    "def dateconverter(value): \n",
    "    s= str(value)\n",
    "    Date=datetime.strptime(value, '%m/%d/%y')\n",
    "    return Date"
   ]
  },
  {
   "cell_type": "code",
   "execution_count": 3,
   "metadata": {
    "collapsed": true
   },
   "outputs": [],
   "source": [
    "def get_countydict(df):\n",
    "    Counties={}\n",
    "    for value in df.County.unique():\n",
    "        Counties[value]=df.loc[df['County'] == value]\n",
    "    return Counties"
   ]
  },
  {
   "cell_type": "markdown",
   "metadata": {},
   "source": [
    "This section is EDA and cleaning of all drought severity data dealing with California."
   ]
  },
  {
   "cell_type": "code",
   "execution_count": 5,
   "metadata": {},
   "outputs": [
    {
     "ename": "FileNotFoundError",
     "evalue": "File b'project_capstone/part_03/datasets/California_Drought_Severity_By_County_1997-2002.csv' does not exist",
     "output_type": "error",
     "traceback": [
      "\u001b[0;31m---------------------------------------------------------------------------\u001b[0m",
      "\u001b[0;31mFileNotFoundError\u001b[0m                         Traceback (most recent call last)",
      "\u001b[0;32m<ipython-input-5-d38438c51432>\u001b[0m in \u001b[0;36m<module>\u001b[0;34m()\u001b[0m\n\u001b[0;32m----> 1\u001b[0;31m \u001b[0mCA_SEV_DATA1\u001b[0m\u001b[0;34m=\u001b[0m\u001b[0mpd\u001b[0m\u001b[0;34m.\u001b[0m\u001b[0mread_csv\u001b[0m\u001b[0;34m(\u001b[0m\u001b[0;34m'project_capstone/part_03/datasets/California_Drought_Severity_By_County_1997-2002.csv'\u001b[0m\u001b[0;34m)\u001b[0m\u001b[0;34m\u001b[0m\u001b[0m\n\u001b[0m\u001b[1;32m      2\u001b[0m \u001b[0mCA_SEV_DATA2\u001b[0m\u001b[0;34m=\u001b[0m\u001b[0mpd\u001b[0m\u001b[0;34m.\u001b[0m\u001b[0mread_csv\u001b[0m\u001b[0;34m(\u001b[0m\u001b[0;34m'project_capstone/part_03/California_Drought_Severity_By_County_2002-2007.csv'\u001b[0m\u001b[0;34m)\u001b[0m\u001b[0;34m\u001b[0m\u001b[0m\n\u001b[1;32m      3\u001b[0m \u001b[0mCA_SEV_DATA3\u001b[0m\u001b[0;34m=\u001b[0m\u001b[0mpd\u001b[0m\u001b[0;34m.\u001b[0m\u001b[0mread_csv\u001b[0m\u001b[0;34m(\u001b[0m\u001b[0;34m'project_capstone/part_03/California_Drought_Severity_By_County_2007-2012.csv'\u001b[0m\u001b[0;34m)\u001b[0m\u001b[0;34m\u001b[0m\u001b[0m\n\u001b[1;32m      4\u001b[0m \u001b[0mCA_SEV_DATA4\u001b[0m\u001b[0;34m=\u001b[0m\u001b[0mpd\u001b[0m\u001b[0;34m.\u001b[0m\u001b[0mread_csv\u001b[0m\u001b[0;34m(\u001b[0m\u001b[0;34m'project_capstone/part_03/California_Drought_Severity_By_County_2012-2017.csv'\u001b[0m\u001b[0;34m)\u001b[0m\u001b[0;34m\u001b[0m\u001b[0m\n",
      "\u001b[0;32m/home/ec2-user/anaconda3/lib/python3.6/site-packages/pandas/io/parsers.py\u001b[0m in \u001b[0;36mparser_f\u001b[0;34m(filepath_or_buffer, sep, delimiter, header, names, index_col, usecols, squeeze, prefix, mangle_dupe_cols, dtype, engine, converters, true_values, false_values, skipinitialspace, skiprows, nrows, na_values, keep_default_na, na_filter, verbose, skip_blank_lines, parse_dates, infer_datetime_format, keep_date_col, date_parser, dayfirst, iterator, chunksize, compression, thousands, decimal, lineterminator, quotechar, quoting, escapechar, comment, encoding, dialect, tupleize_cols, error_bad_lines, warn_bad_lines, skipfooter, skip_footer, doublequote, delim_whitespace, as_recarray, compact_ints, use_unsigned, low_memory, buffer_lines, memory_map, float_precision)\u001b[0m\n\u001b[1;32m    653\u001b[0m                     skip_blank_lines=skip_blank_lines)\n\u001b[1;32m    654\u001b[0m \u001b[0;34m\u001b[0m\u001b[0m\n\u001b[0;32m--> 655\u001b[0;31m         \u001b[0;32mreturn\u001b[0m \u001b[0m_read\u001b[0m\u001b[0;34m(\u001b[0m\u001b[0mfilepath_or_buffer\u001b[0m\u001b[0;34m,\u001b[0m \u001b[0mkwds\u001b[0m\u001b[0;34m)\u001b[0m\u001b[0;34m\u001b[0m\u001b[0m\n\u001b[0m\u001b[1;32m    656\u001b[0m \u001b[0;34m\u001b[0m\u001b[0m\n\u001b[1;32m    657\u001b[0m     \u001b[0mparser_f\u001b[0m\u001b[0;34m.\u001b[0m\u001b[0m__name__\u001b[0m \u001b[0;34m=\u001b[0m \u001b[0mname\u001b[0m\u001b[0;34m\u001b[0m\u001b[0m\n",
      "\u001b[0;32m/home/ec2-user/anaconda3/lib/python3.6/site-packages/pandas/io/parsers.py\u001b[0m in \u001b[0;36m_read\u001b[0;34m(filepath_or_buffer, kwds)\u001b[0m\n\u001b[1;32m    403\u001b[0m \u001b[0;34m\u001b[0m\u001b[0m\n\u001b[1;32m    404\u001b[0m     \u001b[0;31m# Create the parser.\u001b[0m\u001b[0;34m\u001b[0m\u001b[0;34m\u001b[0m\u001b[0m\n\u001b[0;32m--> 405\u001b[0;31m     \u001b[0mparser\u001b[0m \u001b[0;34m=\u001b[0m \u001b[0mTextFileReader\u001b[0m\u001b[0;34m(\u001b[0m\u001b[0mfilepath_or_buffer\u001b[0m\u001b[0;34m,\u001b[0m \u001b[0;34m**\u001b[0m\u001b[0mkwds\u001b[0m\u001b[0;34m)\u001b[0m\u001b[0;34m\u001b[0m\u001b[0m\n\u001b[0m\u001b[1;32m    406\u001b[0m \u001b[0;34m\u001b[0m\u001b[0m\n\u001b[1;32m    407\u001b[0m     \u001b[0;32mif\u001b[0m \u001b[0mchunksize\u001b[0m \u001b[0;32mor\u001b[0m \u001b[0miterator\u001b[0m\u001b[0;34m:\u001b[0m\u001b[0;34m\u001b[0m\u001b[0m\n",
      "\u001b[0;32m/home/ec2-user/anaconda3/lib/python3.6/site-packages/pandas/io/parsers.py\u001b[0m in \u001b[0;36m__init__\u001b[0;34m(self, f, engine, **kwds)\u001b[0m\n\u001b[1;32m    760\u001b[0m             \u001b[0mself\u001b[0m\u001b[0;34m.\u001b[0m\u001b[0moptions\u001b[0m\u001b[0;34m[\u001b[0m\u001b[0;34m'has_index_names'\u001b[0m\u001b[0;34m]\u001b[0m \u001b[0;34m=\u001b[0m \u001b[0mkwds\u001b[0m\u001b[0;34m[\u001b[0m\u001b[0;34m'has_index_names'\u001b[0m\u001b[0;34m]\u001b[0m\u001b[0;34m\u001b[0m\u001b[0m\n\u001b[1;32m    761\u001b[0m \u001b[0;34m\u001b[0m\u001b[0m\n\u001b[0;32m--> 762\u001b[0;31m         \u001b[0mself\u001b[0m\u001b[0;34m.\u001b[0m\u001b[0m_make_engine\u001b[0m\u001b[0;34m(\u001b[0m\u001b[0mself\u001b[0m\u001b[0;34m.\u001b[0m\u001b[0mengine\u001b[0m\u001b[0;34m)\u001b[0m\u001b[0;34m\u001b[0m\u001b[0m\n\u001b[0m\u001b[1;32m    763\u001b[0m \u001b[0;34m\u001b[0m\u001b[0m\n\u001b[1;32m    764\u001b[0m     \u001b[0;32mdef\u001b[0m \u001b[0mclose\u001b[0m\u001b[0;34m(\u001b[0m\u001b[0mself\u001b[0m\u001b[0;34m)\u001b[0m\u001b[0;34m:\u001b[0m\u001b[0;34m\u001b[0m\u001b[0m\n",
      "\u001b[0;32m/home/ec2-user/anaconda3/lib/python3.6/site-packages/pandas/io/parsers.py\u001b[0m in \u001b[0;36m_make_engine\u001b[0;34m(self, engine)\u001b[0m\n\u001b[1;32m    964\u001b[0m     \u001b[0;32mdef\u001b[0m \u001b[0m_make_engine\u001b[0m\u001b[0;34m(\u001b[0m\u001b[0mself\u001b[0m\u001b[0;34m,\u001b[0m \u001b[0mengine\u001b[0m\u001b[0;34m=\u001b[0m\u001b[0;34m'c'\u001b[0m\u001b[0;34m)\u001b[0m\u001b[0;34m:\u001b[0m\u001b[0;34m\u001b[0m\u001b[0m\n\u001b[1;32m    965\u001b[0m         \u001b[0;32mif\u001b[0m \u001b[0mengine\u001b[0m \u001b[0;34m==\u001b[0m \u001b[0;34m'c'\u001b[0m\u001b[0;34m:\u001b[0m\u001b[0;34m\u001b[0m\u001b[0m\n\u001b[0;32m--> 966\u001b[0;31m             \u001b[0mself\u001b[0m\u001b[0;34m.\u001b[0m\u001b[0m_engine\u001b[0m \u001b[0;34m=\u001b[0m \u001b[0mCParserWrapper\u001b[0m\u001b[0;34m(\u001b[0m\u001b[0mself\u001b[0m\u001b[0;34m.\u001b[0m\u001b[0mf\u001b[0m\u001b[0;34m,\u001b[0m \u001b[0;34m**\u001b[0m\u001b[0mself\u001b[0m\u001b[0;34m.\u001b[0m\u001b[0moptions\u001b[0m\u001b[0;34m)\u001b[0m\u001b[0;34m\u001b[0m\u001b[0m\n\u001b[0m\u001b[1;32m    967\u001b[0m         \u001b[0;32melse\u001b[0m\u001b[0;34m:\u001b[0m\u001b[0;34m\u001b[0m\u001b[0m\n\u001b[1;32m    968\u001b[0m             \u001b[0;32mif\u001b[0m \u001b[0mengine\u001b[0m \u001b[0;34m==\u001b[0m \u001b[0;34m'python'\u001b[0m\u001b[0;34m:\u001b[0m\u001b[0;34m\u001b[0m\u001b[0m\n",
      "\u001b[0;32m/home/ec2-user/anaconda3/lib/python3.6/site-packages/pandas/io/parsers.py\u001b[0m in \u001b[0;36m__init__\u001b[0;34m(self, src, **kwds)\u001b[0m\n\u001b[1;32m   1580\u001b[0m         \u001b[0mkwds\u001b[0m\u001b[0;34m[\u001b[0m\u001b[0;34m'allow_leading_cols'\u001b[0m\u001b[0;34m]\u001b[0m \u001b[0;34m=\u001b[0m \u001b[0mself\u001b[0m\u001b[0;34m.\u001b[0m\u001b[0mindex_col\u001b[0m \u001b[0;32mis\u001b[0m \u001b[0;32mnot\u001b[0m \u001b[0;32mFalse\u001b[0m\u001b[0;34m\u001b[0m\u001b[0m\n\u001b[1;32m   1581\u001b[0m \u001b[0;34m\u001b[0m\u001b[0m\n\u001b[0;32m-> 1582\u001b[0;31m         \u001b[0mself\u001b[0m\u001b[0;34m.\u001b[0m\u001b[0m_reader\u001b[0m \u001b[0;34m=\u001b[0m \u001b[0mparsers\u001b[0m\u001b[0;34m.\u001b[0m\u001b[0mTextReader\u001b[0m\u001b[0;34m(\u001b[0m\u001b[0msrc\u001b[0m\u001b[0;34m,\u001b[0m \u001b[0;34m**\u001b[0m\u001b[0mkwds\u001b[0m\u001b[0;34m)\u001b[0m\u001b[0;34m\u001b[0m\u001b[0m\n\u001b[0m\u001b[1;32m   1583\u001b[0m \u001b[0;34m\u001b[0m\u001b[0m\n\u001b[1;32m   1584\u001b[0m         \u001b[0;31m# XXX\u001b[0m\u001b[0;34m\u001b[0m\u001b[0;34m\u001b[0m\u001b[0m\n",
      "\u001b[0;32mpandas/_libs/parsers.pyx\u001b[0m in \u001b[0;36mpandas._libs.parsers.TextReader.__cinit__ (pandas/_libs/parsers.c:4209)\u001b[0;34m()\u001b[0m\n",
      "\u001b[0;32mpandas/_libs/parsers.pyx\u001b[0m in \u001b[0;36mpandas._libs.parsers.TextReader._setup_parser_source (pandas/_libs/parsers.c:8873)\u001b[0;34m()\u001b[0m\n",
      "\u001b[0;31mFileNotFoundError\u001b[0m: File b'project_capstone/part_03/datasets/California_Drought_Severity_By_County_1997-2002.csv' does not exist"
     ]
    }
   ],
   "source": [
    "CA_SEV_DATA1=pd.read_csv('datasets/California_Drought_Severity_By_County_1997-2002.csv')\n",
    "CA_SEV_DATA2=pd.read_csv('datasets/California_Drought_Severity_By_County_2002-2007.csv')\n",
    "CA_SEV_DATA3=pd.read_csv('datasets/California_Drought_Severity_By_County_2007-2012.csv')\n",
    "CA_SEV_DATA4=pd.read_csv('datasets/California_Drought_Severity_By_County_2012-2017.csv')"
   ]
  },
  {
   "cell_type": "code",
   "execution_count": null,
   "metadata": {},
   "outputs": [],
   "source": [
    "California_Severity_Data=pd.concat([CA_SEV_DATA1,CA_SEV_DATA2,CA_SEV_DATA3,CA_SEV_DATA4],axis=0)\n",
    "California_Severity_Data.shape"
   ]
  },
  {
   "cell_type": "code",
   "execution_count": null,
   "metadata": {
    "collapsed": true
   },
   "outputs": [],
   "source": [
    "California_Severity_Data.rename(columns={'Name': 'County'}, inplace=True)"
   ]
  },
  {
   "cell_type": "code",
   "execution_count": null,
   "metadata": {
    "collapsed": true
   },
   "outputs": [],
   "source": [
    "CA_SEV_Dates=pd.DataFrame(California_Severity_Data.ReleaseDate.apply(dateconverter))"
   ]
  },
  {
   "cell_type": "code",
   "execution_count": null,
   "metadata": {
    "collapsed": true
   },
   "outputs": [],
   "source": [
    "California_Severity_Data.ReleaseDate=CA_SEV_Dates.ReleaseDate"
   ]
  },
  {
   "cell_type": "code",
   "execution_count": null,
   "metadata": {
    "collapsed": true
   },
   "outputs": [],
   "source": [
    "CA_years=[]\n",
    "for value in California_Severity_Data['ReleaseDate']:\n",
    "    CA_years.append(value.year)"
   ]
  },
  {
   "cell_type": "code",
   "execution_count": null,
   "metadata": {
    "collapsed": true
   },
   "outputs": [],
   "source": [
    "CAyearsdf=pd.DataFrame(data=CA_years)"
   ]
  },
  {
   "cell_type": "code",
   "execution_count": null,
   "metadata": {
    "collapsed": true
   },
   "outputs": [],
   "source": [
    "CAyearsdf.rename(columns={0: 'Years'}, inplace=True)"
   ]
  },
  {
   "cell_type": "code",
   "execution_count": null,
   "metadata": {
    "collapsed": true
   },
   "outputs": [],
   "source": [
    "California_Severity_Data = California_Severity_Data.reset_index(drop=True)"
   ]
  },
  {
   "cell_type": "code",
   "execution_count": null,
   "metadata": {
    "collapsed": true
   },
   "outputs": [],
   "source": [
    "California_Severity_Data['Year']=CAyearsdf['Years']"
   ]
  },
  {
   "cell_type": "code",
   "execution_count": null,
   "metadata": {
    "collapsed": true
   },
   "outputs": [],
   "source": [
    "California_Severity_Data.sort_values(by='ReleaseDate',ascending=True,inplace=True)"
   ]
  },
  {
   "cell_type": "code",
   "execution_count": null,
   "metadata": {
    "collapsed": true
   },
   "outputs": [],
   "source": [
    "California_Severity_Data.drop(['Id','PercentChangeFromWAve',\n",
    "                             'AreaChangeFromWAve','StatisticFormatID'],axis=1,\n",
    "                             inplace=True)"
   ]
  },
  {
   "cell_type": "code",
   "execution_count": null,
   "metadata": {
    "collapsed": true
   },
   "outputs": [],
   "source": [
    "California=get_countydict(California_Severity_Data)"
   ]
  },
  {
   "cell_type": "code",
   "execution_count": null,
   "metadata": {},
   "outputs": [],
   "source": [
    "CABioregiondict={'Sierra County':'Sierra',\n",
    "               'Amador County':'Sierra',\n",
    "               'Placer County':'Sierra',\n",
    "               'Alpine County':'Sierra',\n",
    "               'Santa Clara County':'Bay/Delta',\n",
    "               'Yolo County':'Sacramento Valley',\n",
    "               'Mono County':'Sierra',\n",
    "               'Ventura County':'Central Coast',\n",
    "               'Modoc County':'Modoc',\n",
    "               'Napa County':'Bay/Delta',\n",
    "               'San Luis Obispo County':'Central Coast',\n",
    "               'Los Angeles County':'South Coast',\n",
    "               'Contra Costa County':'Bay/Delta',\n",
    "               'Yuba County':'Sacramento Valley',\n",
    "               'Solano County':'Bay/Delta', \n",
    "               'Del Norte County':'Klamath/North Coast',\n",
    "               'Riverside County':'Mojave',\n",
    "               'Monterey County':'Central Coast',\n",
    "               'Plumas County':'Sierra',\n",
    "               'San Francisco County':'Bay/Delta',\n",
    "               'Mariposa County':'Sierra',\n",
    "               'Shasta County':'Sacramento Valley',\n",
    "               'Santa Cruz County':'Central Coast',\n",
    "               'Tehama County':'Sacramento Valley',\n",
    "               'Imperial County':'Colorado Desert',\n",
    "               'Siskiyou County':'Klamath/North Coast',\n",
    "               'El Dorado County':'Sierra',\n",
    "               'Mendocino County':'Klamath/North Coast',\n",
    "               'Fresno County':'San Joaquin Valley',\n",
    "               'San Bernardino County':'Mojave',\n",
    "               'San Joaquin County':'San Joaquin Valley',\n",
    "               'Tulare County':'San Joaquin Valley',\n",
    "               'Alameda County':'Bay/Delta',\n",
    "               'Kings County':'San Joaquin Valley',\n",
    "               'Butte County':'Sacramento Valley',\n",
    "               'Merced County':'San Joaquin Valley',\n",
    "               'Sacramento County':'Sacramento Valley',\n",
    "               'Tuolumne County':'Sierra',\n",
    "               'Sonoma County':'Bay/Delta',\n",
    "               'Santa Barbara County':'Central Coast',\n",
    "               'Madera County':'San Joaquin Valley',\n",
    "               'Lassen County':'Modoc',\n",
    "               'Glenn County':'Sacramento Valley',\n",
    "               'Sutter County':'Sacramento Valley',\n",
    "               'San Diego County':'South Coast',\n",
    "               'Lake County':'Klamath/North Coast',\n",
    "               'Nevada County':'Sierra',\n",
    "               'Trinity County':'Klamath/North Coast',\n",
    "               'Inyo County':'Sierra',\n",
    "               'San Mateo County':'Bay/Delta',\n",
    "               'Orange County':'South Coast',\n",
    "               'Humboldt County':'Klamath/North Coast',\n",
    "               'Colusa County':'Sacramento Valley',\n",
    "               'Calaveras County':'Sierra',\n",
    "               'Kern County':'San Joaquin Valley',\n",
    "               'San Benito County':'Central Coast',\n",
    "               'Marin County':'Bay/Delta',\n",
    "               'Stanislaus County':'San Joaquin Valley'\n",
    "              }\n",
    "for key, value in CABioregiondict.items():\n",
    "    California[key]['Bioregion']=value"
   ]
  },
  {
   "cell_type": "markdown",
   "metadata": {},
   "source": [
    "This section is EDA and cleaning of all drought severity data dealing with Nebraska."
   ]
  },
  {
   "cell_type": "code",
   "execution_count": null,
   "metadata": {
    "collapsed": true
   },
   "outputs": [],
   "source": [
    "NE_SEV_DATA1=pd.read_csv('datasets/Nebraska_Drought_Severity_By_County_1997-2002.csv')\n",
    "NE_SEV_DATA2=pd.read_csv('datasets/Nebraska_Drought_Severity_By_County_2002-2007.csv')\n",
    "NE_SEV_DATA3=pd.read_csv('datasets/Nebraska_Drought_Severity_By_County_2007-2012.csv')\n",
    "NE_SEV_DATA4=pd.read_csv('datasets/Nebraska_Drought_Severity_By_County_2012-2017.csv')"
   ]
  },
  {
   "cell_type": "code",
   "execution_count": null,
   "metadata": {},
   "outputs": [],
   "source": [
    "Nebraska_Severity_Data=pd.concat([NE_SEV_DATA1,NE_SEV_DATA2,NE_SEV_DATA3,NE_SEV_DATA4],axis=0)\n",
    "Nebraska_Severity_Data.shape"
   ]
  },
  {
   "cell_type": "code",
   "execution_count": null,
   "metadata": {
    "collapsed": true
   },
   "outputs": [],
   "source": [
    "Nebraska_Severity_Data.rename(columns={'Name': 'County'}, inplace=True)"
   ]
  },
  {
   "cell_type": "code",
   "execution_count": null,
   "metadata": {
    "collapsed": true
   },
   "outputs": [],
   "source": [
    "NE_SEV_Dates=pd.DataFrame(Nebraska_Severity_Data.ReleaseDate.apply(dateconverter))"
   ]
  },
  {
   "cell_type": "code",
   "execution_count": null,
   "metadata": {
    "collapsed": true
   },
   "outputs": [],
   "source": [
    "Nebraska_Severity_Data.ReleaseDate=NE_SEV_Dates.ReleaseDate"
   ]
  },
  {
   "cell_type": "code",
   "execution_count": null,
   "metadata": {
    "collapsed": true
   },
   "outputs": [],
   "source": [
    "NE_years=[]\n",
    "for value in Nebraska_Severity_Data['ReleaseDate']:\n",
    "   NE_years.append(value.year)"
   ]
  },
  {
   "cell_type": "code",
   "execution_count": null,
   "metadata": {
    "collapsed": true
   },
   "outputs": [],
   "source": [
    "NEyearsdf=pd.DataFrame(data=NE_years)"
   ]
  },
  {
   "cell_type": "code",
   "execution_count": null,
   "metadata": {
    "collapsed": true
   },
   "outputs": [],
   "source": [
    "NEyearsdf.rename(columns={0: 'Years'}, inplace=True)"
   ]
  },
  {
   "cell_type": "code",
   "execution_count": null,
   "metadata": {
    "collapsed": true
   },
   "outputs": [],
   "source": [
    "Nebraska_Severity_Data = Nebraska_Severity_Data.reset_index(drop=True)"
   ]
  },
  {
   "cell_type": "code",
   "execution_count": null,
   "metadata": {
    "collapsed": true
   },
   "outputs": [],
   "source": [
    "Nebraska_Severity_Data['Year']=NEyearsdf['Years']"
   ]
  },
  {
   "cell_type": "code",
   "execution_count": null,
   "metadata": {
    "collapsed": true
   },
   "outputs": [],
   "source": [
    "Nebraska_Severity_Data.sort_values(by='ReleaseDate',ascending=True,inplace=True)"
   ]
  },
  {
   "cell_type": "code",
   "execution_count": null,
   "metadata": {
    "collapsed": true
   },
   "outputs": [],
   "source": [
    "Nebraska_Severity_Data.drop(['Id','PercentChangeFromWAve',\n",
    "                             'AreaChangeFromWAve','StatisticFormatID'],axis=1,\n",
    "                             inplace=True)"
   ]
  },
  {
   "cell_type": "code",
   "execution_count": null,
   "metadata": {
    "collapsed": true
   },
   "outputs": [],
   "source": [
    "Nebraska=get_countydict(Nebraska_Severity_Data)"
   ]
  },
  {
   "cell_type": "code",
   "execution_count": null,
   "metadata": {
    "scrolled": true
   },
   "outputs": [],
   "source": [
    "NEBioregiondict={'York County':'Tallgrass Prairie',\n",
    "                 'Cheyenne County':'Shortgrass Prairie',\n",
    "                 'Rock County':'Sandhills',\n",
    "                 'Clay County':'Tallgrass Prairie',\n",
    "                 'Richardson County':'Tallgrass Prairie',\n",
    "                 'Colfax County':'Tallgrass Prairie',\n",
    "                 'Red Willow County':'Mixedgrass Prairie',\n",
    "                 'Cuming County':'Tallgrass Prairie',\n",
    "                 'Polk County':'Tallgrass Prairie',\n",
    "                 'Custer County':'Mixedgrass Prairie',\n",
    "                 'Platte County':'Tallgrass Prairie',\n",
    "                 'Dakota County':'Tallgrass Prairie',\n",
    "                 'Pierce County':'Tallgrass Prairie',\n",
    "                 'Dawes County':'Shortgrass Prairie',\n",
    "                 'Phelps County':'Mixedgrass Prairie',\n",
    "                 'Perkins County':'Shortgrass Prairie',\n",
    "                 'Deuel County':'Shortgrass Prairie',\n",
    "                 'Pawnee County':'Tallgrass Prairie',\n",
    "                 'Dixon County':'Tallgrass Prairie',\n",
    "                 'Otoe County':'Tallgrass Prairie',\n",
    "                 'Dodge County':'Tallgrass Prairie',\n",
    "                 'Nuckolls County':'Mixedgrass Prairie',\n",
    "                 'Douglas County':'Tallgrass Prairie',\n",
    "                 'Nemaha County':'Tallgrass Prairie',\n",
    "                 'Dundy County':'Shortgrass Prairie',\n",
    "                 'Wheeler County':'Sandhills',\n",
    "                 'Nance County':'Tallgrass Prairie',\n",
    "                 'Fillmore County':'Tallgrass Prairie',\n",
    "                 'Saline County':'Tallgrass Prairie',\n",
    "                 'Morrill County':'Shortgrass Prairie',\n",
    "                 'Cherry County':'Sandhills',\n",
    "                 'Chase County':'Shortgrass Prairie',\n",
    "                 'Antelope County':'Tallgrass Prairie',\n",
    "                 'Wayne County':'Tallgrass Prairie',\n",
    "                 'Arthur County':'Sandhills',\n",
    "                 'Washington County':'Tallgrass Prairie',\n",
    "                 'Banner County':'Shortgrass Prairie',\n",
    "                 'Valley County':'Mixedgrass Prairie',\n",
    "                 'Blaine County':'Sandhills',\n",
    "                 'Thurston County':'Tallgrass Prairie',\n",
    "                 'Boone County':'Tallgrass Prairie',\n",
    "                 'Thomas County':'Sandhills',\n",
    "                 'Box Butte County':'Shortgrass Prairie',\n",
    "                 'Thayer County':'Tallgrass Prairie',\n",
    "                 'Boyd County':'Mixedgrass Prairie',\n",
    "                 'Stanton County':'Tallgrass Prairie',\n",
    "                 'Brown County':'Sandhills',\n",
    "                 'Sioux County':'Shortgrass Prairie',\n",
    "                 'Buffalo County':'Mixedgrass Prairie',\n",
    "                 'Sherman County':'Mixedgrass Prairie',\n",
    "                 'Burt County':'Tallgrass Prairie',\n",
    "                 'Sheridan County':'Sandhills',\n",
    "                 'Butler County':'Tallgrass Prairie', \n",
    "                 'Adams County':'Mixedgrass Prairie', \n",
    "                 'Seward County':'Tallgrass Prairie',\n",
    "                 'Cass County':'Tallgrass Prairie', \n",
    "                 'Scotts Bluff County':'Shortgrass Prairie',\n",
    "                 'Cedar County':'Tallgrass Prairie',\n",
    "                 'Saunders County':'Tallgrass Prairie',\n",
    "                 'Sarpy County':'Tallgrass Prairie', \n",
    "                 'Franklin County':'Mixedgrass Prairie',\n",
    "                 'Dawson County':'Mixedgrass Prairie',\n",
    "                 'Merrick County':'Mixedgrass Prairie',\n",
    "                 'Garfield County':'Sandhills',\n",
    "                 'Lincoln County':'Sandhills',\n",
    "                 'Gosper County':'Mixedgrass Prairie',\n",
    "                 'Lancaster County':'Tallgrass Prairie',\n",
    "                 'Grant County':'Sandhills',\n",
    "                 'Knox County':'Tallgrass Prairie',\n",
    "                 'Greeley County':'Mixedgrass Prairie',\n",
    "                 'Kimball County':'Shortgrass Prairie',\n",
    "                 'Hall County':'Mixedgrass Prairie',\n",
    "                 'Keya Paha County':'Mixedgrass Prairie',\n",
    "                 'Hamilton County':'Tallgrass Prairie', \n",
    "                 'Keith County':'Shortgrass Prairie', \n",
    "                 'Harlan County':'Mixedgrass Prairie',\n",
    "                 'Kearney County':'Mixedgrass Prairie',\n",
    "                 'Hayes County':'Mixedgrass Prairie', \n",
    "                 'Johnson County':'Tallgrass Prairie',\n",
    "                 'Hitchcock County':'Mixedgrass Prairie',\n",
    "                 'Jefferson County':'Tallgrass Prairie',\n",
    "                 'Holt County':'Sandhills',\n",
    "                 'Howard County':'Mixedgrass Prairie',\n",
    "                 'Hooker County':'Sandhills',\n",
    "                 'Logan County':'Sandhills',\n",
    "                 'Garden County':'Sandhills',\n",
    "                 'Webster County':'Mixedgrass Prairie',\n",
    "                 'Madison County':'Tallgrass Prairie',\n",
    "                 'Furnas County':'Mixedgrass Prairie', \n",
    "                 'Loup County':'Sandhills',\n",
    "                 'McPherson County':'Sandhills',\n",
    "                 'Gage County':'Tallgrass Prairie',\n",
    "                 'Frontier County':'Mixedgrass Prairie'\n",
    "                }\n",
    "\n",
    "\n",
    "for key, value in NEBioregiondict.items():\n",
    "    Nebraska[key]['Bioregion']=value"
   ]
  },
  {
   "cell_type": "code",
   "execution_count": null,
   "metadata": {},
   "outputs": [],
   "source": [
    "California_Severity_Data.USDMLevel.value_counts()"
   ]
  },
  {
   "cell_type": "code",
   "execution_count": null,
   "metadata": {
    "scrolled": true
   },
   "outputs": [],
   "source": [
    "California_Severity_Data.shape"
   ]
  },
  {
   "cell_type": "code",
   "execution_count": null,
   "metadata": {},
   "outputs": [],
   "source": [
    "34263/94219*100"
   ]
  },
  {
   "cell_type": "code",
   "execution_count": null,
   "metadata": {},
   "outputs": [],
   "source": [
    "26680/94219*100"
   ]
  },
  {
   "cell_type": "code",
   "execution_count": null,
   "metadata": {},
   "outputs": [],
   "source": [
    "18481/94219*100"
   ]
  },
  {
   "cell_type": "code",
   "execution_count": null,
   "metadata": {},
   "outputs": [],
   "source": [
    "9321/94219*100"
   ]
  },
  {
   "cell_type": "code",
   "execution_count": null,
   "metadata": {},
   "outputs": [],
   "source": [
    "5474/94219*100"
   ]
  },
  {
   "cell_type": "code",
   "execution_count": null,
   "metadata": {},
   "outputs": [],
   "source": [
    "Nebraska_Severity_Data.USDMLevel.value_counts()"
   ]
  },
  {
   "cell_type": "code",
   "execution_count": null,
   "metadata": {},
   "outputs": [],
   "source": [
    "Nebraska_Severity_Data.shape"
   ]
  },
  {
   "cell_type": "code",
   "execution_count": null,
   "metadata": {},
   "outputs": [],
   "source": [
    "51665/117659*100"
   ]
  },
  {
   "cell_type": "code",
   "execution_count": null,
   "metadata": {},
   "outputs": [],
   "source": [
    "32718/117659*100"
   ]
  },
  {
   "cell_type": "code",
   "execution_count": null,
   "metadata": {},
   "outputs": [],
   "source": [
    "20142/117659*100"
   ]
  },
  {
   "cell_type": "code",
   "execution_count": null,
   "metadata": {},
   "outputs": [],
   "source": [
    "9985/117659*100"
   ]
  },
  {
   "cell_type": "code",
   "execution_count": null,
   "metadata": {},
   "outputs": [],
   "source": [
    "3149/117659*100"
   ]
  },
  {
   "cell_type": "code",
   "execution_count": null,
   "metadata": {
    "collapsed": true,
    "scrolled": false
   },
   "outputs": [],
   "source": [
    "List_of_CA_Averages=[]\n",
    "for keys in California:\n",
    "    List_of_CA_Averages.append(California[keys].USDMLevelID.mean())"
   ]
  },
  {
   "cell_type": "code",
   "execution_count": null,
   "metadata": {
    "collapsed": true
   },
   "outputs": [],
   "source": [
    "CA_Avg_List=pd.DataFrame(List_of_CA_Averages)"
   ]
  },
  {
   "cell_type": "code",
   "execution_count": null,
   "metadata": {
    "collapsed": true
   },
   "outputs": [],
   "source": [
    "CA_Avg_List.rename(columns={0: 'Average'}, inplace=True)"
   ]
  },
  {
   "cell_type": "code",
   "execution_count": null,
   "metadata": {},
   "outputs": [],
   "source": [
    "CA_Avg_List.Average.mean()"
   ]
  },
  {
   "cell_type": "code",
   "execution_count": null,
   "metadata": {
    "collapsed": true
   },
   "outputs": [],
   "source": [
    "List_of_NE_Averages=[]\n",
    "for keys in Nebraska:\n",
    "    List_of_NE_Averages.append(Nebraska[keys].USDMLevelID.mean())"
   ]
  },
  {
   "cell_type": "code",
   "execution_count": null,
   "metadata": {
    "collapsed": true
   },
   "outputs": [],
   "source": [
    "NE_Avg_List=pd.DataFrame(List_of_NE_Averages)"
   ]
  },
  {
   "cell_type": "code",
   "execution_count": null,
   "metadata": {
    "collapsed": true
   },
   "outputs": [],
   "source": [
    "NE_Avg_List.rename(columns={0: 'Average'}, inplace=True)"
   ]
  },
  {
   "cell_type": "code",
   "execution_count": null,
   "metadata": {
    "collapsed": true
   },
   "outputs": [],
   "source": [
    "CA_Bio=pd.DataFrame.from_dict(CABioregiondict,orient='index')"
   ]
  },
  {
   "cell_type": "code",
   "execution_count": null,
   "metadata": {
    "collapsed": true
   },
   "outputs": [],
   "source": [
    "CA_Bio.rename(columns={0: 'Type'}, inplace=True)"
   ]
  },
  {
   "cell_type": "code",
   "execution_count": null,
   "metadata": {},
   "outputs": [],
   "source": [
    "CA_Bio.index"
   ]
  },
  {
   "cell_type": "code",
   "execution_count": null,
   "metadata": {
    "collapsed": true
   },
   "outputs": [],
   "source": [
    "NE_Bio=pd.DataFrame.from_dict(NEBioregiondict,orient='index')"
   ]
  },
  {
   "cell_type": "code",
   "execution_count": null,
   "metadata": {
    "collapsed": true
   },
   "outputs": [],
   "source": [
    "NE_Bio.rename(columns={0: 'Type'}, inplace=True)"
   ]
  },
  {
   "cell_type": "code",
   "execution_count": null,
   "metadata": {},
   "outputs": [],
   "source": [
    "NE_Bio.Type.value_counts()"
   ]
  },
  {
   "cell_type": "code",
   "execution_count": null,
   "metadata": {},
   "outputs": [],
   "source": [
    "CA_Bio.Type.value_counts()"
   ]
  },
  {
   "cell_type": "code",
   "execution_count": null,
   "metadata": {
    "collapsed": true
   },
   "outputs": [],
   "source": [
    "CA_Bio['County']=CA_Bio.index"
   ]
  },
  {
   "cell_type": "code",
   "execution_count": null,
   "metadata": {},
   "outputs": [],
   "source": [
    "CA_Bio[CA_Bio.Type=='Bay/Delta']"
   ]
  },
  {
   "cell_type": "code",
   "execution_count": null,
   "metadata": {},
   "outputs": [],
   "source": [
    "California['Nevada County'].USDMLevelID.value_counts()"
   ]
  },
  {
   "cell_type": "code",
   "execution_count": null,
   "metadata": {},
   "outputs": [],
   "source": [
    "California['San Bernardino County'].USDMLevelID.value_counts()"
   ]
  },
  {
   "cell_type": "code",
   "execution_count": null,
   "metadata": {},
   "outputs": [],
   "source": [
    "#Make this into a function to use for all the bioregions!\n",
    "Mojave_List=[]\n",
    "for key in California:\n",
    "    if California[key]['Bioregion'].iloc[0]=='Mojave':\n",
    "        Mojave_List.append(key)\n",
    "for item in Mojave_List:\n",
    "    plt.plot(California[item]['Year'],California[item]['USDMLevelID'])"
   ]
  },
  {
   "cell_type": "code",
   "execution_count": null,
   "metadata": {},
   "outputs": [],
   "source": [
    "plt.plot(California['San Bernardino County']['Year'],California['San Bernardino County']['USDMLevelID'])"
   ]
  },
  {
   "cell_type": "code",
   "execution_count": null,
   "metadata": {},
   "outputs": [],
   "source": [
    "plt.plot(Nebraska['Garden County']['Year'],Nebraska['Garden County']['USDMLevelID'])"
   ]
  },
  {
   "cell_type": "code",
   "execution_count": null,
   "metadata": {
    "collapsed": true
   },
   "outputs": [],
   "source": [
    "#for key in Nebraska:\n",
    "    #print(Nebraska[key].shape)"
   ]
  },
  {
   "cell_type": "code",
   "execution_count": null,
   "metadata": {},
   "outputs": [],
   "source": [
    "CA_agro_counties=['Fresno County',\n",
    "'Tulare County',\n",
    "'Monterey County',\n",
    "'Kern County',\n",
    "'Merced County',\n",
    "'Stanislaus County',\n",
    "'San Joaquin County',\n",
    "'Ventura County',\n",
    "'San Diego County',\n",
    "'Imperial County']\n",
    "len(CA_agro_counties)"
   ]
  },
  {
   "cell_type": "code",
   "execution_count": null,
   "metadata": {
    "collapsed": true,
    "scrolled": false
   },
   "outputs": [],
   "source": [
    "DTWvalues={}\n",
    "for value in California.keys_!='Fresno County'():\n",
    "    test_list=fastdtw(California[value].USDMLevelID,\n",
    "        California['Fresno County'].USDMLevelID)\n",
    "    DTWvalues[value]=test_list[0]\n",
    "    #test_list2=test_list[1:]\n",
    "   # x = []; y=[]\n",
    "    #for point in test_list2[0]:\n",
    "       # x.append(point[0])\n",
    "        #y.append(point[1])\n",
    "    #plt.figure()\n",
    "   # plt.scatter(x,y)"
   ]
  },
  {
   "cell_type": "code",
   "execution_count": null,
   "metadata": {},
   "outputs": [],
   "source": [
    "for value in CA_agro_counties:\n",
    "    print(DTWvalues[value])"
   ]
  },
  {
   "cell_type": "code",
   "execution_count": null,
   "metadata": {
    "collapsed": true
   },
   "outputs": [],
   "source": [
    "DTWvalues2={}\n",
    "for value in California.keys():\n",
    "    test_list=fastdtw(California[value].USDMLevelID,\n",
    "        California['Tulare County'].USDMLevelID)\n",
    "    DTWvalues2[value]=test_list[0]"
   ]
  },
  {
   "cell_type": "code",
   "execution_count": null,
   "metadata": {
    "collapsed": true
   },
   "outputs": [],
   "source": [
    "DTWvalues3={}\n",
    "for value in California.keys():\n",
    "    test_list=fastdtw(California[value].USDMLevelID,\n",
    "        California['Monterey County'].USDMLevelID)\n",
    "    DTWvalues3[value]=test_list[0]"
   ]
  },
  {
   "cell_type": "markdown",
   "metadata": {
    "collapsed": true
   },
   "source": [
    "'Merced County',\n",
    "'Stanislaus County',\n",
    "'San Joaquin County',\n",
    "'Ventura County',\n",
    "'',\n",
    "'Imperial County'"
   ]
  },
  {
   "cell_type": "code",
   "execution_count": null,
   "metadata": {
    "collapsed": true
   },
   "outputs": [],
   "source": [
    "#test_list2"
   ]
  },
  {
   "cell_type": "code",
   "execution_count": null,
   "metadata": {
    "collapsed": true
   },
   "outputs": [],
   "source": [
    "DTWvalues4={}\n",
    "for value in California.keys():\n",
    "    test_list=fastdtw(California[value].USDMLevelID,\n",
    "        California['Kern County'].USDMLevelID)\n",
    "    DTWvalues4[value]=test_list[0]"
   ]
  },
  {
   "cell_type": "code",
   "execution_count": null,
   "metadata": {
    "collapsed": true
   },
   "outputs": [],
   "source": [
    "DTWvalues5={}\n",
    "for value in California.keys():\n",
    "    test_list=fastdtw(California[value].USDMLevelID,\n",
    "        California['Merced County'].USDMLevelID)\n",
    "    DTWvalues5[value]=test_list[0]"
   ]
  },
  {
   "cell_type": "code",
   "execution_count": null,
   "metadata": {
    "collapsed": true
   },
   "outputs": [],
   "source": [
    "DTWvalues6={}\n",
    "for value in California.keys():\n",
    "    test_list=fastdtw(California[value].USDMLevelID,\n",
    "        California['Stanislaus County'].USDMLevelID)\n",
    "    DTWvalues6[value]=test_list[0]\n",
    "    "
   ]
  },
  {
   "cell_type": "code",
   "execution_count": null,
   "metadata": {
    "collapsed": true
   },
   "outputs": [],
   "source": [
    "DTWvalues7={}\n",
    "for value in California.keys():\n",
    "    test_list=fastdtw(California[value].USDMLevelID,\n",
    "        California['San Joaquin County'].USDMLevelID)\n",
    "    DTWvalues7[value]=test_list[0]"
   ]
  },
  {
   "cell_type": "code",
   "execution_count": null,
   "metadata": {
    "collapsed": true
   },
   "outputs": [],
   "source": [
    "DTWvalues8={}\n",
    "for value in California.keys():\n",
    "    test_list=fastdtw(California[value].USDMLevelID,\n",
    "        California['Ventura County'].USDMLevelID)\n",
    "    DTWvalues8[value]=test_list[0]"
   ]
  },
  {
   "cell_type": "code",
   "execution_count": null,
   "metadata": {
    "collapsed": true
   },
   "outputs": [],
   "source": [
    "DTWvalues9={}\n",
    "for value in California.keys():\n",
    "    test_list=fastdtw(California[value].USDMLevelID,\n",
    "        California['San Diego County'].USDMLevelID)\n",
    "    DTWvalues9[value]=test_list[0]"
   ]
  },
  {
   "cell_type": "code",
   "execution_count": null,
   "metadata": {
    "collapsed": true
   },
   "outputs": [],
   "source": [
    "print"
   ]
  },
  {
   "cell_type": "code",
   "execution_count": null,
   "metadata": {
    "collapsed": true
   },
   "outputs": [],
   "source": [
    "test_list3=fastdtw(California['Monterey County'].USDMLevelID,California['Fresno County'].USDMLevelID)"
   ]
  },
  {
   "cell_type": "code",
   "execution_count": null,
   "metadata": {},
   "outputs": [],
   "source": [
    "max(DTWvalues, key=DTWvalues.get)"
   ]
  },
  {
   "cell_type": "code",
   "execution_count": null,
   "metadata": {},
   "outputs": [],
   "source": [
    "max(DTWvalues2, key=DTWvalues2.get)"
   ]
  },
  {
   "cell_type": "code",
   "execution_count": null,
   "metadata": {},
   "outputs": [],
   "source": [
    "max(DTWvalues3, key=DTWvalues3.get)"
   ]
  },
  {
   "cell_type": "code",
   "execution_count": null,
   "metadata": {},
   "outputs": [],
   "source": [
    "max(DTWvalues4, key=DTWvalues4.get)"
   ]
  },
  {
   "cell_type": "code",
   "execution_count": null,
   "metadata": {},
   "outputs": [],
   "source": [
    "max(DTWvalues5, key=DTWvalues5.get)"
   ]
  },
  {
   "cell_type": "code",
   "execution_count": null,
   "metadata": {},
   "outputs": [],
   "source": [
    "max(DTWvalues6, key=DTWvalues6.get)"
   ]
  },
  {
   "cell_type": "code",
   "execution_count": null,
   "metadata": {},
   "outputs": [],
   "source": [
    "max(DTWvalues7, key=DTWvalues7.get)"
   ]
  },
  {
   "cell_type": "code",
   "execution_count": null,
   "metadata": {},
   "outputs": [],
   "source": [
    "max(DTWvalues8, key=DTWvalues8.get)"
   ]
  },
  {
   "cell_type": "code",
   "execution_count": null,
   "metadata": {},
   "outputs": [],
   "source": [
    "max(DTWvalues9, key=DTWvalues9.get)"
   ]
  }
 ],
 "metadata": {
  "kernelspec": {
   "display_name": "Python 3",
   "language": "python",
   "name": "python3"
  },
  "language_info": {
   "codemirror_mode": {
    "name": "ipython",
    "version": 3
   },
   "file_extension": ".py",
   "mimetype": "text/x-python",
   "name": "python",
   "nbconvert_exporter": "python",
   "pygments_lexer": "ipython3",
   "version": "3.6.1"
  }
 },
 "nbformat": 4,
 "nbformat_minor": 2
}
